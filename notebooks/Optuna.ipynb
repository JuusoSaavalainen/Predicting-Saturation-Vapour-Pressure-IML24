{
 "cells": [
  {
   "cell_type": "code",
   "execution_count": 48,
   "metadata": {},
   "outputs": [],
   "source": [
    "import pandas as pd\n",
    "import optuna\n",
    "import optunahub\n",
    "import lightgbm as lgb\n",
    "import numpy as np\n",
    "import matplotlib.pyplot as plt\n",
    "import seaborn as sns\n",
    "import plotly\n",
    "from sklearn.metrics import mean_squared_error, mean_absolute_error, r2_score\n",
    "from sklearn.model_selection import train_test_split, KFold, cross_val_score\n",
    "from optuna.samplers import TPESampler"
   ]
  },
  {
   "cell_type": "code",
   "execution_count": 49,
   "metadata": {},
   "outputs": [
    {
     "name": "stderr",
     "output_type": "stream",
     "text": [
      "[I 2024-11-22 02:01:36,743] A new study created in RDB with name: iml_experiment_v6\n"
     ]
    }
   ],
   "source": [
    "db_path = \"sqlite:///../Data/optuna.db\"\n",
    "study_name = \"iml_experiment_v6\"\n",
    "\n",
    "# Create a new study or load an existing one\n",
    "study = optuna.create_study(study_name=study_name,\n",
    "                            storage=db_path,\n",
    "                            load_if_exists=True,\n",
    "                            direction=\"minimize\",\n",
    "                            sampler=optunahub.load_module(\"samplers/auto_sampler\").AutoSampler()\n",
    "                            )\n",
    "\n",
    "# Load the data\n",
    "train = pd.read_csv(\"../Data/train.csv\")\n",
    "test = pd.read_csv(\"../Data/test.csv\")\n",
    "\n",
    "# Split the data\n",
    "X = train.drop(columns=[\"log_pSat_Pa\", \"ID\", \"parentspecies\"])\n",
    "y = train[\"log_pSat_Pa\"]\n",
    "train_x, test_x, train_y, test_y = train_test_split(X, y, test_size=0.25, random_state=74)"
   ]
  },
  {
   "cell_type": "code",
   "execution_count": null,
   "metadata": {},
   "outputs": [
    {
     "name": "stderr",
     "output_type": "stream",
     "text": [
      "/home/saavajuu/anaconda3/lib/python3.12/site-packages/optuna/distributions.py:708: UserWarning:\n",
      "\n",
      "The distribution is specified by [1, 100] and step=5, but the range is not divisible by `step`. It will be replaced by [1, 96].\n",
      "\n",
      "[I 2024-11-22 02:01:39,703] Trial 0 finished with value: 1.209016474540713 and parameters: {'n_estimators': 1132, 'learning_rate': 0.06372560912362601, 'subsample': 0.4282967089056134, 'subsample_freq': 2, 'feature_fraction': 0.7, 'min_child_samples': 93, 'num_leaves': 86, 'max_depth': 14, 'min_gain_to_split': 1, 'lambda_l1': 81, 'lambda_l2': 1}. Best is trial 0 with value: 1.209016474540713.\n",
      "/home/saavajuu/.cache/optunahub/api.github.com/optuna/optunahub-registry/main/package/samplers/auto_sampler/_sampler.py:164: ExperimentalWarning:\n",
      "\n",
      "GPSampler is experimental (supported from v3.6.0). The interface can change in the future.\n",
      "\n",
      "/home/saavajuu/anaconda3/lib/python3.12/site-packages/optuna/distributions.py:708: UserWarning:\n",
      "\n",
      "The distribution is specified by [1, 100] and step=5, but the range is not divisible by `step`. It will be replaced by [1, 96].\n",
      "\n",
      "[I 2024-11-22 02:01:40,367] Trial 1 finished with value: 1.2007832508761405 and parameters: {'n_estimators': 418, 'learning_rate': 0.05145390547978943, 'subsample': 0.7094023071018061, 'subsample_freq': 8, 'feature_fraction': 0.30000000000000004, 'min_child_samples': 140, 'num_leaves': 97, 'max_depth': 6, 'min_gain_to_split': 1, 'lambda_l1': 41, 'lambda_l2': 36}. Best is trial 1 with value: 1.2007832508761405.\n",
      "/home/saavajuu/anaconda3/lib/python3.12/site-packages/optuna/distributions.py:708: UserWarning:\n",
      "\n",
      "The distribution is specified by [1, 100] and step=5, but the range is not divisible by `step`. It will be replaced by [1, 96].\n",
      "\n",
      "[I 2024-11-22 02:01:41,384] Trial 2 finished with value: 1.1888124223863183 and parameters: {'n_estimators': 476, 'learning_rate': 0.01584926102341661, 'subsample': 0.4785941067603479, 'subsample_freq': 5, 'feature_fraction': 0.7, 'min_child_samples': 88, 'num_leaves': 96, 'max_depth': 9, 'min_gain_to_split': 0, 'lambda_l1': 21, 'lambda_l2': 16}. Best is trial 2 with value: 1.1888124223863183.\n",
      "/home/saavajuu/anaconda3/lib/python3.12/site-packages/optuna/distributions.py:708: UserWarning:\n",
      "\n",
      "The distribution is specified by [1, 100] and step=5, but the range is not divisible by `step`. It will be replaced by [1, 96].\n",
      "\n",
      "[I 2024-11-22 02:01:42,751] Trial 3 finished with value: 1.229472380614814 and parameters: {'n_estimators': 1042, 'learning_rate': 0.006161025774631147, 'subsample': 0.3230777276078044, 'subsample_freq': 9, 'feature_fraction': 0.8, 'min_child_samples': 65, 'num_leaves': 85, 'max_depth': 6, 'min_gain_to_split': 0, 'lambda_l1': 36, 'lambda_l2': 31}. Best is trial 2 with value: 1.1888124223863183.\n",
      "/home/saavajuu/anaconda3/lib/python3.12/site-packages/optuna/distributions.py:708: UserWarning:\n",
      "\n",
      "The distribution is specified by [1, 100] and step=5, but the range is not divisible by `step`. It will be replaced by [1, 96].\n",
      "\n",
      "[I 2024-11-22 02:01:43,930] Trial 4 finished with value: 1.1937427497290911 and parameters: {'n_estimators': 1074, 'learning_rate': 0.0818692169566804, 'subsample': 0.41344606550514706, 'subsample_freq': 1, 'feature_fraction': 0.30000000000000004, 'min_child_samples': 91, 'num_leaves': 31, 'max_depth': 12, 'min_gain_to_split': 0, 'lambda_l1': 76, 'lambda_l2': 46}. Best is trial 2 with value: 1.1888124223863183.\n",
      "/home/saavajuu/anaconda3/lib/python3.12/site-packages/optuna/distributions.py:708: UserWarning:\n",
      "\n",
      "The distribution is specified by [1, 100] and step=5, but the range is not divisible by `step`. It will be replaced by [1, 96].\n",
      "\n",
      "[I 2024-11-22 02:01:44,502] Trial 5 finished with value: 1.1900792245746714 and parameters: {'n_estimators': 285, 'learning_rate': 0.03327157525265262, 'subsample': 0.7454738195072904, 'subsample_freq': 2, 'feature_fraction': 0.9, 'min_child_samples': 52, 'num_leaves': 23, 'max_depth': 8, 'min_gain_to_split': 1, 'lambda_l1': 51, 'lambda_l2': 11}. Best is trial 2 with value: 1.1888124223863183.\n",
      "/home/saavajuu/anaconda3/lib/python3.12/site-packages/optuna/distributions.py:708: UserWarning:\n",
      "\n",
      "The distribution is specified by [1, 100] and step=5, but the range is not divisible by `step`. It will be replaced by [1, 96].\n",
      "\n",
      "[I 2024-11-22 02:01:45,514] Trial 6 finished with value: 1.178312518478116 and parameters: {'n_estimators': 929, 'learning_rate': 0.19409394285222645, 'subsample': 0.31648418512975346, 'subsample_freq': 1, 'feature_fraction': 0.6000000000000001, 'min_child_samples': 59, 'num_leaves': 83, 'max_depth': 4, 'min_gain_to_split': 0, 'lambda_l1': 51, 'lambda_l2': 91}. Best is trial 6 with value: 1.178312518478116.\n",
      "/home/saavajuu/anaconda3/lib/python3.12/site-packages/optuna/distributions.py:708: UserWarning:\n",
      "\n",
      "The distribution is specified by [1, 100] and step=5, but the range is not divisible by `step`. It will be replaced by [1, 96].\n",
      "\n",
      "[I 2024-11-22 02:01:46,033] Trial 7 finished with value: 1.6284929290952737 and parameters: {'n_estimators': 377, 'learning_rate': 0.0032117324687601432, 'subsample': 0.33705076325454303, 'subsample_freq': 10, 'feature_fraction': 0.9, 'min_child_samples': 66, 'num_leaves': 40, 'max_depth': 6, 'min_gain_to_split': 0, 'lambda_l1': 81, 'lambda_l2': 66}. Best is trial 6 with value: 1.178312518478116.\n",
      "/home/saavajuu/anaconda3/lib/python3.12/site-packages/optuna/distributions.py:708: UserWarning:\n",
      "\n",
      "The distribution is specified by [1, 100] and step=5, but the range is not divisible by `step`. It will be replaced by [1, 96].\n",
      "\n",
      "[I 2024-11-22 02:01:46,249] Trial 8 finished with value: 1.2111160825750484 and parameters: {'n_estimators': 229, 'learning_rate': 0.3154216526809063, 'subsample': 0.7248103954454064, 'subsample_freq': 5, 'feature_fraction': 0.9, 'min_child_samples': 97, 'num_leaves': 47, 'max_depth': 11, 'min_gain_to_split': 1, 'lambda_l1': 71, 'lambda_l2': 56}. Best is trial 6 with value: 1.178312518478116.\n",
      "/home/saavajuu/anaconda3/lib/python3.12/site-packages/optuna/distributions.py:708: UserWarning:\n",
      "\n",
      "The distribution is specified by [1, 100] and step=5, but the range is not divisible by `step`. It will be replaced by [1, 96].\n",
      "\n",
      "[I 2024-11-22 02:01:46,990] Trial 9 finished with value: 1.262939227836506 and parameters: {'n_estimators': 727, 'learning_rate': 0.007083168930834554, 'subsample': 0.5883869444505858, 'subsample_freq': 9, 'feature_fraction': 0.9, 'min_child_samples': 38, 'num_leaves': 82, 'max_depth': 4, 'min_gain_to_split': 0, 'lambda_l1': 56, 'lambda_l2': 16}. Best is trial 6 with value: 1.178312518478116.\n",
      "/home/saavajuu/anaconda3/lib/python3.12/site-packages/optuna/distributions.py:708: UserWarning:\n",
      "\n",
      "The distribution is specified by [1, 100] and step=5, but the range is not divisible by `step`. It will be replaced by [1, 96].\n",
      "\n",
      "[I 2024-11-22 02:01:49,852] Trial 10 finished with value: 1.1688114814109813 and parameters: {'n_estimators': 1154, 'learning_rate': 0.1522373749125133, 'subsample': 0.6772574271746918, 'subsample_freq': 3, 'feature_fraction': 0.6000000000000001, 'min_child_samples': 54, 'num_leaves': 81, 'max_depth': 5, 'min_gain_to_split': 0, 'lambda_l1': 26, 'lambda_l2': 16}. Best is trial 10 with value: 1.1688114814109813.\n",
      "/home/saavajuu/anaconda3/lib/python3.12/site-packages/optuna/distributions.py:708: UserWarning:\n",
      "\n",
      "The distribution is specified by [1, 100] and step=5, but the range is not divisible by `step`. It will be replaced by [1, 96].\n",
      "\n",
      "[I 2024-11-22 02:01:52,092] Trial 11 finished with value: 1.1945817384781188 and parameters: {'n_estimators': 804, 'learning_rate': 0.39999999999999997, 'subsample': 0.75, 'subsample_freq': 1, 'feature_fraction': 0.30000000000000004, 'min_child_samples': 86, 'num_leaves': 60, 'max_depth': 13, 'min_gain_to_split': 1, 'lambda_l1': 41, 'lambda_l2': 51}. Best is trial 10 with value: 1.1688114814109813.\n",
      "/home/saavajuu/anaconda3/lib/python3.12/site-packages/optuna/distributions.py:708: UserWarning:\n",
      "\n",
      "The distribution is specified by [1, 100] and step=5, but the range is not divisible by `step`. It will be replaced by [1, 96].\n",
      "\n",
      "[I 2024-11-22 02:01:54,584] Trial 12 finished with value: 1.2065984898162192 and parameters: {'n_estimators': 1300, 'learning_rate': 0.30249650974447245, 'subsample': 0.32854416044862905, 'subsample_freq': 7, 'feature_fraction': 0.9, 'min_child_samples': 40, 'num_leaves': 100, 'max_depth': 3, 'min_gain_to_split': 0, 'lambda_l1': 1, 'lambda_l2': 6}. Best is trial 10 with value: 1.1688114814109813.\n",
      "/home/saavajuu/anaconda3/lib/python3.12/site-packages/optuna/distributions.py:708: UserWarning:\n",
      "\n",
      "The distribution is specified by [1, 100] and step=5, but the range is not divisible by `step`. It will be replaced by [1, 96].\n",
      "\n",
      "[I 2024-11-22 02:01:56,523] Trial 13 finished with value: 1.1736037901032113 and parameters: {'n_estimators': 371, 'learning_rate': 0.39999999999999997, 'subsample': 0.75, 'subsample_freq': 1, 'feature_fraction': 0.9, 'min_child_samples': 127, 'num_leaves': 48, 'max_depth': 3, 'min_gain_to_split': 0, 'lambda_l1': 16, 'lambda_l2': 1}. Best is trial 10 with value: 1.1688114814109813.\n",
      "/home/saavajuu/anaconda3/lib/python3.12/site-packages/optuna/distributions.py:708: UserWarning:\n",
      "\n",
      "The distribution is specified by [1, 100] and step=5, but the range is not divisible by `step`. It will be replaced by [1, 96].\n",
      "\n",
      "[I 2024-11-22 02:01:58,297] Trial 14 finished with value: 1.1887268766143804 and parameters: {'n_estimators': 584, 'learning_rate': 0.39999999999999997, 'subsample': 0.75, 'subsample_freq': 1, 'feature_fraction': 0.9, 'min_child_samples': 150, 'num_leaves': 10, 'max_depth': 15, 'min_gain_to_split': 1, 'lambda_l1': 21, 'lambda_l2': 1}. Best is trial 10 with value: 1.1688114814109813.\n",
      "/home/saavajuu/anaconda3/lib/python3.12/site-packages/optuna/distributions.py:708: UserWarning:\n",
      "\n",
      "The distribution is specified by [1, 100] and step=5, but the range is not divisible by `step`. It will be replaced by [1, 96].\n",
      "\n",
      "[I 2024-11-22 02:02:00,716] Trial 15 finished with value: 1.3884439050517758 and parameters: {'n_estimators': 1300, 'learning_rate': 0.0034772754346784635, 'subsample': 0.75, 'subsample_freq': 2, 'feature_fraction': 0.2, 'min_child_samples': 15, 'num_leaves': 100, 'max_depth': 3, 'min_gain_to_split': 0, 'lambda_l1': 1, 'lambda_l2': 86}. Best is trial 10 with value: 1.1688114814109813.\n",
      "/home/saavajuu/anaconda3/lib/python3.12/site-packages/optuna/distributions.py:708: UserWarning:\n",
      "\n",
      "The distribution is specified by [1, 100] and step=5, but the range is not divisible by `step`. It will be replaced by [1, 96].\n",
      "\n",
      "[I 2024-11-22 02:02:03,648] Trial 16 finished with value: 1.1889604378716798 and parameters: {'n_estimators': 1300, 'learning_rate': 0.025680850835139626, 'subsample': 0.25, 'subsample_freq': 5, 'feature_fraction': 0.4000000000000001, 'min_child_samples': 142, 'num_leaves': 72, 'max_depth': 4, 'min_gain_to_split': 0, 'lambda_l1': 1, 'lambda_l2': 16}. Best is trial 10 with value: 1.1688114814109813.\n",
      "/home/saavajuu/anaconda3/lib/python3.12/site-packages/optuna/distributions.py:708: UserWarning:\n",
      "\n",
      "The distribution is specified by [1, 100] and step=5, but the range is not divisible by `step`. It will be replaced by [1, 96].\n",
      "\n",
      "[I 2024-11-22 02:02:06,536] Trial 17 finished with value: 1.2045606095356682 and parameters: {'n_estimators': 1300, 'learning_rate': 0.39999999999999997, 'subsample': 0.25, 'subsample_freq': 1, 'feature_fraction': 0.9, 'min_child_samples': 123, 'num_leaves': 100, 'max_depth': 3, 'min_gain_to_split': 0, 'lambda_l1': 16, 'lambda_l2': 56}. Best is trial 10 with value: 1.1688114814109813.\n",
      "/home/saavajuu/anaconda3/lib/python3.12/site-packages/optuna/distributions.py:708: UserWarning:\n",
      "\n",
      "The distribution is specified by [1, 100] and step=5, but the range is not divisible by `step`. It will be replaced by [1, 96].\n",
      "\n",
      "[I 2024-11-22 02:02:08,730] Trial 18 finished with value: 1.1965454632559405 and parameters: {'n_estimators': 100, 'learning_rate': 0.14982853808256985, 'subsample': 0.4778553674162124, 'subsample_freq': 1, 'feature_fraction': 0.2, 'min_child_samples': 51, 'num_leaves': 42, 'max_depth': 13, 'min_gain_to_split': 0, 'lambda_l1': 1, 'lambda_l2': 21}. Best is trial 10 with value: 1.1688114814109813.\n",
      "/home/saavajuu/anaconda3/lib/python3.12/site-packages/optuna/distributions.py:708: UserWarning:\n",
      "\n",
      "The distribution is specified by [1, 100] and step=5, but the range is not divisible by `step`. It will be replaced by [1, 96].\n",
      "\n",
      "[I 2024-11-22 02:02:12,662] Trial 19 finished with value: 1.186927948603861 and parameters: {'n_estimators': 1300, 'learning_rate': 0.061021755473796714, 'subsample': 0.75, 'subsample_freq': 1, 'feature_fraction': 0.9, 'min_child_samples': 150, 'num_leaves': 100, 'max_depth': 15, 'min_gain_to_split': 0, 'lambda_l1': 1, 'lambda_l2': 26}. Best is trial 10 with value: 1.1688114814109813.\n",
      "/home/saavajuu/anaconda3/lib/python3.12/site-packages/optuna/distributions.py:708: UserWarning:\n",
      "\n",
      "The distribution is specified by [1, 100] and step=5, but the range is not divisible by `step`. It will be replaced by [1, 96].\n",
      "\n",
      "[I 2024-11-22 02:02:14,528] Trial 20 finished with value: 1.2282535814603592 and parameters: {'n_estimators': 1246, 'learning_rate': 0.39999999999999997, 'subsample': 0.75, 'subsample_freq': 1, 'feature_fraction': 0.2, 'min_child_samples': 150, 'num_leaves': 2, 'max_depth': 3, 'min_gain_to_split': 0, 'lambda_l1': 96, 'lambda_l2': 21}. Best is trial 10 with value: 1.1688114814109813.\n",
      "/home/saavajuu/anaconda3/lib/python3.12/site-packages/optuna/distributions.py:708: UserWarning:\n",
      "\n",
      "The distribution is specified by [1, 100] and step=5, but the range is not divisible by `step`. It will be replaced by [1, 96].\n",
      "\n",
      "[I 2024-11-22 02:02:17,100] Trial 21 finished with value: 1.211704941955716 and parameters: {'n_estimators': 1300, 'learning_rate': 0.39999999999999997, 'subsample': 0.25, 'subsample_freq': 1, 'feature_fraction': 0.2, 'min_child_samples': 15, 'num_leaves': 100, 'max_depth': 15, 'min_gain_to_split': 1, 'lambda_l1': 16, 'lambda_l2': 96}. Best is trial 10 with value: 1.1688114814109813.\n",
      "/home/saavajuu/anaconda3/lib/python3.12/site-packages/optuna/distributions.py:708: UserWarning:\n",
      "\n",
      "The distribution is specified by [1, 100] and step=5, but the range is not divisible by `step`. It will be replaced by [1, 96].\n",
      "\n",
      "[I 2024-11-22 02:02:21,149] Trial 22 finished with value: 1.170722581567244 and parameters: {'n_estimators': 1300, 'learning_rate': 0.03847803388345523, 'subsample': 0.3696926115402241, 'subsample_freq': 1, 'feature_fraction': 0.5000000000000001, 'min_child_samples': 15, 'num_leaves': 100, 'max_depth': 7, 'min_gain_to_split': 1, 'lambda_l1': 1, 'lambda_l2': 26}. Best is trial 10 with value: 1.1688114814109813.\n",
      "/home/saavajuu/anaconda3/lib/python3.12/site-packages/optuna/distributions.py:708: UserWarning:\n",
      "\n",
      "The distribution is specified by [1, 100] and step=5, but the range is not divisible by `step`. It will be replaced by [1, 96].\n",
      "\n",
      "[I 2024-11-22 02:02:23,302] Trial 23 finished with value: 1.1821697159167408 and parameters: {'n_estimators': 1300, 'learning_rate': 0.39999999999999997, 'subsample': 0.75, 'subsample_freq': 1, 'feature_fraction': 0.6000000000000001, 'min_child_samples': 150, 'num_leaves': 100, 'max_depth': 3, 'min_gain_to_split': 0, 'lambda_l1': 96, 'lambda_l2': 96}. Best is trial 10 with value: 1.1688114814109813.\n",
      "/home/saavajuu/anaconda3/lib/python3.12/site-packages/optuna/distributions.py:708: UserWarning:\n",
      "\n",
      "The distribution is specified by [1, 100] and step=5, but the range is not divisible by `step`. It will be replaced by [1, 96].\n",
      "\n",
      "[I 2024-11-22 02:02:24,681] Trial 24 finished with value: 1.2077815416779905 and parameters: {'n_estimators': 100, 'learning_rate': 0.12519366661718545, 'subsample': 0.75, 'subsample_freq': 1, 'feature_fraction': 0.9, 'min_child_samples': 86, 'num_leaves': 100, 'max_depth': 3, 'min_gain_to_split': 1, 'lambda_l1': 1, 'lambda_l2': 16}. Best is trial 10 with value: 1.1688114814109813.\n",
      "/home/saavajuu/anaconda3/lib/python3.12/site-packages/optuna/distributions.py:708: UserWarning:\n",
      "\n",
      "The distribution is specified by [1, 100] and step=5, but the range is not divisible by `step`. It will be replaced by [1, 96].\n",
      "\n",
      "[I 2024-11-22 02:02:29,266] Trial 25 finished with value: 1.1827765534704182 and parameters: {'n_estimators': 1300, 'learning_rate': 0.053285969262915366, 'subsample': 0.5734902709536133, 'subsample_freq': 8, 'feature_fraction': 0.2, 'min_child_samples': 15, 'num_leaves': 100, 'max_depth': 15, 'min_gain_to_split': 0, 'lambda_l1': 6, 'lambda_l2': 26}. Best is trial 10 with value: 1.1688114814109813.\n",
      "/home/saavajuu/anaconda3/lib/python3.12/site-packages/optuna/distributions.py:708: UserWarning:\n",
      "\n",
      "The distribution is specified by [1, 100] and step=5, but the range is not divisible by `step`. It will be replaced by [1, 96].\n",
      "\n",
      "[I 2024-11-22 02:02:30,436] Trial 26 finished with value: 1.300796530239483 and parameters: {'n_estimators': 100, 'learning_rate': 0.39999999999999997, 'subsample': 0.25, 'subsample_freq': 1, 'feature_fraction': 0.2, 'min_child_samples': 150, 'num_leaves': 2, 'max_depth': 3, 'min_gain_to_split': 0, 'lambda_l1': 76, 'lambda_l2': 96}. Best is trial 10 with value: 1.1688114814109813.\n",
      "/home/saavajuu/anaconda3/lib/python3.12/site-packages/optuna/distributions.py:708: UserWarning:\n",
      "\n",
      "The distribution is specified by [1, 100] and step=5, but the range is not divisible by `step`. It will be replaced by [1, 96].\n",
      "\n",
      "[I 2024-11-22 02:02:32,627] Trial 27 finished with value: 1.2166173671633735 and parameters: {'n_estimators': 1300, 'learning_rate': 0.1291115795365697, 'subsample': 0.75, 'subsample_freq': 1, 'feature_fraction': 0.9, 'min_child_samples': 15, 'num_leaves': 2, 'max_depth': 3, 'min_gain_to_split': 0, 'lambda_l1': 1, 'lambda_l2': 1}. Best is trial 10 with value: 1.1688114814109813.\n",
      "/home/saavajuu/anaconda3/lib/python3.12/site-packages/optuna/distributions.py:708: UserWarning:\n",
      "\n",
      "The distribution is specified by [1, 100] and step=5, but the range is not divisible by `step`. It will be replaced by [1, 96].\n",
      "\n",
      "[I 2024-11-22 02:02:35,360] Trial 28 finished with value: 1.169070950432745 and parameters: {'n_estimators': 1300, 'learning_rate': 0.39999999999999997, 'subsample': 0.6215810678366773, 'subsample_freq': 1, 'feature_fraction': 0.9, 'min_child_samples': 15, 'num_leaves': 100, 'max_depth': 3, 'min_gain_to_split': 0, 'lambda_l1': 81, 'lambda_l2': 81}. Best is trial 10 with value: 1.1688114814109813.\n",
      "/home/saavajuu/anaconda3/lib/python3.12/site-packages/optuna/distributions.py:708: UserWarning:\n",
      "\n",
      "The distribution is specified by [1, 100] and step=5, but the range is not divisible by `step`. It will be replaced by [1, 96].\n",
      "\n",
      "[I 2024-11-22 02:02:38,879] Trial 29 finished with value: 1.1822005899681758 and parameters: {'n_estimators': 1300, 'learning_rate': 0.14234576165469287, 'subsample': 0.4479292711071723, 'subsample_freq': 1, 'feature_fraction': 0.4000000000000001, 'min_child_samples': 15, 'num_leaves': 100, 'max_depth': 11, 'min_gain_to_split': 0, 'lambda_l1': 86, 'lambda_l2': 36}. Best is trial 10 with value: 1.1688114814109813.\n",
      "/home/saavajuu/anaconda3/lib/python3.12/site-packages/optuna/distributions.py:708: UserWarning:\n",
      "\n",
      "The distribution is specified by [1, 100] and step=5, but the range is not divisible by `step`. It will be replaced by [1, 96].\n",
      "\n",
      "[I 2024-11-22 02:02:42,435] Trial 30 finished with value: 1.1796331580551944 and parameters: {'n_estimators': 741, 'learning_rate': 0.0644404446048114, 'subsample': 0.5632270348291036, 'subsample_freq': 3, 'feature_fraction': 0.6000000000000001, 'min_child_samples': 34, 'num_leaves': 100, 'max_depth': 8, 'min_gain_to_split': 0, 'lambda_l1': 1, 'lambda_l2': 16}. Best is trial 10 with value: 1.1688114814109813.\n",
      "/home/saavajuu/anaconda3/lib/python3.12/site-packages/optuna/distributions.py:708: UserWarning:\n",
      "\n",
      "The distribution is specified by [1, 100] and step=5, but the range is not divisible by `step`. It will be replaced by [1, 96].\n",
      "\n",
      "[I 2024-11-22 02:02:45,677] Trial 31 finished with value: 1.2391069439547433 and parameters: {'n_estimators': 1300, 'learning_rate': 0.0074928350220222215, 'subsample': 0.25, 'subsample_freq': 1, 'feature_fraction': 0.2, 'min_child_samples': 141, 'num_leaves': 100, 'max_depth': 15, 'min_gain_to_split': 1, 'lambda_l1': 1, 'lambda_l2': 21}. Best is trial 10 with value: 1.1688114814109813.\n",
      "/home/saavajuu/anaconda3/lib/python3.12/site-packages/optuna/distributions.py:708: UserWarning:\n",
      "\n",
      "The distribution is specified by [1, 100] and step=5, but the range is not divisible by `step`. It will be replaced by [1, 96].\n",
      "\n",
      "[I 2024-11-22 02:02:48,809] Trial 32 finished with value: 1.1761494562606662 and parameters: {'n_estimators': 1101, 'learning_rate': 0.06274507245906052, 'subsample': 0.25, 'subsample_freq': 5, 'feature_fraction': 0.9, 'min_child_samples': 60, 'num_leaves': 61, 'max_depth': 9, 'min_gain_to_split': 0, 'lambda_l1': 31, 'lambda_l2': 26}. Best is trial 10 with value: 1.1688114814109813.\n",
      "/home/saavajuu/anaconda3/lib/python3.12/site-packages/optuna/distributions.py:708: UserWarning:\n",
      "\n",
      "The distribution is specified by [1, 100] and step=5, but the range is not divisible by `step`. It will be replaced by [1, 96].\n",
      "\n",
      "[I 2024-11-22 02:02:50,163] Trial 33 finished with value: 1.2014790434893412 and parameters: {'n_estimators': 100, 'learning_rate': 0.39999999999999997, 'subsample': 0.75, 'subsample_freq': 10, 'feature_fraction': 0.9, 'min_child_samples': 150, 'num_leaves': 100, 'max_depth': 15, 'min_gain_to_split': 0, 'lambda_l1': 96, 'lambda_l2': 1}. Best is trial 10 with value: 1.1688114814109813.\n",
      "/home/saavajuu/anaconda3/lib/python3.12/site-packages/optuna/distributions.py:708: UserWarning:\n",
      "\n",
      "The distribution is specified by [1, 100] and step=5, but the range is not divisible by `step`. It will be replaced by [1, 96].\n",
      "\n",
      "[I 2024-11-22 02:02:52,555] Trial 34 finished with value: 1.1735602659856563 and parameters: {'n_estimators': 1300, 'learning_rate': 0.08885305468783633, 'subsample': 0.75, 'subsample_freq': 1, 'feature_fraction': 0.2, 'min_child_samples': 15, 'num_leaves': 73, 'max_depth': 3, 'min_gain_to_split': 0, 'lambda_l1': 1, 'lambda_l2': 36}. Best is trial 10 with value: 1.1688114814109813.\n",
      "/home/saavajuu/anaconda3/lib/python3.12/site-packages/optuna/distributions.py:708: UserWarning:\n",
      "\n",
      "The distribution is specified by [1, 100] and step=5, but the range is not divisible by `step`. It will be replaced by [1, 96].\n",
      "\n",
      "[I 2024-11-22 02:02:54,892] Trial 35 finished with value: 1.2007885357250634 and parameters: {'n_estimators': 1105, 'learning_rate': 0.05336473895967811, 'subsample': 0.3805755962781995, 'subsample_freq': 1, 'feature_fraction': 0.2, 'min_child_samples': 80, 'num_leaves': 100, 'max_depth': 3, 'min_gain_to_split': 0, 'lambda_l1': 51, 'lambda_l2': 26}. Best is trial 10 with value: 1.1688114814109813.\n",
      "/home/saavajuu/anaconda3/lib/python3.12/site-packages/optuna/distributions.py:708: UserWarning:\n",
      "\n",
      "The distribution is specified by [1, 100] and step=5, but the range is not divisible by `step`. It will be replaced by [1, 96].\n",
      "\n",
      "[I 2024-11-22 02:02:57,054] Trial 36 finished with value: 1.1720601877307208 and parameters: {'n_estimators': 1300, 'learning_rate': 0.26935122527860283, 'subsample': 0.75, 'subsample_freq': 1, 'feature_fraction': 0.9, 'min_child_samples': 15, 'num_leaves': 100, 'max_depth': 3, 'min_gain_to_split': 0, 'lambda_l1': 1, 'lambda_l2': 96}. Best is trial 10 with value: 1.1688114814109813.\n",
      "/home/saavajuu/anaconda3/lib/python3.12/site-packages/optuna/distributions.py:708: UserWarning:\n",
      "\n",
      "The distribution is specified by [1, 100] and step=5, but the range is not divisible by `step`. It will be replaced by [1, 96].\n",
      "\n",
      "[I 2024-11-22 02:03:00,019] Trial 37 finished with value: 1.192787137933323 and parameters: {'n_estimators': 1300, 'learning_rate': 0.11555691271243547, 'subsample': 0.75, 'subsample_freq': 4, 'feature_fraction': 0.7000000000000002, 'min_child_samples': 15, 'num_leaves': 49, 'max_depth': 12, 'min_gain_to_split': 1, 'lambda_l1': 1, 'lambda_l2': 31}. Best is trial 10 with value: 1.1688114814109813.\n",
      "/home/saavajuu/anaconda3/lib/python3.12/site-packages/optuna/distributions.py:708: UserWarning:\n",
      "\n",
      "The distribution is specified by [1, 100] and step=5, but the range is not divisible by `step`. It will be replaced by [1, 96].\n",
      "\n",
      "[I 2024-11-22 02:03:02,800] Trial 38 finished with value: 1.1628765704907045 and parameters: {'n_estimators': 1300, 'learning_rate': 0.22932204526407007, 'subsample': 0.75, 'subsample_freq': 1, 'feature_fraction': 0.2, 'min_child_samples': 15, 'num_leaves': 100, 'max_depth': 3, 'min_gain_to_split': 0, 'lambda_l1': 6, 'lambda_l2': 76}. Best is trial 38 with value: 1.1628765704907045.\n",
      "/home/saavajuu/anaconda3/lib/python3.12/site-packages/optuna/distributions.py:708: UserWarning:\n",
      "\n",
      "The distribution is specified by [1, 100] and step=5, but the range is not divisible by `step`. It will be replaced by [1, 96].\n",
      "\n",
      "[I 2024-11-22 02:03:04,755] Trial 39 finished with value: 1.2002023386740515 and parameters: {'n_estimators': 538, 'learning_rate': 0.0883693168148706, 'subsample': 0.75, 'subsample_freq': 1, 'feature_fraction': 0.9, 'min_child_samples': 150, 'num_leaves': 26, 'max_depth': 15, 'min_gain_to_split': 1, 'lambda_l1': 96, 'lambda_l2': 1}. Best is trial 38 with value: 1.1628765704907045.\n",
      "/home/saavajuu/anaconda3/lib/python3.12/site-packages/optuna/distributions.py:708: UserWarning:\n",
      "\n",
      "The distribution is specified by [1, 100] and step=5, but the range is not divisible by `step`. It will be replaced by [1, 96].\n",
      "\n",
      "[I 2024-11-22 02:03:06,764] Trial 40 finished with value: 1.1774015838759735 and parameters: {'n_estimators': 1300, 'learning_rate': 0.016332203479093428, 'subsample': 0.25, 'subsample_freq': 10, 'feature_fraction': 0.9, 'min_child_samples': 15, 'num_leaves': 100, 'max_depth': 4, 'min_gain_to_split': 0, 'lambda_l1': 1, 'lambda_l2': 1}. Best is trial 38 with value: 1.1628765704907045.\n",
      "/home/saavajuu/anaconda3/lib/python3.12/site-packages/optuna/distributions.py:708: UserWarning:\n",
      "\n",
      "The distribution is specified by [1, 100] and step=5, but the range is not divisible by `step`. It will be replaced by [1, 96].\n",
      "\n",
      "[I 2024-11-22 02:03:08,946] Trial 41 finished with value: 1.1748514802977186 and parameters: {'n_estimators': 1300, 'learning_rate': 0.39999999999999997, 'subsample': 0.75, 'subsample_freq': 1, 'feature_fraction': 0.9, 'min_child_samples': 15, 'num_leaves': 72, 'max_depth': 3, 'min_gain_to_split': 0, 'lambda_l1': 96, 'lambda_l2': 1}. Best is trial 38 with value: 1.1628765704907045.\n",
      "/home/saavajuu/anaconda3/lib/python3.12/site-packages/optuna/distributions.py:708: UserWarning:\n",
      "\n",
      "The distribution is specified by [1, 100] and step=5, but the range is not divisible by `step`. It will be replaced by [1, 96].\n",
      "\n",
      "[I 2024-11-22 02:03:13,652] Trial 42 finished with value: 1.1721795519477036 and parameters: {'n_estimators': 1300, 'learning_rate': 0.0403043847219947, 'subsample': 0.25, 'subsample_freq': 5, 'feature_fraction': 0.9, 'min_child_samples': 15, 'num_leaves': 92, 'max_depth': 13, 'min_gain_to_split': 0, 'lambda_l1': 1, 'lambda_l2': 96}. Best is trial 38 with value: 1.1628765704907045.\n",
      "/home/saavajuu/anaconda3/lib/python3.12/site-packages/optuna/distributions.py:708: UserWarning:\n",
      "\n",
      "The distribution is specified by [1, 100] and step=5, but the range is not divisible by `step`. It will be replaced by [1, 96].\n",
      "\n",
      "[I 2024-11-22 02:03:15,771] Trial 43 finished with value: 1.2156232314305322 and parameters: {'n_estimators': 1300, 'learning_rate': 0.2494580719936571, 'subsample': 0.75, 'subsample_freq': 10, 'feature_fraction': 0.2, 'min_child_samples': 15, 'num_leaves': 87, 'max_depth': 3, 'min_gain_to_split': 0, 'lambda_l1': 96, 'lambda_l2': 96}. Best is trial 38 with value: 1.1628765704907045.\n",
      "/home/saavajuu/anaconda3/lib/python3.12/site-packages/optuna/distributions.py:708: UserWarning:\n",
      "\n",
      "The distribution is specified by [1, 100] and step=5, but the range is not divisible by `step`. It will be replaced by [1, 96].\n",
      "\n",
      "[I 2024-11-22 02:03:18,008] Trial 44 finished with value: 1.2236200928779037 and parameters: {'n_estimators': 308, 'learning_rate': 0.017384646094829894, 'subsample': 0.25, 'subsample_freq': 10, 'feature_fraction': 0.9, 'min_child_samples': 150, 'num_leaves': 98, 'max_depth': 15, 'min_gain_to_split': 1, 'lambda_l1': 1, 'lambda_l2': 1}. Best is trial 38 with value: 1.1628765704907045.\n",
      "/home/saavajuu/anaconda3/lib/python3.12/site-packages/optuna/distributions.py:708: UserWarning:\n",
      "\n",
      "The distribution is specified by [1, 100] and step=5, but the range is not divisible by `step`. It will be replaced by [1, 96].\n",
      "\n",
      "[I 2024-11-22 02:03:20,447] Trial 45 finished with value: 1.1704285031771973 and parameters: {'n_estimators': 1300, 'learning_rate': 0.034370711660474604, 'subsample': 0.3989009199372679, 'subsample_freq': 1, 'feature_fraction': 0.9, 'min_child_samples': 15, 'num_leaves': 81, 'max_depth': 3, 'min_gain_to_split': 0, 'lambda_l1': 1, 'lambda_l2': 26}. Best is trial 38 with value: 1.1628765704907045.\n",
      "/home/saavajuu/anaconda3/lib/python3.12/site-packages/optuna/distributions.py:708: UserWarning:\n",
      "\n",
      "The distribution is specified by [1, 100] and step=5, but the range is not divisible by `step`. It will be replaced by [1, 96].\n",
      "\n",
      "[I 2024-11-22 02:03:24,410] Trial 46 finished with value: 1.4149685374024523 and parameters: {'n_estimators': 1300, 'learning_rate': 0.39999999999999997, 'subsample': 0.75, 'subsample_freq': 1, 'feature_fraction': 0.2, 'min_child_samples': 15, 'num_leaves': 92, 'max_depth': 15, 'min_gain_to_split': 0, 'lambda_l1': 1, 'lambda_l2': 1}. Best is trial 38 with value: 1.1628765704907045.\n",
      "/home/saavajuu/anaconda3/lib/python3.12/site-packages/optuna/distributions.py:708: UserWarning:\n",
      "\n",
      "The distribution is specified by [1, 100] and step=5, but the range is not divisible by `step`. It will be replaced by [1, 96].\n",
      "\n",
      "[I 2024-11-22 02:03:27,512] Trial 47 finished with value: 1.1984689033602178 and parameters: {'n_estimators': 1240, 'learning_rate': 0.11683203038443092, 'subsample': 0.75, 'subsample_freq': 6, 'feature_fraction': 0.9, 'min_child_samples': 15, 'num_leaves': 100, 'max_depth': 4, 'min_gain_to_split': 1, 'lambda_l1': 71, 'lambda_l2': 36}. Best is trial 38 with value: 1.1628765704907045.\n",
      "/home/saavajuu/anaconda3/lib/python3.12/site-packages/optuna/distributions.py:708: UserWarning:\n",
      "\n",
      "The distribution is specified by [1, 100] and step=5, but the range is not divisible by `step`. It will be replaced by [1, 96].\n",
      "\n",
      "[I 2024-11-22 02:03:33,876] Trial 48 finished with value: 1.1896190025204076 and parameters: {'n_estimators': 1300, 'learning_rate': 0.06029943089309987, 'subsample': 0.494039729208283, 'subsample_freq': 3, 'feature_fraction': 0.9, 'min_child_samples': 28, 'num_leaves': 100, 'max_depth': 12, 'min_gain_to_split': 0, 'lambda_l1': 6, 'lambda_l2': 61}. Best is trial 38 with value: 1.1628765704907045.\n",
      "/home/saavajuu/anaconda3/lib/python3.12/site-packages/optuna/distributions.py:708: UserWarning:\n",
      "\n",
      "The distribution is specified by [1, 100] and step=5, but the range is not divisible by `step`. It will be replaced by [1, 96].\n",
      "\n",
      "[I 2024-11-22 02:03:38,542] Trial 49 finished with value: 1.163908238592361 and parameters: {'n_estimators': 1300, 'learning_rate': 0.023417619935170764, 'subsample': 0.4740903188606203, 'subsample_freq': 10, 'feature_fraction': 0.8000000000000003, 'min_child_samples': 46, 'num_leaves': 100, 'max_depth': 9, 'min_gain_to_split': 0, 'lambda_l1': 1, 'lambda_l2': 26}. Best is trial 38 with value: 1.1628765704907045.\n",
      "/home/saavajuu/anaconda3/lib/python3.12/site-packages/optuna/distributions.py:708: UserWarning:\n",
      "\n",
      "The distribution is specified by [1, 100] and step=5, but the range is not divisible by `step`. It will be replaced by [1, 96].\n",
      "\n",
      "[I 2024-11-22 02:03:44,174] Trial 50 finished with value: 1.2275559782585115 and parameters: {'n_estimators': 1300, 'learning_rate': 0.13584905964676416, 'subsample': 0.25, 'subsample_freq': 1, 'feature_fraction': 0.9, 'min_child_samples': 15, 'num_leaves': 100, 'max_depth': 15, 'min_gain_to_split': 0, 'lambda_l1': 1, 'lambda_l2': 91}. Best is trial 38 with value: 1.1628765704907045.\n",
      "/home/saavajuu/anaconda3/lib/python3.12/site-packages/optuna/distributions.py:708: UserWarning:\n",
      "\n",
      "The distribution is specified by [1, 100] and step=5, but the range is not divisible by `step`. It will be replaced by [1, 96].\n",
      "\n",
      "[I 2024-11-22 02:03:46,820] Trial 51 finished with value: 1.1796596162477697 and parameters: {'n_estimators': 1300, 'learning_rate': 0.13511117528828012, 'subsample': 0.7319897097993973, 'subsample_freq': 10, 'feature_fraction': 0.2, 'min_child_samples': 25, 'num_leaves': 54, 'max_depth': 3, 'min_gain_to_split': 1, 'lambda_l1': 6, 'lambda_l2': 91}. Best is trial 38 with value: 1.1628765704907045.\n",
      "/home/saavajuu/anaconda3/lib/python3.12/site-packages/optuna/distributions.py:708: UserWarning:\n",
      "\n",
      "The distribution is specified by [1, 100] and step=5, but the range is not divisible by `step`. It will be replaced by [1, 96].\n",
      "\n",
      "[I 2024-11-22 02:03:48,886] Trial 52 finished with value: 1.2316311450396562 and parameters: {'n_estimators': 415, 'learning_rate': 0.13733940880726514, 'subsample': 0.75, 'subsample_freq': 8, 'feature_fraction': 0.9, 'min_child_samples': 150, 'num_leaves': 2, 'max_depth': 9, 'min_gain_to_split': 0, 'lambda_l1': 31, 'lambda_l2': 6}. Best is trial 38 with value: 1.1628765704907045.\n",
      "/home/saavajuu/anaconda3/lib/python3.12/site-packages/optuna/distributions.py:708: UserWarning:\n",
      "\n",
      "The distribution is specified by [1, 100] and step=5, but the range is not divisible by `step`. It will be replaced by [1, 96].\n",
      "\n",
      "[I 2024-11-22 02:03:51,684] Trial 53 finished with value: 1.2024241739834105 and parameters: {'n_estimators': 820, 'learning_rate': 0.3382290094218417, 'subsample': 0.46101895249599195, 'subsample_freq': 1, 'feature_fraction': 0.9, 'min_child_samples': 15, 'num_leaves': 100, 'max_depth': 3, 'min_gain_to_split': 1, 'lambda_l1': 96, 'lambda_l2': 16}. Best is trial 38 with value: 1.1628765704907045.\n",
      "/home/saavajuu/anaconda3/lib/python3.12/site-packages/optuna/distributions.py:708: UserWarning:\n",
      "\n",
      "The distribution is specified by [1, 100] and step=5, but the range is not divisible by `step`. It will be replaced by [1, 96].\n",
      "\n",
      "[I 2024-11-22 02:03:55,553] Trial 54 finished with value: 1.1635605663959585 and parameters: {'n_estimators': 913, 'learning_rate': 0.019636361135993253, 'subsample': 0.75, 'subsample_freq': 3, 'feature_fraction': 0.9, 'min_child_samples': 15, 'num_leaves': 70, 'max_depth': 11, 'min_gain_to_split': 0, 'lambda_l1': 1, 'lambda_l2': 1}. Best is trial 38 with value: 1.1628765704907045.\n",
      "/home/saavajuu/anaconda3/lib/python3.12/site-packages/optuna/distributions.py:708: UserWarning:\n",
      "\n",
      "The distribution is specified by [1, 100] and step=5, but the range is not divisible by `step`. It will be replaced by [1, 96].\n",
      "\n",
      "[I 2024-11-22 02:03:58,381] Trial 55 finished with value: 1.1951724958886558 and parameters: {'n_estimators': 1300, 'learning_rate': 0.3318413957019301, 'subsample': 0.75, 'subsample_freq': 1, 'feature_fraction': 0.2, 'min_child_samples': 15, 'num_leaves': 87, 'max_depth': 3, 'min_gain_to_split': 1, 'lambda_l1': 31, 'lambda_l2': 96}. Best is trial 38 with value: 1.1628765704907045.\n",
      "/home/saavajuu/anaconda3/lib/python3.12/site-packages/optuna/distributions.py:708: UserWarning:\n",
      "\n",
      "The distribution is specified by [1, 100] and step=5, but the range is not divisible by `step`. It will be replaced by [1, 96].\n",
      "\n",
      "[I 2024-11-22 02:04:01,400] Trial 56 finished with value: 1.1739935220572597 and parameters: {'n_estimators': 1300, 'learning_rate': 0.10451697247017462, 'subsample': 0.25, 'subsample_freq': 10, 'feature_fraction': 0.2, 'min_child_samples': 15, 'num_leaves': 100, 'max_depth': 3, 'min_gain_to_split': 0, 'lambda_l1': 1, 'lambda_l2': 96}. Best is trial 38 with value: 1.1628765704907045.\n",
      "/home/saavajuu/anaconda3/lib/python3.12/site-packages/optuna/distributions.py:708: UserWarning:\n",
      "\n",
      "The distribution is specified by [1, 100] and step=5, but the range is not divisible by `step`. It will be replaced by [1, 96].\n",
      "\n",
      "[I 2024-11-22 02:04:04,148] Trial 57 finished with value: 1.1623045062142119 and parameters: {'n_estimators': 1300, 'learning_rate': 0.1846994829634899, 'subsample': 0.75, 'subsample_freq': 1, 'feature_fraction': 0.9, 'min_child_samples': 150, 'num_leaves': 64, 'max_depth': 3, 'min_gain_to_split': 0, 'lambda_l1': 51, 'lambda_l2': 21}. Best is trial 57 with value: 1.1623045062142119.\n",
      "/home/saavajuu/anaconda3/lib/python3.12/site-packages/optuna/distributions.py:708: UserWarning:\n",
      "\n",
      "The distribution is specified by [1, 100] and step=5, but the range is not divisible by `step`. It will be replaced by [1, 96].\n",
      "\n",
      "[I 2024-11-22 02:04:08,162] Trial 58 finished with value: 1.1776100921506156 and parameters: {'n_estimators': 1300, 'learning_rate': 0.07124482408780228, 'subsample': 0.75, 'subsample_freq': 10, 'feature_fraction': 0.2, 'min_child_samples': 150, 'num_leaves': 67, 'max_depth': 15, 'min_gain_to_split': 0, 'lambda_l1': 1, 'lambda_l2': 96}. Best is trial 57 with value: 1.1623045062142119.\n",
      "/home/saavajuu/anaconda3/lib/python3.12/site-packages/optuna/distributions.py:708: UserWarning:\n",
      "\n",
      "The distribution is specified by [1, 100] and step=5, but the range is not divisible by `step`. It will be replaced by [1, 96].\n",
      "\n",
      "[I 2024-11-22 02:04:10,264] Trial 59 finished with value: 1.1759756300076043 and parameters: {'n_estimators': 384, 'learning_rate': 0.12505012919650832, 'subsample': 0.75, 'subsample_freq': 1, 'feature_fraction': 0.9, 'min_child_samples': 15, 'num_leaves': 56, 'max_depth': 3, 'min_gain_to_split': 0, 'lambda_l1': 46, 'lambda_l2': 1}. Best is trial 57 with value: 1.1623045062142119.\n",
      "/home/saavajuu/anaconda3/lib/python3.12/site-packages/optuna/distributions.py:708: UserWarning:\n",
      "\n",
      "The distribution is specified by [1, 100] and step=5, but the range is not divisible by `step`. It will be replaced by [1, 96].\n",
      "\n",
      "[I 2024-11-22 02:04:15,943] Trial 60 finished with value: 1.1629982330282989 and parameters: {'n_estimators': 1300, 'learning_rate': 0.033182234725388414, 'subsample': 0.75, 'subsample_freq': 1, 'feature_fraction': 0.7000000000000002, 'min_child_samples': 15, 'num_leaves': 70, 'max_depth': 12, 'min_gain_to_split': 0, 'lambda_l1': 16, 'lambda_l2': 26}. Best is trial 57 with value: 1.1623045062142119.\n",
      "/home/saavajuu/anaconda3/lib/python3.12/site-packages/optuna/distributions.py:708: UserWarning:\n",
      "\n",
      "The distribution is specified by [1, 100] and step=5, but the range is not divisible by `step`. It will be replaced by [1, 96].\n",
      "\n",
      "[I 2024-11-22 02:04:18,313] Trial 61 finished with value: 1.2291790869345263 and parameters: {'n_estimators': 1300, 'learning_rate': 0.3257678067951149, 'subsample': 0.25, 'subsample_freq': 1, 'feature_fraction': 0.2, 'min_child_samples': 150, 'num_leaves': 100, 'max_depth': 15, 'min_gain_to_split': 0, 'lambda_l1': 96, 'lambda_l2': 96}. Best is trial 57 with value: 1.1623045062142119.\n",
      "/home/saavajuu/anaconda3/lib/python3.12/site-packages/optuna/distributions.py:708: UserWarning:\n",
      "\n",
      "The distribution is specified by [1, 100] and step=5, but the range is not divisible by `step`. It will be replaced by [1, 96].\n",
      "\n",
      "[I 2024-11-22 02:04:23,618] Trial 62 finished with value: 1.1584111916386564 and parameters: {'n_estimators': 1300, 'learning_rate': 0.015288838332434355, 'subsample': 0.25, 'subsample_freq': 1, 'feature_fraction': 0.9, 'min_child_samples': 15, 'num_leaves': 96, 'max_depth': 8, 'min_gain_to_split': 0, 'lambda_l1': 1, 'lambda_l2': 16}. Best is trial 62 with value: 1.1584111916386564.\n",
      "/home/saavajuu/anaconda3/lib/python3.12/site-packages/optuna/distributions.py:708: UserWarning:\n",
      "\n",
      "The distribution is specified by [1, 100] and step=5, but the range is not divisible by `step`. It will be replaced by [1, 96].\n",
      "\n",
      "[I 2024-11-22 02:04:27,281] Trial 63 finished with value: 1.1757632027351925 and parameters: {'n_estimators': 1300, 'learning_rate': 0.09357499318501011, 'subsample': 0.75, 'subsample_freq': 1, 'feature_fraction': 0.2, 'min_child_samples': 15, 'num_leaves': 72, 'max_depth': 7, 'min_gain_to_split': 0, 'lambda_l1': 1, 'lambda_l2': 81}. Best is trial 62 with value: 1.1584111916386564.\n",
      "/home/saavajuu/anaconda3/lib/python3.12/site-packages/optuna/distributions.py:708: UserWarning:\n",
      "\n",
      "The distribution is specified by [1, 100] and step=5, but the range is not divisible by `step`. It will be replaced by [1, 96].\n",
      "\n",
      "[I 2024-11-22 02:04:29,493] Trial 64 finished with value: 1.2722212115104108 and parameters: {'n_estimators': 100, 'learning_rate': 0.39999999999999997, 'subsample': 0.25, 'subsample_freq': 1, 'feature_fraction': 0.9, 'min_child_samples': 15, 'num_leaves': 2, 'max_depth': 15, 'min_gain_to_split': 1, 'lambda_l1': 96, 'lambda_l2': 1}. Best is trial 62 with value: 1.1584111916386564.\n",
      "/home/saavajuu/anaconda3/lib/python3.12/site-packages/optuna/distributions.py:708: UserWarning:\n",
      "\n",
      "The distribution is specified by [1, 100] and step=5, but the range is not divisible by `step`. It will be replaced by [1, 96].\n",
      "\n",
      "[I 2024-11-22 02:04:31,289] Trial 65 finished with value: 1.1987215352183105 and parameters: {'n_estimators': 168, 'learning_rate': 0.21685823844893706, 'subsample': 0.75, 'subsample_freq': 10, 'feature_fraction': 0.2, 'min_child_samples': 150, 'num_leaves': 81, 'max_depth': 3, 'min_gain_to_split': 0, 'lambda_l1': 1, 'lambda_l2': 71}. Best is trial 62 with value: 1.1584111916386564.\n",
      "/home/saavajuu/anaconda3/lib/python3.12/site-packages/optuna/distributions.py:708: UserWarning:\n",
      "\n",
      "The distribution is specified by [1, 100] and step=5, but the range is not divisible by `step`. It will be replaced by [1, 96].\n",
      "\n",
      "[I 2024-11-22 02:04:33,849] Trial 66 finished with value: 1.1910905017690983 and parameters: {'n_estimators': 338, 'learning_rate': 0.056869403996218364, 'subsample': 0.75, 'subsample_freq': 1, 'feature_fraction': 0.2, 'min_child_samples': 150, 'num_leaves': 36, 'max_depth': 15, 'min_gain_to_split': 1, 'lambda_l1': 1, 'lambda_l2': 41}. Best is trial 62 with value: 1.1584111916386564.\n",
      "/home/saavajuu/anaconda3/lib/python3.12/site-packages/optuna/distributions.py:708: UserWarning:\n",
      "\n",
      "The distribution is specified by [1, 100] and step=5, but the range is not divisible by `step`. It will be replaced by [1, 96].\n",
      "\n",
      "[I 2024-11-22 02:04:36,580] Trial 67 finished with value: 1.1609135460557665 and parameters: {'n_estimators': 1300, 'learning_rate': 0.21867678555859957, 'subsample': 0.75, 'subsample_freq': 1, 'feature_fraction': 0.9, 'min_child_samples': 15, 'num_leaves': 71, 'max_depth': 3, 'min_gain_to_split': 0, 'lambda_l1': 41, 'lambda_l2': 46}. Best is trial 62 with value: 1.1584111916386564.\n",
      "/home/saavajuu/anaconda3/lib/python3.12/site-packages/optuna/distributions.py:708: UserWarning:\n",
      "\n",
      "The distribution is specified by [1, 100] and step=5, but the range is not divisible by `step`. It will be replaced by [1, 96].\n",
      "\n",
      "[I 2024-11-22 02:04:39,307] Trial 68 finished with value: 1.197591632401871 and parameters: {'n_estimators': 1300, 'learning_rate': 0.39999999999999997, 'subsample': 0.75, 'subsample_freq': 1, 'feature_fraction': 0.2, 'min_child_samples': 150, 'num_leaves': 12, 'max_depth': 15, 'min_gain_to_split': 1, 'lambda_l1': 1, 'lambda_l2': 96}. Best is trial 62 with value: 1.1584111916386564.\n",
      "/home/saavajuu/anaconda3/lib/python3.12/site-packages/optuna/distributions.py:708: UserWarning:\n",
      "\n",
      "The distribution is specified by [1, 100] and step=5, but the range is not divisible by `step`. It will be replaced by [1, 96].\n",
      "\n",
      "[I 2024-11-22 02:04:42,376] Trial 69 finished with value: 1.181494674141014 and parameters: {'n_estimators': 1300, 'learning_rate': 0.061765639394654175, 'subsample': 0.25, 'subsample_freq': 10, 'feature_fraction': 0.2, 'min_child_samples': 15, 'num_leaves': 52, 'max_depth': 15, 'min_gain_to_split': 1, 'lambda_l1': 1, 'lambda_l2': 96}. Best is trial 62 with value: 1.1584111916386564.\n",
      "/home/saavajuu/anaconda3/lib/python3.12/site-packages/optuna/distributions.py:708: UserWarning:\n",
      "\n",
      "The distribution is specified by [1, 100] and step=5, but the range is not divisible by `step`. It will be replaced by [1, 96].\n",
      "\n",
      "[I 2024-11-22 02:04:47,870] Trial 70 finished with value: 1.1619081906491397 and parameters: {'n_estimators': 1300, 'learning_rate': 0.021854285136209805, 'subsample': 0.75, 'subsample_freq': 1, 'feature_fraction': 0.9, 'min_child_samples': 15, 'num_leaves': 96, 'max_depth': 10, 'min_gain_to_split': 0, 'lambda_l1': 16, 'lambda_l2': 1}. Best is trial 62 with value: 1.1584111916386564.\n",
      "/home/saavajuu/anaconda3/lib/python3.12/site-packages/optuna/distributions.py:708: UserWarning:\n",
      "\n",
      "The distribution is specified by [1, 100] and step=5, but the range is not divisible by `step`. It will be replaced by [1, 96].\n",
      "\n",
      "[I 2024-11-22 02:04:52,598] Trial 71 finished with value: 1.1644002521589352 and parameters: {'n_estimators': 1300, 'learning_rate': 0.021693580438332336, 'subsample': 0.25, 'subsample_freq': 1, 'feature_fraction': 0.9, 'min_child_samples': 15, 'num_leaves': 72, 'max_depth': 11, 'min_gain_to_split': 0, 'lambda_l1': 11, 'lambda_l2': 1}. Best is trial 62 with value: 1.1584111916386564.\n",
      "/home/saavajuu/anaconda3/lib/python3.12/site-packages/optuna/distributions.py:708: UserWarning:\n",
      "\n",
      "The distribution is specified by [1, 100] and step=5, but the range is not divisible by `step`. It will be replaced by [1, 96].\n",
      "\n",
      "[I 2024-11-22 02:04:55,142] Trial 72 finished with value: 1.169966773801756 and parameters: {'n_estimators': 1300, 'learning_rate': 0.028800153679089932, 'subsample': 0.75, 'subsample_freq': 1, 'feature_fraction': 0.9, 'min_child_samples': 15, 'num_leaves': 9, 'max_depth': 15, 'min_gain_to_split': 1, 'lambda_l1': 1, 'lambda_l2': 1}. Best is trial 62 with value: 1.1584111916386564.\n",
      "/home/saavajuu/anaconda3/lib/python3.12/site-packages/optuna/distributions.py:708: UserWarning:\n",
      "\n",
      "The distribution is specified by [1, 100] and step=5, but the range is not divisible by `step`. It will be replaced by [1, 96].\n",
      "\n",
      "[I 2024-11-22 02:04:57,864] Trial 73 finished with value: 1.1630858469535519 and parameters: {'n_estimators': 951, 'learning_rate': 0.1928943666480955, 'subsample': 0.75, 'subsample_freq': 1, 'feature_fraction': 0.5000000000000001, 'min_child_samples': 68, 'num_leaves': 90, 'max_depth': 3, 'min_gain_to_split': 0, 'lambda_l1': 26, 'lambda_l2': 56}. Best is trial 62 with value: 1.1584111916386564.\n",
      "/home/saavajuu/anaconda3/lib/python3.12/site-packages/optuna/distributions.py:708: UserWarning:\n",
      "\n",
      "The distribution is specified by [1, 100] and step=5, but the range is not divisible by `step`. It will be replaced by [1, 96].\n",
      "\n",
      "[I 2024-11-22 02:04:59,689] Trial 74 finished with value: 1.224490216797983 and parameters: {'n_estimators': 1187, 'learning_rate': 0.39999999999999997, 'subsample': 0.75, 'subsample_freq': 1, 'feature_fraction': 0.9, 'min_child_samples': 150, 'num_leaves': 2, 'max_depth': 3, 'min_gain_to_split': 0, 'lambda_l1': 96, 'lambda_l2': 46}. Best is trial 62 with value: 1.1584111916386564.\n",
      "/home/saavajuu/anaconda3/lib/python3.12/site-packages/optuna/distributions.py:708: UserWarning:\n",
      "\n",
      "The distribution is specified by [1, 100] and step=5, but the range is not divisible by `step`. It will be replaced by [1, 96].\n",
      "\n",
      "[I 2024-11-22 02:05:01,841] Trial 75 finished with value: 1.3739349233230957 and parameters: {'n_estimators': 1300, 'learning_rate': 0.007870032813659172, 'subsample': 0.75, 'subsample_freq': 1, 'feature_fraction': 0.9, 'min_child_samples': 15, 'num_leaves': 2, 'max_depth': 15, 'min_gain_to_split': 0, 'lambda_l1': 1, 'lambda_l2': 1}. Best is trial 62 with value: 1.1584111916386564.\n",
      "/home/saavajuu/anaconda3/lib/python3.12/site-packages/optuna/distributions.py:708: UserWarning:\n",
      "\n",
      "The distribution is specified by [1, 100] and step=5, but the range is not divisible by `step`. It will be replaced by [1, 96].\n",
      "\n",
      "[I 2024-11-22 02:05:06,716] Trial 76 finished with value: 1.180736130674994 and parameters: {'n_estimators': 1300, 'learning_rate': 0.013570010983093544, 'subsample': 0.2616855832052687, 'subsample_freq': 10, 'feature_fraction': 0.9, 'min_child_samples': 15, 'num_leaves': 93, 'max_depth': 15, 'min_gain_to_split': 0, 'lambda_l1': 1, 'lambda_l2': 1}. Best is trial 62 with value: 1.1584111916386564.\n",
      "/home/saavajuu/anaconda3/lib/python3.12/site-packages/optuna/distributions.py:708: UserWarning:\n",
      "\n",
      "The distribution is specified by [1, 100] and step=5, but the range is not divisible by `step`. It will be replaced by [1, 96].\n",
      "\n",
      "[I 2024-11-22 02:05:10,008] Trial 77 finished with value: 1.1750976814769833 and parameters: {'n_estimators': 1300, 'learning_rate': 0.033085633264019254, 'subsample': 0.75, 'subsample_freq': 1, 'feature_fraction': 0.9, 'min_child_samples': 15, 'num_leaves': 53, 'max_depth': 6, 'min_gain_to_split': 1, 'lambda_l1': 1, 'lambda_l2': 1}. Best is trial 62 with value: 1.1584111916386564.\n",
      "/home/saavajuu/anaconda3/lib/python3.12/site-packages/optuna/distributions.py:708: UserWarning:\n",
      "\n",
      "The distribution is specified by [1, 100] and step=5, but the range is not divisible by `step`. It will be replaced by [1, 96].\n",
      "\n",
      "[I 2024-11-22 02:05:12,150] Trial 78 finished with value: 1.189360154453341 and parameters: {'n_estimators': 1300, 'learning_rate': 0.39999999999999997, 'subsample': 0.75, 'subsample_freq': 1, 'feature_fraction': 0.9, 'min_child_samples': 150, 'num_leaves': 31, 'max_depth': 3, 'min_gain_to_split': 1, 'lambda_l1': 1, 'lambda_l2': 1}. Best is trial 62 with value: 1.1584111916386564.\n",
      "/home/saavajuu/anaconda3/lib/python3.12/site-packages/optuna/distributions.py:708: UserWarning:\n",
      "\n",
      "The distribution is specified by [1, 100] and step=5, but the range is not divisible by `step`. It will be replaced by [1, 96].\n",
      "\n",
      "[I 2024-11-22 02:05:14,690] Trial 79 finished with value: 1.1657868091486512 and parameters: {'n_estimators': 787, 'learning_rate': 0.042217695188452434, 'subsample': 0.75, 'subsample_freq': 1, 'feature_fraction': 0.9, 'min_child_samples': 15, 'num_leaves': 33, 'max_depth': 15, 'min_gain_to_split': 0, 'lambda_l1': 1, 'lambda_l2': 1}. Best is trial 62 with value: 1.1584111916386564.\n",
      "/home/saavajuu/anaconda3/lib/python3.12/site-packages/optuna/distributions.py:708: UserWarning:\n",
      "\n",
      "The distribution is specified by [1, 100] and step=5, but the range is not divisible by `step`. It will be replaced by [1, 96].\n",
      "\n",
      "[I 2024-11-22 02:05:20,197] Trial 80 finished with value: 1.163982504932772 and parameters: {'n_estimators': 1300, 'learning_rate': 0.022187183923406177, 'subsample': 0.5187115449710704, 'subsample_freq': 1, 'feature_fraction': 0.9, 'min_child_samples': 15, 'num_leaves': 88, 'max_depth': 12, 'min_gain_to_split': 0, 'lambda_l1': 1, 'lambda_l2': 41}. Best is trial 62 with value: 1.1584111916386564.\n",
      "/home/saavajuu/anaconda3/lib/python3.12/site-packages/optuna/distributions.py:708: UserWarning:\n",
      "\n",
      "The distribution is specified by [1, 100] and step=5, but the range is not divisible by `step`. It will be replaced by [1, 96].\n",
      "\n",
      "[I 2024-11-22 02:05:22,456] Trial 81 finished with value: 1.1694441844805166 and parameters: {'n_estimators': 1300, 'learning_rate': 0.040546864770402646, 'subsample': 0.75, 'subsample_freq': 10, 'feature_fraction': 0.9, 'min_child_samples': 15, 'num_leaves': 30, 'max_depth': 15, 'min_gain_to_split': 1, 'lambda_l1': 26, 'lambda_l2': 1}. Best is trial 62 with value: 1.1584111916386564.\n",
      "/home/saavajuu/anaconda3/lib/python3.12/site-packages/optuna/distributions.py:708: UserWarning:\n",
      "\n",
      "The distribution is specified by [1, 100] and step=5, but the range is not divisible by `step`. It will be replaced by [1, 96].\n",
      "\n",
      "[I 2024-11-22 02:05:24,205] Trial 82 finished with value: 1.2046037346519278 and parameters: {'n_estimators': 1300, 'learning_rate': 0.22327668510418566, 'subsample': 0.75, 'subsample_freq': 10, 'feature_fraction': 0.9, 'min_child_samples': 150, 'num_leaves': 98, 'max_depth': 3, 'min_gain_to_split': 0, 'lambda_l1': 96, 'lambda_l2': 1}. Best is trial 62 with value: 1.1584111916386564.\n",
      "/home/saavajuu/anaconda3/lib/python3.12/site-packages/optuna/distributions.py:708: UserWarning:\n",
      "\n",
      "The distribution is specified by [1, 100] and step=5, but the range is not divisible by `step`. It will be replaced by [1, 96].\n",
      "\n",
      "[I 2024-11-22 02:05:26,158] Trial 83 finished with value: 1.1952023283305933 and parameters: {'n_estimators': 1300, 'learning_rate': 0.05103333077374778, 'subsample': 0.25, 'subsample_freq': 1, 'feature_fraction': 0.9, 'min_child_samples': 15, 'num_leaves': 3, 'max_depth': 15, 'min_gain_to_split': 1, 'lambda_l1': 1, 'lambda_l2': 1}. Best is trial 62 with value: 1.1584111916386564.\n",
      "/home/saavajuu/anaconda3/lib/python3.12/site-packages/optuna/distributions.py:708: UserWarning:\n",
      "\n",
      "The distribution is specified by [1, 100] and step=5, but the range is not divisible by `step`. It will be replaced by [1, 96].\n",
      "\n",
      "[I 2024-11-22 02:05:28,522] Trial 84 finished with value: 1.1721988076576175 and parameters: {'n_estimators': 1300, 'learning_rate': 0.16016186882268307, 'subsample': 0.25, 'subsample_freq': 1, 'feature_fraction': 0.5000000000000001, 'min_child_samples': 15, 'num_leaves': 76, 'max_depth': 3, 'min_gain_to_split': 0, 'lambda_l1': 31, 'lambda_l2': 36}. Best is trial 62 with value: 1.1584111916386564.\n",
      "/home/saavajuu/anaconda3/lib/python3.12/site-packages/optuna/distributions.py:708: UserWarning:\n",
      "\n",
      "The distribution is specified by [1, 100] and step=5, but the range is not divisible by `step`. It will be replaced by [1, 96].\n",
      "\n",
      "[I 2024-11-22 02:05:31,206] Trial 85 finished with value: 1.171848242105427 and parameters: {'n_estimators': 1300, 'learning_rate': 0.02530517108997796, 'subsample': 0.25, 'subsample_freq': 10, 'feature_fraction': 0.9, 'min_child_samples': 15, 'num_leaves': 100, 'max_depth': 6, 'min_gain_to_split': 1, 'lambda_l1': 1, 'lambda_l2': 96}. Best is trial 62 with value: 1.1584111916386564.\n",
      "/home/saavajuu/anaconda3/lib/python3.12/site-packages/optuna/distributions.py:708: UserWarning:\n",
      "\n",
      "The distribution is specified by [1, 100] and step=5, but the range is not divisible by `step`. It will be replaced by [1, 96].\n",
      "\n",
      "[I 2024-11-22 02:05:34,728] Trial 86 finished with value: 1.1870916246858483 and parameters: {'n_estimators': 1300, 'learning_rate': 0.014034589023165985, 'subsample': 0.25, 'subsample_freq': 9, 'feature_fraction': 0.9, 'min_child_samples': 15, 'num_leaves': 100, 'max_depth': 9, 'min_gain_to_split': 0, 'lambda_l1': 36, 'lambda_l2': 41}. Best is trial 62 with value: 1.1584111916386564.\n",
      "/home/saavajuu/anaconda3/lib/python3.12/site-packages/optuna/distributions.py:708: UserWarning:\n",
      "\n",
      "The distribution is specified by [1, 100] and step=5, but the range is not divisible by `step`. It will be replaced by [1, 96].\n",
      "\n",
      "[I 2024-11-22 02:05:39,661] Trial 87 finished with value: 1.167565457723364 and parameters: {'n_estimators': 1300, 'learning_rate': 0.0311049787056994, 'subsample': 0.75, 'subsample_freq': 1, 'feature_fraction': 0.9, 'min_child_samples': 150, 'num_leaves': 73, 'max_depth': 12, 'min_gain_to_split': 0, 'lambda_l1': 1, 'lambda_l2': 1}. Best is trial 62 with value: 1.1584111916386564.\n",
      "/home/saavajuu/anaconda3/lib/python3.12/site-packages/optuna/distributions.py:708: UserWarning:\n",
      "\n",
      "The distribution is specified by [1, 100] and step=5, but the range is not divisible by `step`. It will be replaced by [1, 96].\n",
      "\n",
      "[I 2024-11-22 02:05:42,565] Trial 88 finished with value: 1.190968085522144 and parameters: {'n_estimators': 1300, 'learning_rate': 0.041888537051629295, 'subsample': 0.75, 'subsample_freq': 1, 'feature_fraction': 0.2, 'min_child_samples': 15, 'num_leaves': 26, 'max_depth': 15, 'min_gain_to_split': 1, 'lambda_l1': 36, 'lambda_l2': 1}. Best is trial 62 with value: 1.1584111916386564.\n",
      "/home/saavajuu/anaconda3/lib/python3.12/site-packages/optuna/distributions.py:708: UserWarning:\n",
      "\n",
      "The distribution is specified by [1, 100] and step=5, but the range is not divisible by `step`. It will be replaced by [1, 96].\n",
      "\n",
      "[I 2024-11-22 02:05:47,379] Trial 89 finished with value: 1.171257557916788 and parameters: {'n_estimators': 1300, 'learning_rate': 0.03918503677910915, 'subsample': 0.75, 'subsample_freq': 10, 'feature_fraction': 0.9, 'min_child_samples': 15, 'num_leaves': 53, 'max_depth': 11, 'min_gain_to_split': 0, 'lambda_l1': 1, 'lambda_l2': 61}. Best is trial 62 with value: 1.1584111916386564.\n",
      "/home/saavajuu/anaconda3/lib/python3.12/site-packages/optuna/distributions.py:708: UserWarning:\n",
      "\n",
      "The distribution is specified by [1, 100] and step=5, but the range is not divisible by `step`. It will be replaced by [1, 96].\n",
      "\n",
      "[I 2024-11-22 02:05:49,309] Trial 90 finished with value: 1.2228768060102702 and parameters: {'n_estimators': 1300, 'learning_rate': 0.05845507616159577, 'subsample': 0.75, 'subsample_freq': 1, 'feature_fraction': 0.9, 'min_child_samples': 15, 'num_leaves': 2, 'max_depth': 15, 'min_gain_to_split': 1, 'lambda_l1': 1, 'lambda_l2': 96}. Best is trial 62 with value: 1.1584111916386564.\n",
      "/home/saavajuu/anaconda3/lib/python3.12/site-packages/optuna/distributions.py:708: UserWarning:\n",
      "\n",
      "The distribution is specified by [1, 100] and step=5, but the range is not divisible by `step`. It will be replaced by [1, 96].\n",
      "\n",
      "[I 2024-11-22 02:05:51,117] Trial 91 finished with value: 1.273443863613476 and parameters: {'n_estimators': 100, 'learning_rate': 0.08678278667137673, 'subsample': 0.75, 'subsample_freq': 1, 'feature_fraction': 0.2, 'min_child_samples': 15, 'num_leaves': 100, 'max_depth': 15, 'min_gain_to_split': 0, 'lambda_l1': 96, 'lambda_l2': 96}. Best is trial 62 with value: 1.1584111916386564.\n",
      "/home/saavajuu/anaconda3/lib/python3.12/site-packages/optuna/distributions.py:708: UserWarning:\n",
      "\n",
      "The distribution is specified by [1, 100] and step=5, but the range is not divisible by `step`. It will be replaced by [1, 96].\n",
      "\n",
      "[I 2024-11-22 02:05:55,819] Trial 92 finished with value: 1.181854834840132 and parameters: {'n_estimators': 1300, 'learning_rate': 0.033336153854568465, 'subsample': 0.75, 'subsample_freq': 10, 'feature_fraction': 0.9, 'min_child_samples': 15, 'num_leaves': 74, 'max_depth': 12, 'min_gain_to_split': 0, 'lambda_l1': 1, 'lambda_l2': 6}. Best is trial 62 with value: 1.1584111916386564.\n",
      "/home/saavajuu/anaconda3/lib/python3.12/site-packages/optuna/distributions.py:708: UserWarning:\n",
      "\n",
      "The distribution is specified by [1, 100] and step=5, but the range is not divisible by `step`. It will be replaced by [1, 96].\n",
      "\n",
      "[I 2024-11-22 02:05:58,566] Trial 93 finished with value: 1.2027726349916932 and parameters: {'n_estimators': 1300, 'learning_rate': 0.03449980519995278, 'subsample': 0.25, 'subsample_freq': 10, 'feature_fraction': 0.2, 'min_child_samples': 150, 'num_leaves': 100, 'max_depth': 10, 'min_gain_to_split': 0, 'lambda_l1': 1, 'lambda_l2': 86}. Best is trial 62 with value: 1.1584111916386564.\n",
      "/home/saavajuu/anaconda3/lib/python3.12/site-packages/optuna/distributions.py:708: UserWarning:\n",
      "\n",
      "The distribution is specified by [1, 100] and step=5, but the range is not divisible by `step`. It will be replaced by [1, 96].\n",
      "\n",
      "[I 2024-11-22 02:06:01,921] Trial 94 finished with value: 1.16293087399348 and parameters: {'n_estimators': 1300, 'learning_rate': 0.014625826705714967, 'subsample': 0.75, 'subsample_freq': 1, 'feature_fraction': 0.7000000000000002, 'min_child_samples': 47, 'num_leaves': 100, 'max_depth': 5, 'min_gain_to_split': 0, 'lambda_l1': 1, 'lambda_l2': 11}. Best is trial 62 with value: 1.1584111916386564.\n",
      "/home/saavajuu/anaconda3/lib/python3.12/site-packages/optuna/distributions.py:708: UserWarning:\n",
      "\n",
      "The distribution is specified by [1, 100] and step=5, but the range is not divisible by `step`. It will be replaced by [1, 96].\n",
      "\n",
      "[I 2024-11-22 02:06:04,942] Trial 95 finished with value: 1.1672970201314568 and parameters: {'n_estimators': 1300, 'learning_rate': 0.09016688550905452, 'subsample': 0.75, 'subsample_freq': 10, 'feature_fraction': 0.5000000000000001, 'min_child_samples': 102, 'num_leaves': 81, 'max_depth': 3, 'min_gain_to_split': 0, 'lambda_l1': 1, 'lambda_l2': 56}. Best is trial 62 with value: 1.1584111916386564.\n",
      "/home/saavajuu/anaconda3/lib/python3.12/site-packages/optuna/distributions.py:708: UserWarning:\n",
      "\n",
      "The distribution is specified by [1, 100] and step=5, but the range is not divisible by `step`. It will be replaced by [1, 96].\n",
      "\n",
      "[I 2024-11-22 02:06:07,896] Trial 96 finished with value: 1.1735815015595823 and parameters: {'n_estimators': 1300, 'learning_rate': 0.15517995899846582, 'subsample': 0.75, 'subsample_freq': 1, 'feature_fraction': 0.6000000000000001, 'min_child_samples': 23, 'num_leaves': 71, 'max_depth': 3, 'min_gain_to_split': 0, 'lambda_l1': 76, 'lambda_l2': 36}. Best is trial 62 with value: 1.1584111916386564.\n",
      "/home/saavajuu/anaconda3/lib/python3.12/site-packages/optuna/distributions.py:708: UserWarning:\n",
      "\n",
      "The distribution is specified by [1, 100] and step=5, but the range is not divisible by `step`. It will be replaced by [1, 96].\n",
      "\n",
      "[I 2024-11-22 02:06:11,617] Trial 97 finished with value: 1.1665033545916244 and parameters: {'n_estimators': 1300, 'learning_rate': 0.23634583626777603, 'subsample': 0.75, 'subsample_freq': 1, 'feature_fraction': 0.5000000000000001, 'min_child_samples': 150, 'num_leaves': 68, 'max_depth': 3, 'min_gain_to_split': 0, 'lambda_l1': 1, 'lambda_l2': 81}. Best is trial 62 with value: 1.1584111916386564.\n",
      "/home/saavajuu/anaconda3/lib/python3.12/site-packages/optuna/distributions.py:708: UserWarning:\n",
      "\n",
      "The distribution is specified by [1, 100] and step=5, but the range is not divisible by `step`. It will be replaced by [1, 96].\n",
      "\n",
      "[I 2024-11-22 02:06:15,150] Trial 98 finished with value: 1.1624441264031091 and parameters: {'n_estimators': 1300, 'learning_rate': 0.03733202961918133, 'subsample': 0.75, 'subsample_freq': 1, 'feature_fraction': 0.9, 'min_child_samples': 150, 'num_leaves': 27, 'max_depth': 15, 'min_gain_to_split': 0, 'lambda_l1': 36, 'lambda_l2': 1}. Best is trial 62 with value: 1.1584111916386564.\n",
      "/home/saavajuu/anaconda3/lib/python3.12/site-packages/optuna/distributions.py:708: UserWarning:\n",
      "\n",
      "The distribution is specified by [1, 100] and step=5, but the range is not divisible by `step`. It will be replaced by [1, 96].\n",
      "\n",
      "[I 2024-11-22 02:06:18,153] Trial 99 finished with value: 1.1753640729940855 and parameters: {'n_estimators': 1300, 'learning_rate': 0.03966478340225464, 'subsample': 0.25, 'subsample_freq': 10, 'feature_fraction': 0.7000000000000002, 'min_child_samples': 150, 'num_leaves': 65, 'max_depth': 15, 'min_gain_to_split': 0, 'lambda_l1': 1, 'lambda_l2': 66}. Best is trial 62 with value: 1.1584111916386564.\n"
     ]
    }
   ],
   "source": [
    "def improved_objective_func(trial):\n",
    "    params = {\n",
    "        \"n_estimators\": trial.suggest_int('n_estimators', 100, 1300),\n",
    "        'learning_rate': trial.suggest_float('learning_rate', 0.001, 0.5, log=True),\n",
    "        'subsample': trial.suggest_float('subsample', 0.25, 0.75),\n",
    "        'subsample_freq': trial.suggest_int('subsample_freq', 1, 10),\n",
    "        'feature_fraction': trial.suggest_float('feature_fraction', 0.2, 0.9, step=0.1),\n",
    "        'min_child_samples': trial.suggest_int('min_child_samples', 15, 150),\n",
    "        'num_leaves': trial.suggest_int('num_leaves', 2, 100),\n",
    "        \"max_depth\": trial.suggest_int('max_depth', 3, 15),\n",
    "        \"min_gain_to_split\": trial.suggest_float('min_gain_to_split', 0, 15),\n",
    "        \"lambda_l1\": trial.suggest_int('lambda_l1', 1, 100, step=5),\n",
    "        \"lambda_l2\": trial.suggest_int('lambda_l2', 1, 100, step=5),\n",
    "        'random_state': 74\n",
    "    }\n",
    "    model = lgb.LGBMRegressor(**params, verbose=-1)\n",
    "    model.fit(train_x, train_y)\n",
    "    preds = model.predict(test_x)\n",
    "    mae = mean_absolute_error(test_y, preds)\n",
    "    return mae\n",
    "\n",
    "study.optimize(improved_objective_func, n_trials=100)"
   ]
  },
  {
   "cell_type": "code",
   "execution_count": 51,
   "metadata": {},
   "outputs": [
    {
     "name": "stdout",
     "output_type": "stream",
     "text": [
      "Best MAE 1.1584111916386564\n",
      "Best params: {'n_estimators': 1300, 'learning_rate': 0.015288838332434355, 'subsample': 0.25, 'subsample_freq': 1, 'feature_fraction': 0.9, 'min_child_samples': 15, 'num_leaves': 96, 'max_depth': 8, 'min_gain_to_split': 0, 'lambda_l1': 1, 'lambda_l2': 16}\n",
      "MAE: 1.1564096035445197\n",
      "MSE: 2.4930261265866314\n",
      "R2: 0.7433561236717907\n"
     ]
    }
   ],
   "source": [
    "print(\"Best MAE\", study.best_value)\n",
    "print(\"Best params:\", study.best_trial.params)\n",
    "\n",
    "# train the model with the best params\n",
    "best_params = study.best_trial.params\n",
    "model = lgb.LGBMRegressor(**best_params, verbose=-1)\n",
    "model.fit(train_x, train_y)\n",
    "preds = model.predict(test_x)\n",
    "mae = mean_absolute_error(test_y, preds)\n",
    "mse = mean_squared_error(test_y, preds)\n",
    "r2 = r2_score(test_y, preds)\n",
    "print(\"MAE:\", mae)\n",
    "print(\"MSE:\", mse)\n",
    "print(\"R2:\", r2)"
   ]
  },
  {
   "cell_type": "code",
   "execution_count": 56,
   "metadata": {},
   "outputs": [
    {
     "data": {
      "application/vnd.plotly.v1+json": {
       "config": {
        "plotlyServerURL": "https://plot.ly"
       },
       "data": [
        {
         "marker": {
          "color": [
           0,
           1,
           2,
           3,
           4,
           5,
           6,
           7,
           8,
           9,
           10,
           11,
           12,
           13,
           14,
           15,
           16,
           17,
           18,
           19,
           20,
           21,
           22,
           23,
           24,
           25,
           26,
           27,
           28,
           29,
           30,
           31,
           32,
           33,
           34,
           35,
           36,
           37,
           38,
           39,
           40,
           41,
           42,
           43,
           44,
           45,
           46,
           47,
           48,
           49,
           50,
           51,
           52,
           53,
           54,
           55,
           56,
           57,
           58,
           59,
           60,
           61,
           62,
           63,
           64,
           65,
           66,
           67,
           68,
           69,
           70,
           71,
           72,
           73,
           74,
           75,
           76,
           77,
           78,
           79,
           80,
           81,
           82,
           83,
           84,
           85,
           86,
           87,
           88,
           89,
           90,
           91,
           92,
           93,
           94,
           95,
           96,
           97,
           98,
           99
          ],
          "colorbar": {
           "title": {
            "text": "Trial"
           },
           "x": 1,
           "xpad": 40
          },
          "colorscale": [
           [
            0,
            "rgb(247,251,255)"
           ],
           [
            0.125,
            "rgb(222,235,247)"
           ],
           [
            0.25,
            "rgb(198,219,239)"
           ],
           [
            0.375,
            "rgb(158,202,225)"
           ],
           [
            0.5,
            "rgb(107,174,214)"
           ],
           [
            0.625,
            "rgb(66,146,198)"
           ],
           [
            0.75,
            "rgb(33,113,181)"
           ],
           [
            0.875,
            "rgb(8,81,156)"
           ],
           [
            1,
            "rgb(8,48,107)"
           ]
          ],
          "line": {
           "color": "Grey",
           "width": 0.5
          }
         },
         "mode": "markers",
         "name": "Feasible Trial",
         "showlegend": false,
         "type": "scatter",
         "x": [
          1132,
          418,
          476,
          1042,
          1074,
          285,
          929,
          377,
          229,
          727,
          1154,
          804,
          1300,
          371,
          584,
          1300,
          1300,
          1300,
          100,
          1300,
          1246,
          1300,
          1300,
          1300,
          100,
          1300,
          100,
          1300,
          1300,
          1300,
          741,
          1300,
          1101,
          100,
          1300,
          1105,
          1300,
          1300,
          1300,
          538,
          1300,
          1300,
          1300,
          1300,
          308,
          1300,
          1300,
          1240,
          1300,
          1300,
          1300,
          1300,
          415,
          820,
          913,
          1300,
          1300,
          1300,
          1300,
          384,
          1300,
          1300,
          1300,
          1300,
          100,
          168,
          338,
          1300,
          1300,
          1300,
          1300,
          1300,
          1300,
          951,
          1187,
          1300,
          1300,
          1300,
          1300,
          787,
          1300,
          1300,
          1300,
          1300,
          1300,
          1300,
          1300,
          1300,
          1300,
          1300,
          1300,
          100,
          1300,
          1300,
          1300,
          1300,
          1300,
          1300,
          1300,
          1300
         ],
         "y": [
          1.209016474540713,
          1.2007832508761405,
          1.1888124223863183,
          1.229472380614814,
          1.1937427497290911,
          1.1900792245746714,
          1.178312518478116,
          1.6284929290952737,
          1.2111160825750484,
          1.262939227836506,
          1.1688114814109813,
          1.1945817384781188,
          1.2065984898162192,
          1.1736037901032113,
          1.1887268766143804,
          1.3884439050517758,
          1.1889604378716798,
          1.2045606095356682,
          1.1965454632559405,
          1.186927948603861,
          1.2282535814603592,
          1.211704941955716,
          1.170722581567244,
          1.1821697159167408,
          1.2077815416779905,
          1.1827765534704182,
          1.300796530239483,
          1.2166173671633735,
          1.169070950432745,
          1.1822005899681758,
          1.1796331580551944,
          1.2391069439547433,
          1.1761494562606662,
          1.2014790434893412,
          1.1735602659856563,
          1.2007885357250634,
          1.1720601877307208,
          1.192787137933323,
          1.1628765704907045,
          1.2002023386740515,
          1.1774015838759735,
          1.1748514802977186,
          1.1721795519477036,
          1.2156232314305322,
          1.2236200928779037,
          1.1704285031771973,
          1.4149685374024523,
          1.1984689033602178,
          1.1896190025204076,
          1.163908238592361,
          1.2275559782585115,
          1.1796596162477697,
          1.2316311450396562,
          1.2024241739834105,
          1.1635605663959585,
          1.1951724958886558,
          1.1739935220572597,
          1.1623045062142119,
          1.1776100921506156,
          1.1759756300076043,
          1.1629982330282989,
          1.2291790869345263,
          1.1584111916386564,
          1.1757632027351925,
          1.2722212115104108,
          1.1987215352183105,
          1.1910905017690983,
          1.1609135460557665,
          1.197591632401871,
          1.181494674141014,
          1.1619081906491397,
          1.1644002521589352,
          1.169966773801756,
          1.1630858469535519,
          1.224490216797983,
          1.3739349233230957,
          1.180736130674994,
          1.1750976814769833,
          1.189360154453341,
          1.1657868091486512,
          1.163982504932772,
          1.1694441844805166,
          1.2046037346519278,
          1.1952023283305933,
          1.1721988076576175,
          1.171848242105427,
          1.1870916246858483,
          1.167565457723364,
          1.190968085522144,
          1.171257557916788,
          1.2228768060102702,
          1.273443863613476,
          1.181854834840132,
          1.2027726349916932,
          1.16293087399348,
          1.1672970201314568,
          1.1735815015595823,
          1.1665033545916244,
          1.1624441264031091,
          1.1753640729940855
         ]
        }
       ],
       "layout": {
        "template": {
         "data": {
          "bar": [
           {
            "error_x": {
             "color": "#2a3f5f"
            },
            "error_y": {
             "color": "#2a3f5f"
            },
            "marker": {
             "line": {
              "color": "#E5ECF6",
              "width": 0.5
             },
             "pattern": {
              "fillmode": "overlay",
              "size": 10,
              "solidity": 0.2
             }
            },
            "type": "bar"
           }
          ],
          "barpolar": [
           {
            "marker": {
             "line": {
              "color": "#E5ECF6",
              "width": 0.5
             },
             "pattern": {
              "fillmode": "overlay",
              "size": 10,
              "solidity": 0.2
             }
            },
            "type": "barpolar"
           }
          ],
          "carpet": [
           {
            "aaxis": {
             "endlinecolor": "#2a3f5f",
             "gridcolor": "white",
             "linecolor": "white",
             "minorgridcolor": "white",
             "startlinecolor": "#2a3f5f"
            },
            "baxis": {
             "endlinecolor": "#2a3f5f",
             "gridcolor": "white",
             "linecolor": "white",
             "minorgridcolor": "white",
             "startlinecolor": "#2a3f5f"
            },
            "type": "carpet"
           }
          ],
          "choropleth": [
           {
            "colorbar": {
             "outlinewidth": 0,
             "ticks": ""
            },
            "type": "choropleth"
           }
          ],
          "contour": [
           {
            "colorbar": {
             "outlinewidth": 0,
             "ticks": ""
            },
            "colorscale": [
             [
              0,
              "#0d0887"
             ],
             [
              0.1111111111111111,
              "#46039f"
             ],
             [
              0.2222222222222222,
              "#7201a8"
             ],
             [
              0.3333333333333333,
              "#9c179e"
             ],
             [
              0.4444444444444444,
              "#bd3786"
             ],
             [
              0.5555555555555556,
              "#d8576b"
             ],
             [
              0.6666666666666666,
              "#ed7953"
             ],
             [
              0.7777777777777778,
              "#fb9f3a"
             ],
             [
              0.8888888888888888,
              "#fdca26"
             ],
             [
              1,
              "#f0f921"
             ]
            ],
            "type": "contour"
           }
          ],
          "contourcarpet": [
           {
            "colorbar": {
             "outlinewidth": 0,
             "ticks": ""
            },
            "type": "contourcarpet"
           }
          ],
          "heatmap": [
           {
            "colorbar": {
             "outlinewidth": 0,
             "ticks": ""
            },
            "colorscale": [
             [
              0,
              "#0d0887"
             ],
             [
              0.1111111111111111,
              "#46039f"
             ],
             [
              0.2222222222222222,
              "#7201a8"
             ],
             [
              0.3333333333333333,
              "#9c179e"
             ],
             [
              0.4444444444444444,
              "#bd3786"
             ],
             [
              0.5555555555555556,
              "#d8576b"
             ],
             [
              0.6666666666666666,
              "#ed7953"
             ],
             [
              0.7777777777777778,
              "#fb9f3a"
             ],
             [
              0.8888888888888888,
              "#fdca26"
             ],
             [
              1,
              "#f0f921"
             ]
            ],
            "type": "heatmap"
           }
          ],
          "heatmapgl": [
           {
            "colorbar": {
             "outlinewidth": 0,
             "ticks": ""
            },
            "colorscale": [
             [
              0,
              "#0d0887"
             ],
             [
              0.1111111111111111,
              "#46039f"
             ],
             [
              0.2222222222222222,
              "#7201a8"
             ],
             [
              0.3333333333333333,
              "#9c179e"
             ],
             [
              0.4444444444444444,
              "#bd3786"
             ],
             [
              0.5555555555555556,
              "#d8576b"
             ],
             [
              0.6666666666666666,
              "#ed7953"
             ],
             [
              0.7777777777777778,
              "#fb9f3a"
             ],
             [
              0.8888888888888888,
              "#fdca26"
             ],
             [
              1,
              "#f0f921"
             ]
            ],
            "type": "heatmapgl"
           }
          ],
          "histogram": [
           {
            "marker": {
             "pattern": {
              "fillmode": "overlay",
              "size": 10,
              "solidity": 0.2
             }
            },
            "type": "histogram"
           }
          ],
          "histogram2d": [
           {
            "colorbar": {
             "outlinewidth": 0,
             "ticks": ""
            },
            "colorscale": [
             [
              0,
              "#0d0887"
             ],
             [
              0.1111111111111111,
              "#46039f"
             ],
             [
              0.2222222222222222,
              "#7201a8"
             ],
             [
              0.3333333333333333,
              "#9c179e"
             ],
             [
              0.4444444444444444,
              "#bd3786"
             ],
             [
              0.5555555555555556,
              "#d8576b"
             ],
             [
              0.6666666666666666,
              "#ed7953"
             ],
             [
              0.7777777777777778,
              "#fb9f3a"
             ],
             [
              0.8888888888888888,
              "#fdca26"
             ],
             [
              1,
              "#f0f921"
             ]
            ],
            "type": "histogram2d"
           }
          ],
          "histogram2dcontour": [
           {
            "colorbar": {
             "outlinewidth": 0,
             "ticks": ""
            },
            "colorscale": [
             [
              0,
              "#0d0887"
             ],
             [
              0.1111111111111111,
              "#46039f"
             ],
             [
              0.2222222222222222,
              "#7201a8"
             ],
             [
              0.3333333333333333,
              "#9c179e"
             ],
             [
              0.4444444444444444,
              "#bd3786"
             ],
             [
              0.5555555555555556,
              "#d8576b"
             ],
             [
              0.6666666666666666,
              "#ed7953"
             ],
             [
              0.7777777777777778,
              "#fb9f3a"
             ],
             [
              0.8888888888888888,
              "#fdca26"
             ],
             [
              1,
              "#f0f921"
             ]
            ],
            "type": "histogram2dcontour"
           }
          ],
          "mesh3d": [
           {
            "colorbar": {
             "outlinewidth": 0,
             "ticks": ""
            },
            "type": "mesh3d"
           }
          ],
          "parcoords": [
           {
            "line": {
             "colorbar": {
              "outlinewidth": 0,
              "ticks": ""
             }
            },
            "type": "parcoords"
           }
          ],
          "pie": [
           {
            "automargin": true,
            "type": "pie"
           }
          ],
          "scatter": [
           {
            "fillpattern": {
             "fillmode": "overlay",
             "size": 10,
             "solidity": 0.2
            },
            "type": "scatter"
           }
          ],
          "scatter3d": [
           {
            "line": {
             "colorbar": {
              "outlinewidth": 0,
              "ticks": ""
             }
            },
            "marker": {
             "colorbar": {
              "outlinewidth": 0,
              "ticks": ""
             }
            },
            "type": "scatter3d"
           }
          ],
          "scattercarpet": [
           {
            "marker": {
             "colorbar": {
              "outlinewidth": 0,
              "ticks": ""
             }
            },
            "type": "scattercarpet"
           }
          ],
          "scattergeo": [
           {
            "marker": {
             "colorbar": {
              "outlinewidth": 0,
              "ticks": ""
             }
            },
            "type": "scattergeo"
           }
          ],
          "scattergl": [
           {
            "marker": {
             "colorbar": {
              "outlinewidth": 0,
              "ticks": ""
             }
            },
            "type": "scattergl"
           }
          ],
          "scattermapbox": [
           {
            "marker": {
             "colorbar": {
              "outlinewidth": 0,
              "ticks": ""
             }
            },
            "type": "scattermapbox"
           }
          ],
          "scatterpolar": [
           {
            "marker": {
             "colorbar": {
              "outlinewidth": 0,
              "ticks": ""
             }
            },
            "type": "scatterpolar"
           }
          ],
          "scatterpolargl": [
           {
            "marker": {
             "colorbar": {
              "outlinewidth": 0,
              "ticks": ""
             }
            },
            "type": "scatterpolargl"
           }
          ],
          "scatterternary": [
           {
            "marker": {
             "colorbar": {
              "outlinewidth": 0,
              "ticks": ""
             }
            },
            "type": "scatterternary"
           }
          ],
          "surface": [
           {
            "colorbar": {
             "outlinewidth": 0,
             "ticks": ""
            },
            "colorscale": [
             [
              0,
              "#0d0887"
             ],
             [
              0.1111111111111111,
              "#46039f"
             ],
             [
              0.2222222222222222,
              "#7201a8"
             ],
             [
              0.3333333333333333,
              "#9c179e"
             ],
             [
              0.4444444444444444,
              "#bd3786"
             ],
             [
              0.5555555555555556,
              "#d8576b"
             ],
             [
              0.6666666666666666,
              "#ed7953"
             ],
             [
              0.7777777777777778,
              "#fb9f3a"
             ],
             [
              0.8888888888888888,
              "#fdca26"
             ],
             [
              1,
              "#f0f921"
             ]
            ],
            "type": "surface"
           }
          ],
          "table": [
           {
            "cells": {
             "fill": {
              "color": "#EBF0F8"
             },
             "line": {
              "color": "white"
             }
            },
            "header": {
             "fill": {
              "color": "#C8D4E3"
             },
             "line": {
              "color": "white"
             }
            },
            "type": "table"
           }
          ]
         },
         "layout": {
          "annotationdefaults": {
           "arrowcolor": "#2a3f5f",
           "arrowhead": 0,
           "arrowwidth": 1
          },
          "autotypenumbers": "strict",
          "coloraxis": {
           "colorbar": {
            "outlinewidth": 0,
            "ticks": ""
           }
          },
          "colorscale": {
           "diverging": [
            [
             0,
             "#8e0152"
            ],
            [
             0.1,
             "#c51b7d"
            ],
            [
             0.2,
             "#de77ae"
            ],
            [
             0.3,
             "#f1b6da"
            ],
            [
             0.4,
             "#fde0ef"
            ],
            [
             0.5,
             "#f7f7f7"
            ],
            [
             0.6,
             "#e6f5d0"
            ],
            [
             0.7,
             "#b8e186"
            ],
            [
             0.8,
             "#7fbc41"
            ],
            [
             0.9,
             "#4d9221"
            ],
            [
             1,
             "#276419"
            ]
           ],
           "sequential": [
            [
             0,
             "#0d0887"
            ],
            [
             0.1111111111111111,
             "#46039f"
            ],
            [
             0.2222222222222222,
             "#7201a8"
            ],
            [
             0.3333333333333333,
             "#9c179e"
            ],
            [
             0.4444444444444444,
             "#bd3786"
            ],
            [
             0.5555555555555556,
             "#d8576b"
            ],
            [
             0.6666666666666666,
             "#ed7953"
            ],
            [
             0.7777777777777778,
             "#fb9f3a"
            ],
            [
             0.8888888888888888,
             "#fdca26"
            ],
            [
             1,
             "#f0f921"
            ]
           ],
           "sequentialminus": [
            [
             0,
             "#0d0887"
            ],
            [
             0.1111111111111111,
             "#46039f"
            ],
            [
             0.2222222222222222,
             "#7201a8"
            ],
            [
             0.3333333333333333,
             "#9c179e"
            ],
            [
             0.4444444444444444,
             "#bd3786"
            ],
            [
             0.5555555555555556,
             "#d8576b"
            ],
            [
             0.6666666666666666,
             "#ed7953"
            ],
            [
             0.7777777777777778,
             "#fb9f3a"
            ],
            [
             0.8888888888888888,
             "#fdca26"
            ],
            [
             1,
             "#f0f921"
            ]
           ]
          },
          "colorway": [
           "#636efa",
           "#EF553B",
           "#00cc96",
           "#ab63fa",
           "#FFA15A",
           "#19d3f3",
           "#FF6692",
           "#B6E880",
           "#FF97FF",
           "#FECB52"
          ],
          "font": {
           "color": "#2a3f5f"
          },
          "geo": {
           "bgcolor": "white",
           "lakecolor": "white",
           "landcolor": "#E5ECF6",
           "showlakes": true,
           "showland": true,
           "subunitcolor": "white"
          },
          "hoverlabel": {
           "align": "left"
          },
          "hovermode": "closest",
          "mapbox": {
           "style": "light"
          },
          "paper_bgcolor": "white",
          "plot_bgcolor": "#E5ECF6",
          "polar": {
           "angularaxis": {
            "gridcolor": "white",
            "linecolor": "white",
            "ticks": ""
           },
           "bgcolor": "#E5ECF6",
           "radialaxis": {
            "gridcolor": "white",
            "linecolor": "white",
            "ticks": ""
           }
          },
          "scene": {
           "xaxis": {
            "backgroundcolor": "#E5ECF6",
            "gridcolor": "white",
            "gridwidth": 2,
            "linecolor": "white",
            "showbackground": true,
            "ticks": "",
            "zerolinecolor": "white"
           },
           "yaxis": {
            "backgroundcolor": "#E5ECF6",
            "gridcolor": "white",
            "gridwidth": 2,
            "linecolor": "white",
            "showbackground": true,
            "ticks": "",
            "zerolinecolor": "white"
           },
           "zaxis": {
            "backgroundcolor": "#E5ECF6",
            "gridcolor": "white",
            "gridwidth": 2,
            "linecolor": "white",
            "showbackground": true,
            "ticks": "",
            "zerolinecolor": "white"
           }
          },
          "shapedefaults": {
           "line": {
            "color": "#2a3f5f"
           }
          },
          "ternary": {
           "aaxis": {
            "gridcolor": "white",
            "linecolor": "white",
            "ticks": ""
           },
           "baxis": {
            "gridcolor": "white",
            "linecolor": "white",
            "ticks": ""
           },
           "bgcolor": "#E5ECF6",
           "caxis": {
            "gridcolor": "white",
            "linecolor": "white",
            "ticks": ""
           }
          },
          "title": {
           "x": 0.05
          },
          "xaxis": {
           "automargin": true,
           "gridcolor": "white",
           "linecolor": "white",
           "ticks": "",
           "title": {
            "standoff": 15
           },
           "zerolinecolor": "white",
           "zerolinewidth": 2
          },
          "yaxis": {
           "automargin": true,
           "gridcolor": "white",
           "linecolor": "white",
           "ticks": "",
           "title": {
            "standoff": 15
           },
           "zerolinecolor": "white",
           "zerolinewidth": 2
          }
         }
        },
        "title": {
         "text": "Slice Plot"
        },
        "xaxis": {
         "title": {
          "text": "n_estimators"
         }
        },
        "yaxis": {
         "title": {
          "text": "Objective Value"
         }
        }
       }
      }
     },
     "metadata": {},
     "output_type": "display_data"
    }
   ],
   "source": [
    "important_hyperparams = sorted(study.best_trial.params, key=study.best_trial.params.get, reverse=True)[:1]\n",
    "optuna.visualization.plot_slice(study=optuna.load_study(study_name=study_name, storage=db_path), params=important_hyperparams)"
   ]
  },
  {
   "cell_type": "code",
   "execution_count": 53,
   "metadata": {},
   "outputs": [
    {
     "data": {
      "image/png": "[encoded data removed]",
      "text/plain": [
       "<Figure size 1200x800 with 1 Axes>"
      ]
     },
     "metadata": {},
     "output_type": "display_data"
    },
    {
     "data": {
      "application/vnd.plotly.v1+json": {
       "config": {
        "plotlyServerURL": "https://plot.ly"
       },
       "data": [
        {
         "cliponaxis": false,
         "hovertemplate": [
          "subsample (FloatDistribution): 0.007944893514282346<extra></extra>",
          "subsample_freq (IntDistribution): 0.009572519396483792<extra></extra>",
          "lambda_l2 (IntDistribution): 0.012096782684700047<extra></extra>",
          "min_gain_to_split (IntDistribution): 0.01665892374950566<extra></extra>",
          "min_child_samples (IntDistribution): 0.020477936189195956<extra></extra>",
          "feature_fraction (FloatDistribution): 0.02561728995691733<extra></extra>",
          "max_depth (IntDistribution): 0.03638190034785676<extra></extra>",
          "lambda_l1 (IntDistribution): 0.04551004063542104<extra></extra>",
          "n_estimators (IntDistribution): 0.05135785141809299<extra></extra>",
          "num_leaves (IntDistribution): 0.05498733354548776<extra></extra>",
          "learning_rate (FloatDistribution): 0.7193945285620562<extra></extra>"
         ],
         "name": "Objective Value",
         "orientation": "h",
         "text": [
          "<0.01",
          "<0.01",
          "0.01",
          "0.02",
          "0.02",
          "0.03",
          "0.04",
          "0.05",
          "0.05",
          "0.05",
          "0.72"
         ],
         "textposition": "outside",
         "type": "bar",
         "x": [
          0.007944893514282346,
          0.009572519396483792,
          0.012096782684700047,
          0.01665892374950566,
          0.020477936189195956,
          0.02561728995691733,
          0.03638190034785676,
          0.04551004063542104,
          0.05135785141809299,
          0.05498733354548776,
          0.7193945285620562
         ],
         "y": [
          "subsample",
          "subsample_freq",
          "lambda_l2",
          "min_gain_to_split",
          "min_child_samples",
          "feature_fraction",
          "max_depth",
          "lambda_l1",
          "n_estimators",
          "num_leaves",
          "learning_rate"
         ]
        }
       ],
       "layout": {
        "template": {
         "data": {
          "bar": [
           {
            "error_x": {
             "color": "#2a3f5f"
            },
            "error_y": {
             "color": "#2a3f5f"
            },
            "marker": {
             "line": {
              "color": "#E5ECF6",
              "width": 0.5
             },
             "pattern": {
              "fillmode": "overlay",
              "size": 10,
              "solidity": 0.2
             }
            },
            "type": "bar"
           }
          ],
          "barpolar": [
           {
            "marker": {
             "line": {
              "color": "#E5ECF6",
              "width": 0.5
             },
             "pattern": {
              "fillmode": "overlay",
              "size": 10,
              "solidity": 0.2
             }
            },
            "type": "barpolar"
           }
          ],
          "carpet": [
           {
            "aaxis": {
             "endlinecolor": "#2a3f5f",
             "gridcolor": "white",
             "linecolor": "white",
             "minorgridcolor": "white",
             "startlinecolor": "#2a3f5f"
            },
            "baxis": {
             "endlinecolor": "#2a3f5f",
             "gridcolor": "white",
             "linecolor": "white",
             "minorgridcolor": "white",
             "startlinecolor": "#2a3f5f"
            },
            "type": "carpet"
           }
          ],
          "choropleth": [
           {
            "colorbar": {
             "outlinewidth": 0,
             "ticks": ""
            },
            "type": "choropleth"
           }
          ],
          "contour": [
           {
            "colorbar": {
             "outlinewidth": 0,
             "ticks": ""
            },
            "colorscale": [
             [
              0,
              "#0d0887"
             ],
             [
              0.1111111111111111,
              "#46039f"
             ],
             [
              0.2222222222222222,
              "#7201a8"
             ],
             [
              0.3333333333333333,
              "#9c179e"
             ],
             [
              0.4444444444444444,
              "#bd3786"
             ],
             [
              0.5555555555555556,
              "#d8576b"
             ],
             [
              0.6666666666666666,
              "#ed7953"
             ],
             [
              0.7777777777777778,
              "#fb9f3a"
             ],
             [
              0.8888888888888888,
              "#fdca26"
             ],
             [
              1,
              "#f0f921"
             ]
            ],
            "type": "contour"
           }
          ],
          "contourcarpet": [
           {
            "colorbar": {
             "outlinewidth": 0,
             "ticks": ""
            },
            "type": "contourcarpet"
           }
          ],
          "heatmap": [
           {
            "colorbar": {
             "outlinewidth": 0,
             "ticks": ""
            },
            "colorscale": [
             [
              0,
              "#0d0887"
             ],
             [
              0.1111111111111111,
              "#46039f"
             ],
             [
              0.2222222222222222,
              "#7201a8"
             ],
             [
              0.3333333333333333,
              "#9c179e"
             ],
             [
              0.4444444444444444,
              "#bd3786"
             ],
             [
              0.5555555555555556,
              "#d8576b"
             ],
             [
              0.6666666666666666,
              "#ed7953"
             ],
             [
              0.7777777777777778,
              "#fb9f3a"
             ],
             [
              0.8888888888888888,
              "#fdca26"
             ],
             [
              1,
              "#f0f921"
             ]
            ],
            "type": "heatmap"
           }
          ],
          "heatmapgl": [
           {
            "colorbar": {
             "outlinewidth": 0,
             "ticks": ""
            },
            "colorscale": [
             [
              0,
              "#0d0887"
             ],
             [
              0.1111111111111111,
              "#46039f"
             ],
             [
              0.2222222222222222,
              "#7201a8"
             ],
             [
              0.3333333333333333,
              "#9c179e"
             ],
             [
              0.4444444444444444,
              "#bd3786"
             ],
             [
              0.5555555555555556,
              "#d8576b"
             ],
             [
              0.6666666666666666,
              "#ed7953"
             ],
             [
              0.7777777777777778,
              "#fb9f3a"
             ],
             [
              0.8888888888888888,
              "#fdca26"
             ],
             [
              1,
              "#f0f921"
             ]
            ],
            "type": "heatmapgl"
           }
          ],
          "histogram": [
           {
            "marker": {
             "pattern": {
              "fillmode": "overlay",
              "size": 10,
              "solidity": 0.2
             }
            },
            "type": "histogram"
           }
          ],
          "histogram2d": [
           {
            "colorbar": {
             "outlinewidth": 0,
             "ticks": ""
            },
            "colorscale": [
             [
              0,
              "#0d0887"
             ],
             [
              0.1111111111111111,
              "#46039f"
             ],
             [
              0.2222222222222222,
              "#7201a8"
             ],
             [
              0.3333333333333333,
              "#9c179e"
             ],
             [
              0.4444444444444444,
              "#bd3786"
             ],
             [
              0.5555555555555556,
              "#d8576b"
             ],
             [
              0.6666666666666666,
              "#ed7953"
             ],
             [
              0.7777777777777778,
              "#fb9f3a"
             ],
             [
              0.8888888888888888,
              "#fdca26"
             ],
             [
              1,
              "#f0f921"
             ]
            ],
            "type": "histogram2d"
           }
          ],
          "histogram2dcontour": [
           {
            "colorbar": {
             "outlinewidth": 0,
             "ticks": ""
            },
            "colorscale": [
             [
              0,
              "#0d0887"
             ],
             [
              0.1111111111111111,
              "#46039f"
             ],
             [
              0.2222222222222222,
              "#7201a8"
             ],
             [
              0.3333333333333333,
              "#9c179e"
             ],
             [
              0.4444444444444444,
              "#bd3786"
             ],
             [
              0.5555555555555556,
              "#d8576b"
             ],
             [
              0.6666666666666666,
              "#ed7953"
             ],
             [
              0.7777777777777778,
              "#fb9f3a"
             ],
             [
              0.8888888888888888,
              "#fdca26"
             ],
             [
              1,
              "#f0f921"
             ]
            ],
            "type": "histogram2dcontour"
           }
          ],
          "mesh3d": [
           {
            "colorbar": {
             "outlinewidth": 0,
             "ticks": ""
            },
            "type": "mesh3d"
           }
          ],
          "parcoords": [
           {
            "line": {
             "colorbar": {
              "outlinewidth": 0,
              "ticks": ""
             }
            },
            "type": "parcoords"
           }
          ],
          "pie": [
           {
            "automargin": true,
            "type": "pie"
           }
          ],
          "scatter": [
           {
            "fillpattern": {
             "fillmode": "overlay",
             "size": 10,
             "solidity": 0.2
            },
            "type": "scatter"
           }
          ],
          "scatter3d": [
           {
            "line": {
             "colorbar": {
              "outlinewidth": 0,
              "ticks": ""
             }
            },
            "marker": {
             "colorbar": {
              "outlinewidth": 0,
              "ticks": ""
             }
            },
            "type": "scatter3d"
           }
          ],
          "scattercarpet": [
           {
            "marker": {
             "colorbar": {
              "outlinewidth": 0,
              "ticks": ""
             }
            },
            "type": "scattercarpet"
           }
          ],
          "scattergeo": [
           {
            "marker": {
             "colorbar": {
              "outlinewidth": 0,
              "ticks": ""
             }
            },
            "type": "scattergeo"
           }
          ],
          "scattergl": [
           {
            "marker": {
             "colorbar": {
              "outlinewidth": 0,
              "ticks": ""
             }
            },
            "type": "scattergl"
           }
          ],
          "scattermapbox": [
           {
            "marker": {
             "colorbar": {
              "outlinewidth": 0,
              "ticks": ""
             }
            },
            "type": "scattermapbox"
           }
          ],
          "scatterpolar": [
           {
            "marker": {
             "colorbar": {
              "outlinewidth": 0,
              "ticks": ""
             }
            },
            "type": "scatterpolar"
           }
          ],
          "scatterpolargl": [
           {
            "marker": {
             "colorbar": {
              "outlinewidth": 0,
              "ticks": ""
             }
            },
            "type": "scatterpolargl"
           }
          ],
          "scatterternary": [
           {
            "marker": {
             "colorbar": {
              "outlinewidth": 0,
              "ticks": ""
             }
            },
            "type": "scatterternary"
           }
          ],
          "surface": [
           {
            "colorbar": {
             "outlinewidth": 0,
             "ticks": ""
            },
            "colorscale": [
             [
              0,
              "#0d0887"
             ],
             [
              0.1111111111111111,
              "#46039f"
             ],
             [
              0.2222222222222222,
              "#7201a8"
             ],
             [
              0.3333333333333333,
              "#9c179e"
             ],
             [
              0.4444444444444444,
              "#bd3786"
             ],
             [
              0.5555555555555556,
              "#d8576b"
             ],
             [
              0.6666666666666666,
              "#ed7953"
             ],
             [
              0.7777777777777778,
              "#fb9f3a"
             ],
             [
              0.8888888888888888,
              "#fdca26"
             ],
             [
              1,
              "#f0f921"
             ]
            ],
            "type": "surface"
           }
          ],
          "table": [
           {
            "cells": {
             "fill": {
              "color": "#EBF0F8"
             },
             "line": {
              "color": "white"
             }
            },
            "header": {
             "fill": {
              "color": "#C8D4E3"
             },
             "line": {
              "color": "white"
             }
            },
            "type": "table"
           }
          ]
         },
         "layout": {
          "annotationdefaults": {
           "arrowcolor": "#2a3f5f",
           "arrowhead": 0,
           "arrowwidth": 1
          },
          "autotypenumbers": "strict",
          "coloraxis": {
           "colorbar": {
            "outlinewidth": 0,
            "ticks": ""
           }
          },
          "colorscale": {
           "diverging": [
            [
             0,
             "#8e0152"
            ],
            [
             0.1,
             "#c51b7d"
            ],
            [
             0.2,
             "#de77ae"
            ],
            [
             0.3,
             "#f1b6da"
            ],
            [
             0.4,
             "#fde0ef"
            ],
            [
             0.5,
             "#f7f7f7"
            ],
            [
             0.6,
             "#e6f5d0"
            ],
            [
             0.7,
             "#b8e186"
            ],
            [
             0.8,
             "#7fbc41"
            ],
            [
             0.9,
             "#4d9221"
            ],
            [
             1,
             "#276419"
            ]
           ],
           "sequential": [
            [
             0,
             "#0d0887"
            ],
            [
             0.1111111111111111,
             "#46039f"
            ],
            [
             0.2222222222222222,
             "#7201a8"
            ],
            [
             0.3333333333333333,
             "#9c179e"
            ],
            [
             0.4444444444444444,
             "#bd3786"
            ],
            [
             0.5555555555555556,
             "#d8576b"
            ],
            [
             0.6666666666666666,
             "#ed7953"
            ],
            [
             0.7777777777777778,
             "#fb9f3a"
            ],
            [
             0.8888888888888888,
             "#fdca26"
            ],
            [
             1,
             "#f0f921"
            ]
           ],
           "sequentialminus": [
            [
             0,
             "#0d0887"
            ],
            [
             0.1111111111111111,
             "#46039f"
            ],
            [
             0.2222222222222222,
             "#7201a8"
            ],
            [
             0.3333333333333333,
             "#9c179e"
            ],
            [
             0.4444444444444444,
             "#bd3786"
            ],
            [
             0.5555555555555556,
             "#d8576b"
            ],
            [
             0.6666666666666666,
             "#ed7953"
            ],
            [
             0.7777777777777778,
             "#fb9f3a"
            ],
            [
             0.8888888888888888,
             "#fdca26"
            ],
            [
             1,
             "#f0f921"
            ]
           ]
          },
          "colorway": [
           "#636efa",
           "#EF553B",
           "#00cc96",
           "#ab63fa",
           "#FFA15A",
           "#19d3f3",
           "#FF6692",
           "#B6E880",
           "#FF97FF",
           "#FECB52"
          ],
          "font": {
           "color": "#2a3f5f"
          },
          "geo": {
           "bgcolor": "white",
           "lakecolor": "white",
           "landcolor": "#E5ECF6",
           "showlakes": true,
           "showland": true,
           "subunitcolor": "white"
          },
          "hoverlabel": {
           "align": "left"
          },
          "hovermode": "closest",
          "mapbox": {
           "style": "light"
          },
          "paper_bgcolor": "white",
          "plot_bgcolor": "#E5ECF6",
          "polar": {
           "angularaxis": {
            "gridcolor": "white",
            "linecolor": "white",
            "ticks": ""
           },
           "bgcolor": "#E5ECF6",
           "radialaxis": {
            "gridcolor": "white",
            "linecolor": "white",
            "ticks": ""
           }
          },
          "scene": {
           "xaxis": {
            "backgroundcolor": "#E5ECF6",
            "gridcolor": "white",
            "gridwidth": 2,
            "linecolor": "white",
            "showbackground": true,
            "ticks": "",
            "zerolinecolor": "white"
           },
           "yaxis": {
            "backgroundcolor": "#E5ECF6",
            "gridcolor": "white",
            "gridwidth": 2,
            "linecolor": "white",
            "showbackground": true,
            "ticks": "",
            "zerolinecolor": "white"
           },
           "zaxis": {
            "backgroundcolor": "#E5ECF6",
            "gridcolor": "white",
            "gridwidth": 2,
            "linecolor": "white",
            "showbackground": true,
            "ticks": "",
            "zerolinecolor": "white"
           }
          },
          "shapedefaults": {
           "line": {
            "color": "#2a3f5f"
           }
          },
          "ternary": {
           "aaxis": {
            "gridcolor": "white",
            "linecolor": "white",
            "ticks": ""
           },
           "baxis": {
            "gridcolor": "white",
            "linecolor": "white",
            "ticks": ""
           },
           "bgcolor": "#E5ECF6",
           "caxis": {
            "gridcolor": "white",
            "linecolor": "white",
            "ticks": ""
           }
          },
          "title": {
           "x": 0.05
          },
          "xaxis": {
           "automargin": true,
           "gridcolor": "white",
           "linecolor": "white",
           "ticks": "",
           "title": {
            "standoff": 15
           },
           "zerolinecolor": "white",
           "zerolinewidth": 2
          },
          "yaxis": {
           "automargin": true,
           "gridcolor": "white",
           "linecolor": "white",
           "ticks": "",
           "title": {
            "standoff": 15
           },
           "zerolinecolor": "white",
           "zerolinewidth": 2
          }
         }
        },
        "title": {
         "text": "Hyperparameter Importances"
        },
        "xaxis": {
         "title": {
          "text": "Hyperparameter Importance"
         }
        },
        "yaxis": {
         "title": {
          "text": "Hyperparameter"
         }
        }
       }
      }
     },
     "metadata": {},
     "output_type": "display_data"
    }
   ],
   "source": [
    "# Plot the feature importance\n",
    "fig, ax = plt.subplots(figsize=(12, 8))\n",
    "lgb.plot_importance(model, ax=ax)\n",
    "plt.show()\n",
    "\n",
    "# plot hyperparameter importance\n",
    "optuna.visualization.plot_param_importances(study).show()\n"
   ]
  },
  {
   "cell_type": "code",
   "execution_count": 54,
   "metadata": {},
   "outputs": [],
   "source": [
    "# do the predictions to the test data and store the results in column : TARGET\n",
    "\n",
    "if \"TARGET\" in test.columns:\n",
    "    test = test.drop(columns=[\"TARGET\"])\n",
    "test[\"TARGET\"] = model.predict(test.drop(columns=[\"ID\", \"parentspecies\"]))\n",
    "\n",
    "# save the ID and TArGET columns to a csv file called : optana_lgbm.csv\n",
    "test[[\"ID\", \"TARGET\"]].to_csv(\"optana_lgbm.csv\", index=False)"
   ]
  }
 ],
 "metadata": {
  "kernelspec": {
   "display_name": "base",
   "language": "python",
   "name": "python3"
  },
  "language_info": {
   "codemirror_mode": {
    "name": "ipython",
    "version": 3
   },
   "file_extension": ".py",
   "mimetype": "text/x-python",
   "name": "python",
   "nbconvert_exporter": "python",
   "pygments_lexer": "ipython3",
   "version": "3.12.7"
  }
 },
 "nbformat": 4,
 "nbformat_minor": 2
}
