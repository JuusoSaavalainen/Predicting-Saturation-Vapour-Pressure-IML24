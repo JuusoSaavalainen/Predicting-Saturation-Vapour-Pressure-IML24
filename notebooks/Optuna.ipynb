{
 "cells": [
  {
   "cell_type": "code",
   "execution_count": 57,
   "metadata": {},
   "outputs": [],
   "source": [
    "import pandas as pd\n",
    "import optuna\n",
    "import optunahub\n",
    "import lightgbm as lgb\n",
    "import numpy as np\n",
    "import matplotlib.pyplot as plt\n",
    "import seaborn as sns\n",
    "import plotly\n",
    "from sklearn.metrics import mean_squared_error, mean_absolute_error, r2_score\n",
    "from sklearn.model_selection import train_test_split, KFold, cross_val_score\n",
    "from optuna.samplers import TPESampler"
   ]
  },
  {
   "cell_type": "code",
   "execution_count": 60,
   "metadata": {},
   "outputs": [
    {
     "name": "stderr",
     "output_type": "stream",
     "text": [
      "[I 2024-11-22 02:10:56,698] Using an existing study with name 'iml_experiment_v7' instead of creating a new one.\n"
     ]
    }
   ],
   "source": [
    "db_path = \"sqlite:///../Data/optuna.db\"\n",
    "study_name = \"iml_experiment_v7\"\n",
    "\n",
    "# Create a new study or load an existing one\n",
    "study = optuna.create_study(study_name=study_name,\n",
    "                            storage=db_path,\n",
    "                            load_if_exists=True,\n",
    "                            direction=\"minimize\",\n",
    "                            sampler=optunahub.load_module(\"samplers/auto_sampler\").AutoSampler()\n",
    "                            )\n",
    "\n",
    "# Load the data\n",
    "train = pd.read_csv(\"../Data/train.csv\")\n",
    "test = pd.read_csv(\"../Data/test.csv\")\n",
    "\n",
    "# Split the data\n",
    "X = train.drop(columns=[\"log_pSat_Pa\", \"ID\", \"parentspecies\"])\n",
    "y = train[\"log_pSat_Pa\"]\n",
    "train_x, test_x, train_y, test_y = train_test_split(X, y, test_size=0.25, random_state=75)"
   ]
  },
  {
   "cell_type": "code",
   "execution_count": 61,
   "metadata": {},
   "outputs": [
    {
     "name": "stderr",
     "output_type": "stream",
     "text": [
      "/home/saavajuu/anaconda3/lib/python3.12/site-packages/optuna/distributions.py:708: UserWarning:\n",
      "\n",
      "The distribution is specified by [1, 100] and step=5, but the range is not divisible by `step`. It will be replaced by [1, 96].\n",
      "\n",
      "[I 2024-11-22 02:10:59,464] Trial 0 finished with value: 1.2293339926735267 and parameters: {'n_estimators': 404, 'learning_rate': 0.0986070962606092, 'subsample': 0.5094113667196974, 'subsample_freq': 2, 'feature_fraction': 0.2, 'min_child_samples': 40, 'num_leaves': 37, 'max_depth': 14, 'min_gain_to_split': 8.873375988029157, 'lambda_l1': 71, 'lambda_l2': 1}. Best is trial 0 with value: 1.2293339926735267.\n",
      "/home/saavajuu/.cache/optunahub/api.github.com/optuna/optunahub-registry/main/package/samplers/auto_sampler/_sampler.py:164: ExperimentalWarning:\n",
      "\n",
      "GPSampler is experimental (supported from v3.6.0). The interface can change in the future.\n",
      "\n",
      "/home/saavajuu/anaconda3/lib/python3.12/site-packages/optuna/distributions.py:708: UserWarning:\n",
      "\n",
      "The distribution is specified by [1, 100] and step=5, but the range is not divisible by `step`. It will be replaced by [1, 96].\n",
      "\n",
      "[I 2024-11-22 02:11:00,346] Trial 1 finished with value: 1.593011080992148 and parameters: {'n_estimators': 532, 'learning_rate': 0.002292577299010672, 'subsample': 0.4600429422559171, 'subsample_freq': 8, 'feature_fraction': 0.9, 'min_child_samples': 46, 'num_leaves': 44, 'max_depth': 9, 'min_gain_to_split': 4.268584907839359, 'lambda_l1': 66, 'lambda_l2': 66}. Best is trial 0 with value: 1.2293339926735267.\n",
      "/home/saavajuu/anaconda3/lib/python3.12/site-packages/optuna/distributions.py:708: UserWarning:\n",
      "\n",
      "The distribution is specified by [1, 100] and step=5, but the range is not divisible by `step`. It will be replaced by [1, 96].\n",
      "\n",
      "[I 2024-11-22 02:11:00,743] Trial 2 finished with value: 1.2372993193828024 and parameters: {'n_estimators': 814, 'learning_rate': 0.08974606936882512, 'subsample': 0.29037482497725187, 'subsample_freq': 4, 'feature_fraction': 0.2, 'min_child_samples': 113, 'num_leaves': 20, 'max_depth': 3, 'min_gain_to_split': 4.154386137841305, 'lambda_l1': 66, 'lambda_l2': 6}. Best is trial 0 with value: 1.2293339926735267.\n",
      "/home/saavajuu/anaconda3/lib/python3.12/site-packages/optuna/distributions.py:708: UserWarning:\n",
      "\n",
      "The distribution is specified by [1, 100] and step=5, but the range is not divisible by `step`. It will be replaced by [1, 96].\n",
      "\n",
      "[I 2024-11-22 02:11:01,383] Trial 3 finished with value: 1.2061532919837126 and parameters: {'n_estimators': 598, 'learning_rate': 0.04307712799889187, 'subsample': 0.7204968821646666, 'subsample_freq': 6, 'feature_fraction': 0.4, 'min_child_samples': 116, 'num_leaves': 53, 'max_depth': 9, 'min_gain_to_split': 5.850262942624427, 'lambda_l1': 51, 'lambda_l2': 66}. Best is trial 3 with value: 1.2061532919837126.\n",
      "/home/saavajuu/anaconda3/lib/python3.12/site-packages/optuna/distributions.py:708: UserWarning:\n",
      "\n",
      "The distribution is specified by [1, 100] and step=5, but the range is not divisible by `step`. It will be replaced by [1, 96].\n",
      "\n",
      "[I 2024-11-22 02:11:02,440] Trial 4 finished with value: 1.2600410033790947 and parameters: {'n_estimators': 1096, 'learning_rate': 0.006908538085545878, 'subsample': 0.4060745718734994, 'subsample_freq': 3, 'feature_fraction': 0.7, 'min_child_samples': 51, 'num_leaves': 62, 'max_depth': 4, 'min_gain_to_split': 3.904645339710633, 'lambda_l1': 81, 'lambda_l2': 76}. Best is trial 3 with value: 1.2061532919837126.\n",
      "/home/saavajuu/anaconda3/lib/python3.12/site-packages/optuna/distributions.py:708: UserWarning:\n",
      "\n",
      "The distribution is specified by [1, 100] and step=5, but the range is not divisible by `step`. It will be replaced by [1, 96].\n",
      "\n",
      "[I 2024-11-22 02:11:03,085] Trial 5 finished with value: 1.2910638577041322 and parameters: {'n_estimators': 447, 'learning_rate': 0.008829683531299279, 'subsample': 0.7479909013131658, 'subsample_freq': 9, 'feature_fraction': 0.8, 'min_child_samples': 127, 'num_leaves': 78, 'max_depth': 5, 'min_gain_to_split': 1.3873789583271356, 'lambda_l1': 76, 'lambda_l2': 66}. Best is trial 3 with value: 1.2061532919837126.\n",
      "/home/saavajuu/anaconda3/lib/python3.12/site-packages/optuna/distributions.py:708: UserWarning:\n",
      "\n",
      "The distribution is specified by [1, 100] and step=5, but the range is not divisible by `step`. It will be replaced by [1, 96].\n",
      "\n",
      "[I 2024-11-22 02:11:03,373] Trial 6 finished with value: 1.573385416269376 and parameters: {'n_estimators': 125, 'learning_rate': 0.017151184499821188, 'subsample': 0.37196890194471527, 'subsample_freq': 1, 'feature_fraction': 0.2, 'min_child_samples': 149, 'num_leaves': 60, 'max_depth': 12, 'min_gain_to_split': 14.923871384454202, 'lambda_l1': 36, 'lambda_l2': 16}. Best is trial 3 with value: 1.2061532919837126.\n",
      "/home/saavajuu/anaconda3/lib/python3.12/site-packages/optuna/distributions.py:708: UserWarning:\n",
      "\n",
      "The distribution is specified by [1, 100] and step=5, but the range is not divisible by `step`. It will be replaced by [1, 96].\n",
      "\n",
      "[I 2024-11-22 02:11:03,784] Trial 7 finished with value: 1.2638124910916566 and parameters: {'n_estimators': 315, 'learning_rate': 0.017197376558431145, 'subsample': 0.4699401691196891, 'subsample_freq': 7, 'feature_fraction': 0.8, 'min_child_samples': 32, 'num_leaves': 13, 'max_depth': 14, 'min_gain_to_split': 10.904060263280702, 'lambda_l1': 61, 'lambda_l2': 66}. Best is trial 3 with value: 1.2061532919837126.\n",
      "/home/saavajuu/anaconda3/lib/python3.12/site-packages/optuna/distributions.py:708: UserWarning:\n",
      "\n",
      "The distribution is specified by [1, 100] and step=5, but the range is not divisible by `step`. It will be replaced by [1, 96].\n",
      "\n",
      "[I 2024-11-22 02:11:04,498] Trial 8 finished with value: 1.2241895492716282 and parameters: {'n_estimators': 730, 'learning_rate': 0.024159368788154546, 'subsample': 0.5947344944903963, 'subsample_freq': 3, 'feature_fraction': 0.30000000000000004, 'min_child_samples': 91, 'num_leaves': 41, 'max_depth': 15, 'min_gain_to_split': 5.842288589803983, 'lambda_l1': 76, 'lambda_l2': 81}. Best is trial 3 with value: 1.2061532919837126.\n",
      "/home/saavajuu/anaconda3/lib/python3.12/site-packages/optuna/distributions.py:708: UserWarning:\n",
      "\n",
      "The distribution is specified by [1, 100] and step=5, but the range is not divisible by `step`. It will be replaced by [1, 96].\n",
      "\n",
      "[I 2024-11-22 02:11:05,854] Trial 9 finished with value: 1.4026577026870433 and parameters: {'n_estimators': 972, 'learning_rate': 0.0021581531938062344, 'subsample': 0.29813833629683334, 'subsample_freq': 1, 'feature_fraction': 0.9, 'min_child_samples': 73, 'num_leaves': 23, 'max_depth': 7, 'min_gain_to_split': 5.107513722529259, 'lambda_l1': 21, 'lambda_l2': 41}. Best is trial 3 with value: 1.2061532919837126.\n",
      "/home/saavajuu/anaconda3/lib/python3.12/site-packages/optuna/distributions.py:708: UserWarning:\n",
      "\n",
      "The distribution is specified by [1, 100] and step=5, but the range is not divisible by `step`. It will be replaced by [1, 96].\n",
      "\n",
      "[I 2024-11-22 02:11:07,650] Trial 10 finished with value: 1.2177358227579391 and parameters: {'n_estimators': 906, 'learning_rate': 0.08129864051125942, 'subsample': 0.624903516989306, 'subsample_freq': 4, 'feature_fraction': 0.6000000000000001, 'min_child_samples': 51, 'num_leaves': 41, 'max_depth': 8, 'min_gain_to_split': 5.120832818228664, 'lambda_l1': 81, 'lambda_l2': 71}. Best is trial 3 with value: 1.2061532919837126.\n",
      "/home/saavajuu/anaconda3/lib/python3.12/site-packages/optuna/distributions.py:708: UserWarning:\n",
      "\n",
      "The distribution is specified by [1, 100] and step=5, but the range is not divisible by `step`. It will be replaced by [1, 96].\n",
      "\n",
      "[I 2024-11-22 02:11:10,049] Trial 11 finished with value: 1.2144825297683588 and parameters: {'n_estimators': 1133, 'learning_rate': 0.031212541958731473, 'subsample': 0.663972655713295, 'subsample_freq': 3, 'feature_fraction': 0.30000000000000004, 'min_child_samples': 117, 'num_leaves': 80, 'max_depth': 3, 'min_gain_to_split': 1.2473404968015829, 'lambda_l1': 86, 'lambda_l2': 81}. Best is trial 3 with value: 1.2061532919837126.\n",
      "/home/saavajuu/anaconda3/lib/python3.12/site-packages/optuna/distributions.py:708: UserWarning:\n",
      "\n",
      "The distribution is specified by [1, 100] and step=5, but the range is not divisible by `step`. It will be replaced by [1, 96].\n",
      "\n",
      "[I 2024-11-22 02:11:12,880] Trial 12 finished with value: 1.2652511143675425 and parameters: {'n_estimators': 372, 'learning_rate': 0.09370769321350758, 'subsample': 0.6726864967067747, 'subsample_freq': 9, 'feature_fraction': 0.4000000000000001, 'min_child_samples': 43, 'num_leaves': 2, 'max_depth': 15, 'min_gain_to_split': 6.516262761967307, 'lambda_l1': 76, 'lambda_l2': 71}. Best is trial 3 with value: 1.2061532919837126.\n",
      "/home/saavajuu/anaconda3/lib/python3.12/site-packages/optuna/distributions.py:708: UserWarning:\n",
      "\n",
      "The distribution is specified by [1, 100] and step=5, but the range is not divisible by `step`. It will be replaced by [1, 96].\n",
      "\n",
      "[I 2024-11-22 02:11:16,056] Trial 13 finished with value: 1.235830372822915 and parameters: {'n_estimators': 1300, 'learning_rate': 0.029637845049648878, 'subsample': 0.3410995455484521, 'subsample_freq': 1, 'feature_fraction': 0.30000000000000004, 'min_child_samples': 37, 'num_leaves': 73, 'max_depth': 3, 'min_gain_to_split': 5.562686036066816, 'lambda_l1': 76, 'lambda_l2': 81}. Best is trial 3 with value: 1.2061532919837126.\n",
      "/home/saavajuu/anaconda3/lib/python3.12/site-packages/optuna/distributions.py:708: UserWarning:\n",
      "\n",
      "The distribution is specified by [1, 100] and step=5, but the range is not divisible by `step`. It will be replaced by [1, 96].\n",
      "\n",
      "[I 2024-11-22 02:11:18,652] Trial 14 finished with value: 1.183901905828109 and parameters: {'n_estimators': 772, 'learning_rate': 0.06366991571707001, 'subsample': 0.75, 'subsample_freq': 4, 'feature_fraction': 0.7000000000000002, 'min_child_samples': 114, 'num_leaves': 80, 'max_depth': 13, 'min_gain_to_split': 0.7530625127386981, 'lambda_l1': 61, 'lambda_l2': 26}. Best is trial 14 with value: 1.183901905828109.\n",
      "/home/saavajuu/anaconda3/lib/python3.12/site-packages/optuna/distributions.py:708: UserWarning:\n",
      "\n",
      "The distribution is specified by [1, 100] and step=5, but the range is not divisible by `step`. It will be replaced by [1, 96].\n",
      "\n",
      "[I 2024-11-22 02:11:23,754] Trial 15 finished with value: 1.1586112849271322 and parameters: {'n_estimators': 1020, 'learning_rate': 0.05009168144532302, 'subsample': 0.75, 'subsample_freq': 8, 'feature_fraction': 0.9, 'min_child_samples': 150, 'num_leaves': 49, 'max_depth': 12, 'min_gain_to_split': 0.0, 'lambda_l1': 36, 'lambda_l2': 96}. Best is trial 15 with value: 1.1586112849271322.\n",
      "/home/saavajuu/anaconda3/lib/python3.12/site-packages/optuna/distributions.py:708: UserWarning:\n",
      "\n",
      "The distribution is specified by [1, 100] and step=5, but the range is not divisible by `step`. It will be replaced by [1, 96].\n",
      "\n",
      "[I 2024-11-22 02:11:27,686] Trial 16 finished with value: 1.1548786620953966 and parameters: {'n_estimators': 1235, 'learning_rate': 0.03664176317440434, 'subsample': 0.75, 'subsample_freq': 5, 'feature_fraction': 0.9, 'min_child_samples': 100, 'num_leaves': 14, 'max_depth': 11, 'min_gain_to_split': 0.0047031886503357875, 'lambda_l1': 1, 'lambda_l2': 36}. Best is trial 16 with value: 1.1548786620953966.\n",
      "/home/saavajuu/anaconda3/lib/python3.12/site-packages/optuna/distributions.py:708: UserWarning:\n",
      "\n",
      "The distribution is specified by [1, 100] and step=5, but the range is not divisible by `step`. It will be replaced by [1, 96].\n",
      "\n",
      "[I 2024-11-22 02:11:30,398] Trial 17 finished with value: 1.1968350782153898 and parameters: {'n_estimators': 1300, 'learning_rate': 0.0347899482870544, 'subsample': 0.75, 'subsample_freq': 10, 'feature_fraction': 0.9, 'min_child_samples': 121, 'num_leaves': 40, 'max_depth': 14, 'min_gain_to_split': 2.932769839589454, 'lambda_l1': 66, 'lambda_l2': 11}. Best is trial 16 with value: 1.1548786620953966.\n",
      "/home/saavajuu/anaconda3/lib/python3.12/site-packages/optuna/distributions.py:708: UserWarning:\n",
      "\n",
      "The distribution is specified by [1, 100] and step=5, but the range is not divisible by `step`. It will be replaced by [1, 96].\n",
      "\n",
      "[I 2024-11-22 02:11:36,241] Trial 18 finished with value: 1.154580509464159 and parameters: {'n_estimators': 1025, 'learning_rate': 0.032364284991665375, 'subsample': 0.75, 'subsample_freq': 5, 'feature_fraction': 0.9, 'min_child_samples': 75, 'num_leaves': 78, 'max_depth': 14, 'min_gain_to_split': 0.0, 'lambda_l1': 1, 'lambda_l2': 96}. Best is trial 18 with value: 1.154580509464159.\n",
      "/home/saavajuu/anaconda3/lib/python3.12/site-packages/optuna/distributions.py:708: UserWarning:\n",
      "\n",
      "The distribution is specified by [1, 100] and step=5, but the range is not divisible by `step`. It will be replaced by [1, 96].\n",
      "\n",
      "[I 2024-11-22 02:11:39,766] Trial 19 finished with value: 1.2777084607955227 and parameters: {'n_estimators': 823, 'learning_rate': 0.030872194848737017, 'subsample': 0.75, 'subsample_freq': 4, 'feature_fraction': 0.9, 'min_child_samples': 96, 'num_leaves': 2, 'max_depth': 8, 'min_gain_to_split': 0.0, 'lambda_l1': 26, 'lambda_l2': 96}. Best is trial 18 with value: 1.154580509464159.\n",
      "/home/saavajuu/anaconda3/lib/python3.12/site-packages/optuna/distributions.py:708: UserWarning:\n",
      "\n",
      "The distribution is specified by [1, 100] and step=5, but the range is not divisible by `step`. It will be replaced by [1, 96].\n",
      "\n",
      "[I 2024-11-22 02:11:44,472] Trial 20 finished with value: 1.1791055185981363 and parameters: {'n_estimators': 1300, 'learning_rate': 0.056153325848596954, 'subsample': 0.75, 'subsample_freq': 4, 'feature_fraction': 0.9, 'min_child_samples': 130, 'num_leaves': 65, 'max_depth': 15, 'min_gain_to_split': 0.0, 'lambda_l1': 1, 'lambda_l2': 61}. Best is trial 18 with value: 1.154580509464159.\n",
      "/home/saavajuu/anaconda3/lib/python3.12/site-packages/optuna/distributions.py:708: UserWarning:\n",
      "\n",
      "The distribution is specified by [1, 100] and step=5, but the range is not divisible by `step`. It will be replaced by [1, 96].\n",
      "\n",
      "[I 2024-11-22 02:11:48,881] Trial 21 finished with value: 1.1648823979146903 and parameters: {'n_estimators': 1030, 'learning_rate': 0.04610217265189499, 'subsample': 0.75, 'subsample_freq': 10, 'feature_fraction': 0.30000000000000004, 'min_child_samples': 97, 'num_leaves': 60, 'max_depth': 15, 'min_gain_to_split': 0.0, 'lambda_l1': 1, 'lambda_l2': 71}. Best is trial 18 with value: 1.154580509464159.\n",
      "/home/saavajuu/anaconda3/lib/python3.12/site-packages/optuna/distributions.py:708: UserWarning:\n",
      "\n",
      "The distribution is specified by [1, 100] and step=5, but the range is not divisible by `step`. It will be replaced by [1, 96].\n",
      "\n",
      "[I 2024-11-22 02:11:52,635] Trial 22 finished with value: 1.1577180681481867 and parameters: {'n_estimators': 837, 'learning_rate': 0.053421736453149266, 'subsample': 0.75, 'subsample_freq': 10, 'feature_fraction': 0.9, 'min_child_samples': 143, 'num_leaves': 98, 'max_depth': 8, 'min_gain_to_split': 0.0, 'lambda_l1': 1, 'lambda_l2': 96}. Best is trial 18 with value: 1.154580509464159.\n",
      "/home/saavajuu/anaconda3/lib/python3.12/site-packages/optuna/distributions.py:708: UserWarning:\n",
      "\n",
      "The distribution is specified by [1, 100] and step=5, but the range is not divisible by `step`. It will be replaced by [1, 96].\n",
      "\n",
      "[I 2024-11-22 02:11:55,008] Trial 23 finished with value: 1.1859997480536164 and parameters: {'n_estimators': 958, 'learning_rate': 0.04821946734482835, 'subsample': 0.75, 'subsample_freq': 10, 'feature_fraction': 0.9, 'min_child_samples': 102, 'num_leaves': 86, 'max_depth': 15, 'min_gain_to_split': 6.634167799382398, 'lambda_l1': 1, 'lambda_l2': 96}. Best is trial 18 with value: 1.154580509464159.\n",
      "/home/saavajuu/anaconda3/lib/python3.12/site-packages/optuna/distributions.py:708: UserWarning:\n",
      "\n",
      "The distribution is specified by [1, 100] and step=5, but the range is not divisible by `step`. It will be replaced by [1, 96].\n",
      "\n",
      "[I 2024-11-22 02:11:58,130] Trial 24 finished with value: 1.1570409616253667 and parameters: {'n_estimators': 1300, 'learning_rate': 0.03921627781624383, 'subsample': 0.5529906671362903, 'subsample_freq': 2, 'feature_fraction': 0.9, 'min_child_samples': 15, 'num_leaves': 20, 'max_depth': 15, 'min_gain_to_split': 0.0, 'lambda_l1': 1, 'lambda_l2': 1}. Best is trial 18 with value: 1.154580509464159.\n",
      "/home/saavajuu/anaconda3/lib/python3.12/site-packages/optuna/distributions.py:708: UserWarning:\n",
      "\n",
      "The distribution is specified by [1, 100] and step=5, but the range is not divisible by `step`. It will be replaced by [1, 96].\n",
      "\n",
      "[I 2024-11-22 02:11:59,650] Trial 25 finished with value: 1.2291515869520797 and parameters: {'n_estimators': 1300, 'learning_rate': 0.07367930752376263, 'subsample': 0.4757809658455592, 'subsample_freq': 7, 'feature_fraction': 0.9, 'min_child_samples': 150, 'num_leaves': 2, 'max_depth': 15, 'min_gain_to_split': 0.0, 'lambda_l1': 1, 'lambda_l2': 1}. Best is trial 18 with value: 1.154580509464159.\n",
      "/home/saavajuu/anaconda3/lib/python3.12/site-packages/optuna/distributions.py:708: UserWarning:\n",
      "\n",
      "The distribution is specified by [1, 100] and step=5, but the range is not divisible by `step`. It will be replaced by [1, 96].\n",
      "\n",
      "[I 2024-11-22 02:12:03,187] Trial 26 finished with value: 1.1551947540006375 and parameters: {'n_estimators': 1300, 'learning_rate': 0.027909045530365724, 'subsample': 0.75, 'subsample_freq': 4, 'feature_fraction': 0.9, 'min_child_samples': 15, 'num_leaves': 40, 'max_depth': 4, 'min_gain_to_split': 0.0, 'lambda_l1': 1, 'lambda_l2': 1}. Best is trial 18 with value: 1.154580509464159.\n",
      "/home/saavajuu/anaconda3/lib/python3.12/site-packages/optuna/distributions.py:708: UserWarning:\n",
      "\n",
      "The distribution is specified by [1, 100] and step=5, but the range is not divisible by `step`. It will be replaced by [1, 96].\n",
      "\n",
      "[I 2024-11-22 02:12:06,985] Trial 27 finished with value: 1.1602329905775626 and parameters: {'n_estimators': 960, 'learning_rate': 0.03665776741372572, 'subsample': 0.75, 'subsample_freq': 10, 'feature_fraction': 0.9, 'min_child_samples': 107, 'num_leaves': 65, 'max_depth': 5, 'min_gain_to_split': 0.0, 'lambda_l1': 1, 'lambda_l2': 51}. Best is trial 18 with value: 1.154580509464159.\n",
      "/home/saavajuu/anaconda3/lib/python3.12/site-packages/optuna/distributions.py:708: UserWarning:\n",
      "\n",
      "The distribution is specified by [1, 100] and step=5, but the range is not divisible by `step`. It will be replaced by [1, 96].\n",
      "\n",
      "[I 2024-11-22 02:12:11,309] Trial 28 finished with value: 1.1661204795712425 and parameters: {'n_estimators': 537, 'learning_rate': 0.07620189529593872, 'subsample': 0.75, 'subsample_freq': 10, 'feature_fraction': 0.9, 'min_child_samples': 15, 'num_leaves': 90, 'max_depth': 15, 'min_gain_to_split': 0.0, 'lambda_l1': 1, 'lambda_l2': 96}. Best is trial 18 with value: 1.154580509464159.\n",
      "/home/saavajuu/anaconda3/lib/python3.12/site-packages/optuna/distributions.py:708: UserWarning:\n",
      "\n",
      "The distribution is specified by [1, 100] and step=5, but the range is not divisible by `step`. It will be replaced by [1, 96].\n",
      "\n",
      "[I 2024-11-22 02:12:14,949] Trial 29 finished with value: 1.1483126391937546 and parameters: {'n_estimators': 1300, 'learning_rate': 0.025156243813342343, 'subsample': 0.75, 'subsample_freq': 2, 'feature_fraction': 0.9, 'min_child_samples': 35, 'num_leaves': 34, 'max_depth': 15, 'min_gain_to_split': 0.0, 'lambda_l1': 1, 'lambda_l2': 76}. Best is trial 29 with value: 1.1483126391937546.\n",
      "/home/saavajuu/anaconda3/lib/python3.12/site-packages/optuna/distributions.py:708: UserWarning:\n",
      "\n",
      "The distribution is specified by [1, 100] and step=5, but the range is not divisible by `step`. It will be replaced by [1, 96].\n",
      "\n",
      "[I 2024-11-22 02:12:16,239] Trial 30 finished with value: 1.1677206280292631 and parameters: {'n_estimators': 328, 'learning_rate': 0.5, 'subsample': 0.75, 'subsample_freq': 10, 'feature_fraction': 0.9, 'min_child_samples': 150, 'num_leaves': 100, 'max_depth': 3, 'min_gain_to_split': 0.0, 'lambda_l1': 1, 'lambda_l2': 96}. Best is trial 29 with value: 1.1483126391937546.\n",
      "/home/saavajuu/anaconda3/lib/python3.12/site-packages/optuna/distributions.py:708: UserWarning:\n",
      "\n",
      "The distribution is specified by [1, 100] and step=5, but the range is not divisible by `step`. It will be replaced by [1, 96].\n",
      "\n",
      "[I 2024-11-22 02:12:19,452] Trial 31 finished with value: 1.3738537853751445 and parameters: {'n_estimators': 683, 'learning_rate': 0.5, 'subsample': 0.25, 'subsample_freq': 10, 'feature_fraction': 0.9, 'min_child_samples': 15, 'num_leaves': 100, 'max_depth': 15, 'min_gain_to_split': 0.0, 'lambda_l1': 1, 'lambda_l2': 96}. Best is trial 29 with value: 1.1483126391937546.\n",
      "/home/saavajuu/anaconda3/lib/python3.12/site-packages/optuna/distributions.py:708: UserWarning:\n",
      "\n",
      "The distribution is specified by [1, 100] and step=5, but the range is not divisible by `step`. It will be replaced by [1, 96].\n",
      "\n",
      "[I 2024-11-22 02:12:21,995] Trial 32 finished with value: 1.1611690540913329 and parameters: {'n_estimators': 1300, 'learning_rate': 0.03635087242013883, 'subsample': 0.75, 'subsample_freq': 1, 'feature_fraction': 0.2, 'min_child_samples': 15, 'num_leaves': 19, 'max_depth': 15, 'min_gain_to_split': 0.0, 'lambda_l1': 1, 'lambda_l2': 1}. Best is trial 29 with value: 1.1483126391937546.\n",
      "/home/saavajuu/anaconda3/lib/python3.12/site-packages/optuna/distributions.py:708: UserWarning:\n",
      "\n",
      "The distribution is specified by [1, 100] and step=5, but the range is not divisible by `step`. It will be replaced by [1, 96].\n",
      "\n",
      "[I 2024-11-22 02:12:23,778] Trial 33 finished with value: 1.1877732769955647 and parameters: {'n_estimators': 1300, 'learning_rate': 0.029833575387648602, 'subsample': 0.6867447528240671, 'subsample_freq': 1, 'feature_fraction': 0.9, 'min_child_samples': 15, 'num_leaves': 14, 'max_depth': 15, 'min_gain_to_split': 15.0, 'lambda_l1': 1, 'lambda_l2': 1}. Best is trial 29 with value: 1.1483126391937546.\n",
      "/home/saavajuu/anaconda3/lib/python3.12/site-packages/optuna/distributions.py:708: UserWarning:\n",
      "\n",
      "The distribution is specified by [1, 100] and step=5, but the range is not divisible by `step`. It will be replaced by [1, 96].\n",
      "\n",
      "[I 2024-11-22 02:12:25,461] Trial 34 finished with value: 1.162688888651682 and parameters: {'n_estimators': 662, 'learning_rate': 0.13282786683913844, 'subsample': 0.75, 'subsample_freq': 1, 'feature_fraction': 0.9, 'min_child_samples': 150, 'num_leaves': 82, 'max_depth': 3, 'min_gain_to_split': 0.0, 'lambda_l1': 1, 'lambda_l2': 96}. Best is trial 29 with value: 1.1483126391937546.\n",
      "/home/saavajuu/anaconda3/lib/python3.12/site-packages/optuna/distributions.py:708: UserWarning:\n",
      "\n",
      "The distribution is specified by [1, 100] and step=5, but the range is not divisible by `step`. It will be replaced by [1, 96].\n",
      "\n",
      "[I 2024-11-22 02:12:27,571] Trial 35 finished with value: 1.164813950626955 and parameters: {'n_estimators': 1300, 'learning_rate': 0.025736620076559153, 'subsample': 0.6789993965881357, 'subsample_freq': 1, 'feature_fraction': 0.8000000000000003, 'min_child_samples': 150, 'num_leaves': 37, 'max_depth': 4, 'min_gain_to_split': 0.0, 'lambda_l1': 1, 'lambda_l2': 96}. Best is trial 29 with value: 1.1483126391937546.\n",
      "/home/saavajuu/anaconda3/lib/python3.12/site-packages/optuna/distributions.py:708: UserWarning:\n",
      "\n",
      "The distribution is specified by [1, 100] and step=5, but the range is not divisible by `step`. It will be replaced by [1, 96].\n",
      "\n",
      "[I 2024-11-22 02:12:28,597] Trial 36 finished with value: 1.2187669135406503 and parameters: {'n_estimators': 100, 'learning_rate': 0.5, 'subsample': 0.75, 'subsample_freq': 1, 'feature_fraction': 0.2, 'min_child_samples': 15, 'num_leaves': 100, 'max_depth': 3, 'min_gain_to_split': 0.0, 'lambda_l1': 96, 'lambda_l2': 96}. Best is trial 29 with value: 1.1483126391937546.\n",
      "/home/saavajuu/anaconda3/lib/python3.12/site-packages/optuna/distributions.py:708: UserWarning:\n",
      "\n",
      "The distribution is specified by [1, 100] and step=5, but the range is not divisible by `step`. It will be replaced by [1, 96].\n",
      "\n",
      "[I 2024-11-22 02:12:30,517] Trial 37 finished with value: 1.3019842306964462 and parameters: {'n_estimators': 402, 'learning_rate': 0.5, 'subsample': 0.75, 'subsample_freq': 10, 'feature_fraction': 0.9, 'min_child_samples': 150, 'num_leaves': 62, 'max_depth': 15, 'min_gain_to_split': 0.0, 'lambda_l1': 1, 'lambda_l2': 1}. Best is trial 29 with value: 1.1483126391937546.\n",
      "/home/saavajuu/anaconda3/lib/python3.12/site-packages/optuna/distributions.py:708: UserWarning:\n",
      "\n",
      "The distribution is specified by [1, 100] and step=5, but the range is not divisible by `step`. It will be replaced by [1, 96].\n",
      "\n",
      "[I 2024-11-22 02:12:32,252] Trial 38 finished with value: 1.1622807095820922 and parameters: {'n_estimators': 725, 'learning_rate': 0.070940563344788, 'subsample': 0.75, 'subsample_freq': 1, 'feature_fraction': 0.9, 'min_child_samples': 15, 'num_leaves': 100, 'max_depth': 3, 'min_gain_to_split': 0.0, 'lambda_l1': 1, 'lambda_l2': 96}. Best is trial 29 with value: 1.1483126391937546.\n",
      "/home/saavajuu/anaconda3/lib/python3.12/site-packages/optuna/distributions.py:708: UserWarning:\n",
      "\n",
      "The distribution is specified by [1, 100] and step=5, but the range is not divisible by `step`. It will be replaced by [1, 96].\n",
      "\n",
      "[I 2024-11-22 02:12:34,154] Trial 39 finished with value: 1.1746706006463388 and parameters: {'n_estimators': 432, 'learning_rate': 0.11102209404963019, 'subsample': 0.75, 'subsample_freq': 10, 'feature_fraction': 0.9, 'min_child_samples': 150, 'num_leaves': 100, 'max_depth': 3, 'min_gain_to_split': 0.0, 'lambda_l1': 1, 'lambda_l2': 96}. Best is trial 29 with value: 1.1483126391937546.\n",
      "/home/saavajuu/anaconda3/lib/python3.12/site-packages/optuna/distributions.py:708: UserWarning:\n",
      "\n",
      "The distribution is specified by [1, 100] and step=5, but the range is not divisible by `step`. It will be replaced by [1, 96].\n",
      "\n",
      "[I 2024-11-22 02:12:37,297] Trial 40 finished with value: 1.1545922056913025 and parameters: {'n_estimators': 1198, 'learning_rate': 0.03167555404634645, 'subsample': 0.7137608745655382, 'subsample_freq': 1, 'feature_fraction': 0.9, 'min_child_samples': 96, 'num_leaves': 32, 'max_depth': 15, 'min_gain_to_split': 0.0, 'lambda_l1': 1, 'lambda_l2': 1}. Best is trial 29 with value: 1.1483126391937546.\n",
      "/home/saavajuu/anaconda3/lib/python3.12/site-packages/optuna/distributions.py:708: UserWarning:\n",
      "\n",
      "The distribution is specified by [1, 100] and step=5, but the range is not divisible by `step`. It will be replaced by [1, 96].\n",
      "\n",
      "[I 2024-11-22 02:12:40,175] Trial 41 finished with value: 1.1565662950819409 and parameters: {'n_estimators': 1300, 'learning_rate': 0.056133241950751256, 'subsample': 0.75, 'subsample_freq': 1, 'feature_fraction': 0.9, 'min_child_samples': 15, 'num_leaves': 28, 'max_depth': 9, 'min_gain_to_split': 0.0, 'lambda_l1': 1, 'lambda_l2': 56}. Best is trial 29 with value: 1.1483126391937546.\n",
      "/home/saavajuu/anaconda3/lib/python3.12/site-packages/optuna/distributions.py:708: UserWarning:\n",
      "\n",
      "The distribution is specified by [1, 100] and step=5, but the range is not divisible by `step`. It will be replaced by [1, 96].\n",
      "\n",
      "[I 2024-11-22 02:12:43,417] Trial 42 finished with value: 1.1536325119996287 and parameters: {'n_estimators': 1300, 'learning_rate': 0.028879086088736097, 'subsample': 0.6265202247741719, 'subsample_freq': 10, 'feature_fraction': 0.9, 'min_child_samples': 15, 'num_leaves': 34, 'max_depth': 15, 'min_gain_to_split': 0.0, 'lambda_l1': 1, 'lambda_l2': 96}. Best is trial 29 with value: 1.1483126391937546.\n",
      "/home/saavajuu/anaconda3/lib/python3.12/site-packages/optuna/distributions.py:708: UserWarning:\n",
      "\n",
      "The distribution is specified by [1, 100] and step=5, but the range is not divisible by `step`. It will be replaced by [1, 96].\n",
      "\n",
      "[I 2024-11-22 02:12:46,444] Trial 43 finished with value: 1.1563035530597634 and parameters: {'n_estimators': 871, 'learning_rate': 0.04527388806379657, 'subsample': 0.75, 'subsample_freq': 1, 'feature_fraction': 0.9, 'min_child_samples': 15, 'num_leaves': 60, 'max_depth': 15, 'min_gain_to_split': 0.0, 'lambda_l1': 1, 'lambda_l2': 96}. Best is trial 29 with value: 1.1483126391937546.\n",
      "/home/saavajuu/anaconda3/lib/python3.12/site-packages/optuna/distributions.py:708: UserWarning:\n",
      "\n",
      "The distribution is specified by [1, 100] and step=5, but the range is not divisible by `step`. It will be replaced by [1, 96].\n",
      "\n",
      "[I 2024-11-22 02:12:47,979] Trial 44 finished with value: 1.16458542257641 and parameters: {'n_estimators': 822, 'learning_rate': 0.31045985488920735, 'subsample': 0.75, 'subsample_freq': 10, 'feature_fraction': 0.9, 'min_child_samples': 15, 'num_leaves': 100, 'max_depth': 3, 'min_gain_to_split': 0.0, 'lambda_l1': 1, 'lambda_l2': 96}. Best is trial 29 with value: 1.1483126391937546.\n",
      "/home/saavajuu/anaconda3/lib/python3.12/site-packages/optuna/distributions.py:708: UserWarning:\n",
      "\n",
      "The distribution is specified by [1, 100] and step=5, but the range is not divisible by `step`. It will be replaced by [1, 96].\n",
      "\n",
      "[I 2024-11-22 02:12:50,469] Trial 45 finished with value: 1.152046541487938 and parameters: {'n_estimators': 1300, 'learning_rate': 0.02489590932631487, 'subsample': 0.6856242632838735, 'subsample_freq': 4, 'feature_fraction': 0.9, 'min_child_samples': 15, 'num_leaves': 19, 'max_depth': 12, 'min_gain_to_split': 0.0, 'lambda_l1': 1, 'lambda_l2': 6}. Best is trial 29 with value: 1.1483126391937546.\n",
      "/home/saavajuu/anaconda3/lib/python3.12/site-packages/optuna/distributions.py:708: UserWarning:\n",
      "\n",
      "The distribution is specified by [1, 100] and step=5, but the range is not divisible by `step`. It will be replaced by [1, 96].\n",
      "\n",
      "[I 2024-11-22 02:12:52,292] Trial 46 finished with value: 1.2370632617614639 and parameters: {'n_estimators': 1300, 'learning_rate': 0.006564303621197818, 'subsample': 0.75, 'subsample_freq': 1, 'feature_fraction': 0.9, 'min_child_samples': 15, 'num_leaves': 100, 'max_depth': 3, 'min_gain_to_split': 0.0, 'lambda_l1': 1, 'lambda_l2': 96}. Best is trial 29 with value: 1.1483126391937546.\n",
      "/home/saavajuu/anaconda3/lib/python3.12/site-packages/optuna/distributions.py:708: UserWarning:\n",
      "\n",
      "The distribution is specified by [1, 100] and step=5, but the range is not divisible by `step`. It will be replaced by [1, 96].\n",
      "\n",
      "[I 2024-11-22 02:12:53,675] Trial 47 finished with value: 1.2991903436473713 and parameters: {'n_estimators': 1300, 'learning_rate': 0.032604270893439306, 'subsample': 0.25, 'subsample_freq': 1, 'feature_fraction': 0.2, 'min_child_samples': 15, 'num_leaves': 2, 'max_depth': 15, 'min_gain_to_split': 15.0, 'lambda_l1': 96, 'lambda_l2': 96}. Best is trial 29 with value: 1.1483126391937546.\n",
      "/home/saavajuu/anaconda3/lib/python3.12/site-packages/optuna/distributions.py:708: UserWarning:\n",
      "\n",
      "The distribution is specified by [1, 100] and step=5, but the range is not divisible by `step`. It will be replaced by [1, 96].\n",
      "\n",
      "[I 2024-11-22 02:12:54,928] Trial 48 finished with value: 1.27271363128282 and parameters: {'n_estimators': 100, 'learning_rate': 0.5, 'subsample': 0.25, 'subsample_freq': 1, 'feature_fraction': 0.9, 'min_child_samples': 15, 'num_leaves': 2, 'max_depth': 3, 'min_gain_to_split': 15.0, 'lambda_l1': 96, 'lambda_l2': 1}. Best is trial 29 with value: 1.1483126391937546.\n",
      "/home/saavajuu/anaconda3/lib/python3.12/site-packages/optuna/distributions.py:708: UserWarning:\n",
      "\n",
      "The distribution is specified by [1, 100] and step=5, but the range is not divisible by `step`. It will be replaced by [1, 96].\n",
      "\n",
      "[I 2024-11-22 02:12:56,343] Trial 49 finished with value: 1.1963827994545422 and parameters: {'n_estimators': 688, 'learning_rate': 0.22271390801199378, 'subsample': 0.75, 'subsample_freq': 10, 'feature_fraction': 0.9, 'min_child_samples': 150, 'num_leaves': 100, 'max_depth': 3, 'min_gain_to_split': 0.0, 'lambda_l1': 96, 'lambda_l2': 96}. Best is trial 29 with value: 1.1483126391937546.\n",
      "/home/saavajuu/anaconda3/lib/python3.12/site-packages/optuna/distributions.py:708: UserWarning:\n",
      "\n",
      "The distribution is specified by [1, 100] and step=5, but the range is not divisible by `step`. It will be replaced by [1, 96].\n",
      "\n",
      "[I 2024-11-22 02:12:59,299] Trial 50 finished with value: 1.1552059873099174 and parameters: {'n_estimators': 1300, 'learning_rate': 0.03500187748298751, 'subsample': 0.75, 'subsample_freq': 10, 'feature_fraction': 0.9, 'min_child_samples': 150, 'num_leaves': 29, 'max_depth': 15, 'min_gain_to_split': 0.0, 'lambda_l1': 1, 'lambda_l2': 96}. Best is trial 29 with value: 1.1483126391937546.\n",
      "/home/saavajuu/anaconda3/lib/python3.12/site-packages/optuna/distributions.py:708: UserWarning:\n",
      "\n",
      "The distribution is specified by [1, 100] and step=5, but the range is not divisible by `step`. It will be replaced by [1, 96].\n",
      "\n",
      "[I 2024-11-22 02:13:00,547] Trial 51 finished with value: 1.1755775283073608 and parameters: {'n_estimators': 682, 'learning_rate': 0.5, 'subsample': 0.75, 'subsample_freq': 1, 'feature_fraction': 0.2, 'min_child_samples': 150, 'num_leaves': 100, 'max_depth': 3, 'min_gain_to_split': 0.0, 'lambda_l1': 1, 'lambda_l2': 96}. Best is trial 29 with value: 1.1483126391937546.\n",
      "/home/saavajuu/anaconda3/lib/python3.12/site-packages/optuna/distributions.py:708: UserWarning:\n",
      "\n",
      "The distribution is specified by [1, 100] and step=5, but the range is not divisible by `step`. It will be replaced by [1, 96].\n",
      "\n",
      "[I 2024-11-22 02:13:03,698] Trial 52 finished with value: 1.1531767470128051 and parameters: {'n_estimators': 893, 'learning_rate': 0.04306788009722604, 'subsample': 0.75, 'subsample_freq': 1, 'feature_fraction': 0.9, 'min_child_samples': 150, 'num_leaves': 69, 'max_depth': 12, 'min_gain_to_split': 0.0, 'lambda_l1': 1, 'lambda_l2': 96}. Best is trial 29 with value: 1.1483126391937546.\n",
      "/home/saavajuu/anaconda3/lib/python3.12/site-packages/optuna/distributions.py:708: UserWarning:\n",
      "\n",
      "The distribution is specified by [1, 100] and step=5, but the range is not divisible by `step`. It will be replaced by [1, 96].\n",
      "\n",
      "[I 2024-11-22 02:13:07,173] Trial 53 finished with value: 1.1541242896387442 and parameters: {'n_estimators': 1300, 'learning_rate': 0.023449070169901037, 'subsample': 0.5518941922749697, 'subsample_freq': 1, 'feature_fraction': 0.9, 'min_child_samples': 15, 'num_leaves': 47, 'max_depth': 15, 'min_gain_to_split': 0.0, 'lambda_l1': 1, 'lambda_l2': 26}. Best is trial 29 with value: 1.1483126391937546.\n",
      "/home/saavajuu/anaconda3/lib/python3.12/site-packages/optuna/distributions.py:708: UserWarning:\n",
      "\n",
      "The distribution is specified by [1, 100] and step=5, but the range is not divisible by `step`. It will be replaced by [1, 96].\n",
      "\n",
      "[I 2024-11-22 02:13:08,383] Trial 54 finished with value: 1.2215178035028718 and parameters: {'n_estimators': 467, 'learning_rate': 0.5, 'subsample': 0.75, 'subsample_freq': 1, 'feature_fraction': 0.9, 'min_child_samples': 15, 'num_leaves': 100, 'max_depth': 3, 'min_gain_to_split': 15.0, 'lambda_l1': 1, 'lambda_l2': 96}. Best is trial 29 with value: 1.1483126391937546.\n",
      "/home/saavajuu/anaconda3/lib/python3.12/site-packages/optuna/distributions.py:708: UserWarning:\n",
      "\n",
      "The distribution is specified by [1, 100] and step=5, but the range is not divisible by `step`. It will be replaced by [1, 96].\n",
      "\n",
      "[I 2024-11-22 02:13:11,903] Trial 55 finished with value: 1.1530194551116109 and parameters: {'n_estimators': 1158, 'learning_rate': 0.03321693910160524, 'subsample': 0.75, 'subsample_freq': 10, 'feature_fraction': 0.9, 'min_child_samples': 15, 'num_leaves': 48, 'max_depth': 10, 'min_gain_to_split': 0.0, 'lambda_l1': 1, 'lambda_l2': 96}. Best is trial 29 with value: 1.1483126391937546.\n",
      "/home/saavajuu/anaconda3/lib/python3.12/site-packages/optuna/distributions.py:708: UserWarning:\n",
      "\n",
      "The distribution is specified by [1, 100] and step=5, but the range is not divisible by `step`. It will be replaced by [1, 96].\n",
      "\n",
      "[I 2024-11-22 02:13:13,685] Trial 56 finished with value: 1.1645542799531137 and parameters: {'n_estimators': 1300, 'learning_rate': 0.03049602382200674, 'subsample': 0.5579957896107994, 'subsample_freq': 1, 'feature_fraction': 0.9, 'min_child_samples': 15, 'num_leaves': 35, 'max_depth': 3, 'min_gain_to_split': 0.0, 'lambda_l1': 1, 'lambda_l2': 1}. Best is trial 29 with value: 1.1483126391937546.\n",
      "/home/saavajuu/anaconda3/lib/python3.12/site-packages/optuna/distributions.py:708: UserWarning:\n",
      "\n",
      "The distribution is specified by [1, 100] and step=5, but the range is not divisible by `step`. It will be replaced by [1, 96].\n",
      "\n",
      "[I 2024-11-22 02:13:15,476] Trial 57 finished with value: 1.2230420125027919 and parameters: {'n_estimators': 1300, 'learning_rate': 0.5, 'subsample': 0.75, 'subsample_freq': 1, 'feature_fraction': 0.2, 'min_child_samples': 150, 'num_leaves': 2, 'max_depth': 3, 'min_gain_to_split': 15.0, 'lambda_l1': 1, 'lambda_l2': 96}. Best is trial 29 with value: 1.1483126391937546.\n",
      "/home/saavajuu/anaconda3/lib/python3.12/site-packages/optuna/distributions.py:708: UserWarning:\n",
      "\n",
      "The distribution is specified by [1, 100] and step=5, but the range is not divisible by `step`. It will be replaced by [1, 96].\n",
      "\n",
      "[I 2024-11-22 02:13:17,263] Trial 58 finished with value: 1.1912050830365022 and parameters: {'n_estimators': 1300, 'learning_rate': 0.5, 'subsample': 0.75, 'subsample_freq': 1, 'feature_fraction': 0.9, 'min_child_samples': 150, 'num_leaves': 100, 'max_depth': 3, 'min_gain_to_split': 0.0, 'lambda_l1': 1, 'lambda_l2': 96}. Best is trial 29 with value: 1.1483126391937546.\n",
      "/home/saavajuu/anaconda3/lib/python3.12/site-packages/optuna/distributions.py:708: UserWarning:\n",
      "\n",
      "The distribution is specified by [1, 100] and step=5, but the range is not divisible by `step`. It will be replaced by [1, 96].\n",
      "\n",
      "[I 2024-11-22 02:13:20,811] Trial 59 finished with value: 1.1509608015781994 and parameters: {'n_estimators': 1216, 'learning_rate': 0.0319666424923007, 'subsample': 0.629274040292249, 'subsample_freq': 1, 'feature_fraction': 0.9, 'min_child_samples': 15, 'num_leaves': 42, 'max_depth': 15, 'min_gain_to_split': 0.0, 'lambda_l1': 1, 'lambda_l2': 96}. Best is trial 29 with value: 1.1483126391937546.\n",
      "/home/saavajuu/anaconda3/lib/python3.12/site-packages/optuna/distributions.py:708: UserWarning:\n",
      "\n",
      "The distribution is specified by [1, 100] and step=5, but the range is not divisible by `step`. It will be replaced by [1, 96].\n",
      "\n",
      "[I 2024-11-22 02:13:22,565] Trial 60 finished with value: 1.1742613408719518 and parameters: {'n_estimators': 1300, 'learning_rate': 0.5, 'subsample': 0.75, 'subsample_freq': 10, 'feature_fraction': 0.2, 'min_child_samples': 15, 'num_leaves': 60, 'max_depth': 3, 'min_gain_to_split': 0.0, 'lambda_l1': 1, 'lambda_l2': 96}. Best is trial 29 with value: 1.1483126391937546.\n",
      "/home/saavajuu/anaconda3/lib/python3.12/site-packages/optuna/distributions.py:708: UserWarning:\n",
      "\n",
      "The distribution is specified by [1, 100] and step=5, but the range is not divisible by `step`. It will be replaced by [1, 96].\n",
      "\n",
      "[I 2024-11-22 02:13:24,196] Trial 61 finished with value: 1.1750218958547582 and parameters: {'n_estimators': 787, 'learning_rate': 0.08738585830700592, 'subsample': 0.75, 'subsample_freq': 10, 'feature_fraction': 0.2, 'min_child_samples': 15, 'num_leaves': 83, 'max_depth': 3, 'min_gain_to_split': 0.0, 'lambda_l1': 1, 'lambda_l2': 96}. Best is trial 29 with value: 1.1483126391937546.\n",
      "/home/saavajuu/anaconda3/lib/python3.12/site-packages/optuna/distributions.py:708: UserWarning:\n",
      "\n",
      "The distribution is specified by [1, 100] and step=5, but the range is not divisible by `step`. It will be replaced by [1, 96].\n",
      "\n",
      "[I 2024-11-22 02:13:28,044] Trial 62 finished with value: 1.1592751983187677 and parameters: {'n_estimators': 852, 'learning_rate': 0.0451300650598549, 'subsample': 0.75, 'subsample_freq': 10, 'feature_fraction': 0.9, 'min_child_samples': 105, 'num_leaves': 69, 'max_depth': 15, 'min_gain_to_split': 0.0, 'lambda_l1': 1, 'lambda_l2': 96}. Best is trial 29 with value: 1.1483126391937546.\n",
      "/home/saavajuu/anaconda3/lib/python3.12/site-packages/optuna/distributions.py:708: UserWarning:\n",
      "\n",
      "The distribution is specified by [1, 100] and step=5, but the range is not divisible by `step`. It will be replaced by [1, 96].\n",
      "\n",
      "[I 2024-11-22 02:13:29,955] Trial 63 finished with value: 1.1982487569893645 and parameters: {'n_estimators': 1300, 'learning_rate': 0.5, 'subsample': 0.75, 'subsample_freq': 10, 'feature_fraction': 0.2, 'min_child_samples': 15, 'num_leaves': 100, 'max_depth': 3, 'min_gain_to_split': 0.0, 'lambda_l1': 1, 'lambda_l2': 1}. Best is trial 29 with value: 1.1483126391937546.\n",
      "/home/saavajuu/anaconda3/lib/python3.12/site-packages/optuna/distributions.py:708: UserWarning:\n",
      "\n",
      "The distribution is specified by [1, 100] and step=5, but the range is not divisible by `step`. It will be replaced by [1, 96].\n",
      "\n",
      "[I 2024-11-22 02:13:32,588] Trial 64 finished with value: 1.1686240811800568 and parameters: {'n_estimators': 1300, 'learning_rate': 0.022928654504089502, 'subsample': 0.5760427733366389, 'subsample_freq': 1, 'feature_fraction': 0.2, 'min_child_samples': 15, 'num_leaves': 32, 'max_depth': 15, 'min_gain_to_split': 0.0, 'lambda_l1': 1, 'lambda_l2': 51}. Best is trial 29 with value: 1.1483126391937546.\n",
      "/home/saavajuu/anaconda3/lib/python3.12/site-packages/optuna/distributions.py:708: UserWarning:\n",
      "\n",
      "The distribution is specified by [1, 100] and step=5, but the range is not divisible by `step`. It will be replaced by [1, 96].\n",
      "\n",
      "[I 2024-11-22 02:13:35,241] Trial 65 finished with value: 1.1602148984558622 and parameters: {'n_estimators': 1300, 'learning_rate': 0.04079396868216307, 'subsample': 0.75, 'subsample_freq': 10, 'feature_fraction': 0.9, 'min_child_samples': 15, 'num_leaves': 19, 'max_depth': 15, 'min_gain_to_split': 0.0, 'lambda_l1': 1, 'lambda_l2': 1}. Best is trial 29 with value: 1.1483126391937546.\n",
      "/home/saavajuu/anaconda3/lib/python3.12/site-packages/optuna/distributions.py:708: UserWarning:\n",
      "\n",
      "The distribution is specified by [1, 100] and step=5, but the range is not divisible by `step`. It will be replaced by [1, 96].\n",
      "\n",
      "[I 2024-11-22 02:13:36,582] Trial 66 finished with value: 1.263797970637352 and parameters: {'n_estimators': 532, 'learning_rate': 0.06347815099531116, 'subsample': 0.4315363343994264, 'subsample_freq': 1, 'feature_fraction': 0.9, 'min_child_samples': 15, 'num_leaves': 2, 'max_depth': 15, 'min_gain_to_split': 15.0, 'lambda_l1': 96, 'lambda_l2': 1}. Best is trial 29 with value: 1.1483126391937546.\n",
      "/home/saavajuu/anaconda3/lib/python3.12/site-packages/optuna/distributions.py:708: UserWarning:\n",
      "\n",
      "The distribution is specified by [1, 100] and step=5, but the range is not divisible by `step`. It will be replaced by [1, 96].\n",
      "\n",
      "[I 2024-11-22 02:13:39,138] Trial 67 finished with value: 1.1827132985066549 and parameters: {'n_estimators': 764, 'learning_rate': 0.11948048561196416, 'subsample': 0.75, 'subsample_freq': 1, 'feature_fraction': 0.9, 'min_child_samples': 150, 'num_leaves': 100, 'max_depth': 15, 'min_gain_to_split': 0.0, 'lambda_l1': 1, 'lambda_l2': 96}. Best is trial 29 with value: 1.1483126391937546.\n",
      "/home/saavajuu/anaconda3/lib/python3.12/site-packages/optuna/distributions.py:708: UserWarning:\n",
      "\n",
      "The distribution is specified by [1, 100] and step=5, but the range is not divisible by `step`. It will be replaced by [1, 96].\n",
      "\n",
      "[I 2024-11-22 02:13:40,826] Trial 68 finished with value: 1.2839302206472416 and parameters: {'n_estimators': 1300, 'learning_rate': 0.5, 'subsample': 0.25, 'subsample_freq': 1, 'feature_fraction': 0.2, 'min_child_samples': 15, 'num_leaves': 27, 'max_depth': 3, 'min_gain_to_split': 0.0, 'lambda_l1': 1, 'lambda_l2': 1}. Best is trial 29 with value: 1.1483126391937546.\n",
      "/home/saavajuu/anaconda3/lib/python3.12/site-packages/optuna/distributions.py:708: UserWarning:\n",
      "\n",
      "The distribution is specified by [1, 100] and step=5, but the range is not divisible by `step`. It will be replaced by [1, 96].\n",
      "\n",
      "[I 2024-11-22 02:13:44,274] Trial 69 finished with value: 1.1517849195928194 and parameters: {'n_estimators': 1087, 'learning_rate': 0.028103313924404575, 'subsample': 0.75, 'subsample_freq': 1, 'feature_fraction': 0.9, 'min_child_samples': 115, 'num_leaves': 53, 'max_depth': 15, 'min_gain_to_split': 0.0, 'lambda_l1': 1, 'lambda_l2': 96}. Best is trial 29 with value: 1.1483126391937546.\n",
      "/home/saavajuu/anaconda3/lib/python3.12/site-packages/optuna/distributions.py:708: UserWarning:\n",
      "\n",
      "The distribution is specified by [1, 100] and step=5, but the range is not divisible by `step`. It will be replaced by [1, 96].\n",
      "\n",
      "[I 2024-11-22 02:13:46,131] Trial 70 finished with value: 1.1684918846120835 and parameters: {'n_estimators': 1300, 'learning_rate': 0.036411357652280894, 'subsample': 0.75, 'subsample_freq': 1, 'feature_fraction': 0.9, 'min_child_samples': 150, 'num_leaves': 18, 'max_depth': 3, 'min_gain_to_split': 0.0, 'lambda_l1': 1, 'lambda_l2': 1}. Best is trial 29 with value: 1.1483126391937546.\n",
      "/home/saavajuu/anaconda3/lib/python3.12/site-packages/optuna/distributions.py:708: UserWarning:\n",
      "\n",
      "The distribution is specified by [1, 100] and step=5, but the range is not divisible by `step`. It will be replaced by [1, 96].\n",
      "\n",
      "[I 2024-11-22 02:13:48,894] Trial 71 finished with value: 1.1489699158560651 and parameters: {'n_estimators': 1300, 'learning_rate': 0.0329811958223263, 'subsample': 0.705272793397548, 'subsample_freq': 1, 'feature_fraction': 0.9, 'min_child_samples': 42, 'num_leaves': 21, 'max_depth': 15, 'min_gain_to_split': 0.0, 'lambda_l1': 1, 'lambda_l2': 66}. Best is trial 29 with value: 1.1483126391937546.\n",
      "/home/saavajuu/anaconda3/lib/python3.12/site-packages/optuna/distributions.py:708: UserWarning:\n",
      "\n",
      "The distribution is specified by [1, 100] and step=5, but the range is not divisible by `step`. It will be replaced by [1, 96].\n",
      "\n",
      "[I 2024-11-22 02:13:51,223] Trial 72 finished with value: 1.161929905504174 and parameters: {'n_estimators': 1048, 'learning_rate': 0.0552339405917898, 'subsample': 0.75, 'subsample_freq': 1, 'feature_fraction': 0.9, 'min_child_samples': 66, 'num_leaves': 64, 'max_depth': 3, 'min_gain_to_split': 0.0, 'lambda_l1': 1, 'lambda_l2': 96}. Best is trial 29 with value: 1.1483126391937546.\n",
      "/home/saavajuu/anaconda3/lib/python3.12/site-packages/optuna/distributions.py:708: UserWarning:\n",
      "\n",
      "The distribution is specified by [1, 100] and step=5, but the range is not divisible by `step`. It will be replaced by [1, 96].\n",
      "\n",
      "[I 2024-11-22 02:13:54,739] Trial 73 finished with value: 1.151505568244886 and parameters: {'n_estimators': 1288, 'learning_rate': 0.029929749333973476, 'subsample': 0.6674885569292444, 'subsample_freq': 3, 'feature_fraction': 0.9, 'min_child_samples': 15, 'num_leaves': 33, 'max_depth': 14, 'min_gain_to_split': 0.0, 'lambda_l1': 1, 'lambda_l2': 41}. Best is trial 29 with value: 1.1483126391937546.\n",
      "/home/saavajuu/anaconda3/lib/python3.12/site-packages/optuna/distributions.py:708: UserWarning:\n",
      "\n",
      "The distribution is specified by [1, 100] and step=5, but the range is not divisible by `step`. It will be replaced by [1, 96].\n",
      "\n",
      "[I 2024-11-22 02:13:58,668] Trial 74 finished with value: 1.1598201821004652 and parameters: {'n_estimators': 1300, 'learning_rate': 0.021338717038980628, 'subsample': 0.39605161116877946, 'subsample_freq': 10, 'feature_fraction': 0.9, 'min_child_samples': 15, 'num_leaves': 45, 'max_depth': 15, 'min_gain_to_split': 0.0, 'lambda_l1': 1, 'lambda_l2': 96}. Best is trial 29 with value: 1.1483126391937546.\n",
      "/home/saavajuu/anaconda3/lib/python3.12/site-packages/optuna/distributions.py:708: UserWarning:\n",
      "\n",
      "The distribution is specified by [1, 100] and step=5, but the range is not divisible by `step`. It will be replaced by [1, 96].\n",
      "\n",
      "[I 2024-11-22 02:14:00,606] Trial 75 finished with value: 1.2293208815437842 and parameters: {'n_estimators': 1300, 'learning_rate': 0.5, 'subsample': 0.75, 'subsample_freq': 10, 'feature_fraction': 0.9, 'min_child_samples': 15, 'num_leaves': 68, 'max_depth': 3, 'min_gain_to_split': 15.0, 'lambda_l1': 1, 'lambda_l2': 96}. Best is trial 29 with value: 1.1483126391937546.\n",
      "/home/saavajuu/anaconda3/lib/python3.12/site-packages/optuna/distributions.py:708: UserWarning:\n",
      "\n",
      "The distribution is specified by [1, 100] and step=5, but the range is not divisible by `step`. It will be replaced by [1, 96].\n",
      "\n",
      "[I 2024-11-22 02:14:03,813] Trial 76 finished with value: 1.1678856171478265 and parameters: {'n_estimators': 1108, 'learning_rate': 0.0308925345060044, 'subsample': 0.48955946003555895, 'subsample_freq': 9, 'feature_fraction': 0.9, 'min_child_samples': 15, 'num_leaves': 38, 'max_depth': 15, 'min_gain_to_split': 0.0, 'lambda_l1': 1, 'lambda_l2': 1}. Best is trial 29 with value: 1.1483126391937546.\n",
      "/home/saavajuu/anaconda3/lib/python3.12/site-packages/optuna/distributions.py:708: UserWarning:\n",
      "\n",
      "The distribution is specified by [1, 100] and step=5, but the range is not divisible by `step`. It will be replaced by [1, 96].\n",
      "\n",
      "[I 2024-11-22 02:14:07,835] Trial 77 finished with value: 1.1512650938511706 and parameters: {'n_estimators': 1300, 'learning_rate': 0.014299782504727044, 'subsample': 0.75, 'subsample_freq': 10, 'feature_fraction': 0.9, 'min_child_samples': 15, 'num_leaves': 56, 'max_depth': 15, 'min_gain_to_split': 0.0, 'lambda_l1': 1, 'lambda_l2': 96}. Best is trial 29 with value: 1.1483126391937546.\n",
      "/home/saavajuu/anaconda3/lib/python3.12/site-packages/optuna/distributions.py:708: UserWarning:\n",
      "\n",
      "The distribution is specified by [1, 100] and step=5, but the range is not divisible by `step`. It will be replaced by [1, 96].\n",
      "\n",
      "[I 2024-11-22 02:14:11,064] Trial 78 finished with value: 1.1476257955769629 and parameters: {'n_estimators': 1300, 'learning_rate': 0.017510332606495215, 'subsample': 0.75, 'subsample_freq': 1, 'feature_fraction': 0.9, 'min_child_samples': 15, 'num_leaves': 50, 'max_depth': 8, 'min_gain_to_split': 0.0, 'lambda_l1': 1, 'lambda_l2': 96}. Best is trial 78 with value: 1.1476257955769629.\n",
      "/home/saavajuu/anaconda3/lib/python3.12/site-packages/optuna/distributions.py:708: UserWarning:\n",
      "\n",
      "The distribution is specified by [1, 100] and step=5, but the range is not divisible by `step`. It will be replaced by [1, 96].\n",
      "\n",
      "[I 2024-11-22 02:14:13,032] Trial 79 finished with value: 1.1869091301483703 and parameters: {'n_estimators': 1300, 'learning_rate': 0.015343395268997313, 'subsample': 0.75, 'subsample_freq': 10, 'feature_fraction': 0.9, 'min_child_samples': 15, 'num_leaves': 41, 'max_depth': 3, 'min_gain_to_split': 0.0, 'lambda_l1': 1, 'lambda_l2': 96}. Best is trial 78 with value: 1.1476257955769629.\n",
      "/home/saavajuu/anaconda3/lib/python3.12/site-packages/optuna/distributions.py:708: UserWarning:\n",
      "\n",
      "The distribution is specified by [1, 100] and step=5, but the range is not divisible by `step`. It will be replaced by [1, 96].\n",
      "\n",
      "[I 2024-11-22 02:14:17,289] Trial 80 finished with value: 1.1486054345710786 and parameters: {'n_estimators': 1300, 'learning_rate': 0.01960566388147998, 'subsample': 0.75, 'subsample_freq': 1, 'feature_fraction': 0.9, 'min_child_samples': 15, 'num_leaves': 57, 'max_depth': 15, 'min_gain_to_split': 0.0, 'lambda_l1': 1, 'lambda_l2': 96}. Best is trial 78 with value: 1.1476257955769629.\n",
      "/home/saavajuu/anaconda3/lib/python3.12/site-packages/optuna/distributions.py:708: UserWarning:\n",
      "\n",
      "The distribution is specified by [1, 100] and step=5, but the range is not divisible by `step`. It will be replaced by [1, 96].\n",
      "\n",
      "[I 2024-11-22 02:14:19,562] Trial 81 finished with value: 1.184573641137732 and parameters: {'n_estimators': 796, 'learning_rate': 0.026764681221332083, 'subsample': 0.75, 'subsample_freq': 10, 'feature_fraction': 0.9, 'min_child_samples': 15, 'num_leaves': 100, 'max_depth': 15, 'min_gain_to_split': 0.0, 'lambda_l1': 96, 'lambda_l2': 96}. Best is trial 78 with value: 1.1476257955769629.\n",
      "/home/saavajuu/anaconda3/lib/python3.12/site-packages/optuna/distributions.py:708: UserWarning:\n",
      "\n",
      "The distribution is specified by [1, 100] and step=5, but the range is not divisible by `step`. It will be replaced by [1, 96].\n",
      "\n",
      "[I 2024-11-22 02:14:23,584] Trial 82 finished with value: 1.1510704210887008 and parameters: {'n_estimators': 1300, 'learning_rate': 0.018705588422012295, 'subsample': 0.6075936159398294, 'subsample_freq': 5, 'feature_fraction': 0.9, 'min_child_samples': 15, 'num_leaves': 56, 'max_depth': 12, 'min_gain_to_split': 0.0, 'lambda_l1': 1, 'lambda_l2': 96}. Best is trial 78 with value: 1.1476257955769629.\n",
      "/home/saavajuu/anaconda3/lib/python3.12/site-packages/optuna/distributions.py:708: UserWarning:\n",
      "\n",
      "The distribution is specified by [1, 100] and step=5, but the range is not divisible by `step`. It will be replaced by [1, 96].\n",
      "\n",
      "[I 2024-11-22 02:14:26,246] Trial 83 finished with value: 1.1695647337504702 and parameters: {'n_estimators': 1057, 'learning_rate': 0.054365683561952295, 'subsample': 0.75, 'subsample_freq': 1, 'feature_fraction': 0.2, 'min_child_samples': 150, 'num_leaves': 40, 'max_depth': 10, 'min_gain_to_split': 0.0, 'lambda_l1': 1, 'lambda_l2': 96}. Best is trial 78 with value: 1.1476257955769629.\n",
      "/home/saavajuu/anaconda3/lib/python3.12/site-packages/optuna/distributions.py:708: UserWarning:\n",
      "\n",
      "The distribution is specified by [1, 100] and step=5, but the range is not divisible by `step`. It will be replaced by [1, 96].\n",
      "\n",
      "[I 2024-11-22 02:14:30,206] Trial 84 finished with value: 1.1484129530190517 and parameters: {'n_estimators': 1300, 'learning_rate': 0.017563512130063783, 'subsample': 0.75, 'subsample_freq': 1, 'feature_fraction': 0.9, 'min_child_samples': 150, 'num_leaves': 52, 'max_depth': 12, 'min_gain_to_split': 0.0, 'lambda_l1': 1, 'lambda_l2': 96}. Best is trial 78 with value: 1.1476257955769629.\n",
      "/home/saavajuu/anaconda3/lib/python3.12/site-packages/optuna/distributions.py:708: UserWarning:\n",
      "\n",
      "The distribution is specified by [1, 100] and step=5, but the range is not divisible by `step`. It will be replaced by [1, 96].\n",
      "\n",
      "[I 2024-11-22 02:14:33,077] Trial 85 finished with value: 1.160655530357179 and parameters: {'n_estimators': 959, 'learning_rate': 0.028081321016170595, 'subsample': 0.75, 'subsample_freq': 1, 'feature_fraction': 0.9, 'min_child_samples': 15, 'num_leaves': 64, 'max_depth': 11, 'min_gain_to_split': 0.0, 'lambda_l1': 51, 'lambda_l2': 96}. Best is trial 78 with value: 1.1476257955769629.\n",
      "/home/saavajuu/anaconda3/lib/python3.12/site-packages/optuna/distributions.py:708: UserWarning:\n",
      "\n",
      "The distribution is specified by [1, 100] and step=5, but the range is not divisible by `step`. It will be replaced by [1, 96].\n",
      "\n",
      "[I 2024-11-22 02:14:36,320] Trial 86 finished with value: 1.154116344900251 and parameters: {'n_estimators': 1300, 'learning_rate': 0.02040780668788568, 'subsample': 0.5138466283730596, 'subsample_freq': 1, 'feature_fraction': 0.9, 'min_child_samples': 150, 'num_leaves': 39, 'max_depth': 15, 'min_gain_to_split': 0.0, 'lambda_l1': 1, 'lambda_l2': 96}. Best is trial 78 with value: 1.1476257955769629.\n",
      "/home/saavajuu/anaconda3/lib/python3.12/site-packages/optuna/distributions.py:708: UserWarning:\n",
      "\n",
      "The distribution is specified by [1, 100] and step=5, but the range is not divisible by `step`. It will be replaced by [1, 96].\n",
      "\n",
      "[I 2024-11-22 02:14:38,563] Trial 87 finished with value: 1.1803447087496042 and parameters: {'n_estimators': 1300, 'learning_rate': 0.014787754973153404, 'subsample': 0.75, 'subsample_freq': 1, 'feature_fraction': 0.9, 'min_child_samples': 15, 'num_leaves': 49, 'max_depth': 15, 'min_gain_to_split': 8.472476378416747, 'lambda_l1': 1, 'lambda_l2': 96}. Best is trial 78 with value: 1.1476257955769629.\n",
      "/home/saavajuu/anaconda3/lib/python3.12/site-packages/optuna/distributions.py:708: UserWarning:\n",
      "\n",
      "The distribution is specified by [1, 100] and step=5, but the range is not divisible by `step`. It will be replaced by [1, 96].\n",
      "\n",
      "[I 2024-11-22 02:14:39,977] Trial 88 finished with value: 1.1595575486221028 and parameters: {'n_estimators': 481, 'learning_rate': 0.29434883756460917, 'subsample': 0.75, 'subsample_freq': 1, 'feature_fraction': 0.9, 'min_child_samples': 15, 'num_leaves': 100, 'max_depth': 3, 'min_gain_to_split': 0.0, 'lambda_l1': 1, 'lambda_l2': 96}. Best is trial 78 with value: 1.1476257955769629.\n",
      "/home/saavajuu/anaconda3/lib/python3.12/site-packages/optuna/distributions.py:708: UserWarning:\n",
      "\n",
      "The distribution is specified by [1, 100] and step=5, but the range is not divisible by `step`. It will be replaced by [1, 96].\n",
      "\n",
      "[I 2024-11-22 02:14:41,014] Trial 89 finished with value: 1.4936877569545806 and parameters: {'n_estimators': 100, 'learning_rate': 0.07647181757053444, 'subsample': 0.25, 'subsample_freq': 10, 'feature_fraction': 0.2, 'min_child_samples': 15, 'num_leaves': 2, 'max_depth': 15, 'min_gain_to_split': 0.0, 'lambda_l1': 1, 'lambda_l2': 96}. Best is trial 78 with value: 1.1476257955769629.\n",
      "/home/saavajuu/anaconda3/lib/python3.12/site-packages/optuna/distributions.py:708: UserWarning:\n",
      "\n",
      "The distribution is specified by [1, 100] and step=5, but the range is not divisible by `step`. It will be replaced by [1, 96].\n",
      "\n",
      "[I 2024-11-22 02:14:44,844] Trial 90 finished with value: 1.160397124904203 and parameters: {'n_estimators': 1300, 'learning_rate': 0.08470935906468259, 'subsample': 0.75, 'subsample_freq': 6, 'feature_fraction': 0.9, 'min_child_samples': 15, 'num_leaves': 86, 'max_depth': 13, 'min_gain_to_split': 0.0, 'lambda_l1': 46, 'lambda_l2': 96}. Best is trial 78 with value: 1.1476257955769629.\n",
      "/home/saavajuu/anaconda3/lib/python3.12/site-packages/optuna/distributions.py:708: UserWarning:\n",
      "\n",
      "The distribution is specified by [1, 100] and step=5, but the range is not divisible by `step`. It will be replaced by [1, 96].\n",
      "\n",
      "[I 2024-11-22 02:14:46,494] Trial 91 finished with value: 1.1706253280907923 and parameters: {'n_estimators': 1058, 'learning_rate': 0.5, 'subsample': 0.75, 'subsample_freq': 10, 'feature_fraction': 0.9, 'min_child_samples': 150, 'num_leaves': 100, 'max_depth': 3, 'min_gain_to_split': 0.0, 'lambda_l1': 31, 'lambda_l2': 96}. Best is trial 78 with value: 1.1476257955769629.\n",
      "/home/saavajuu/anaconda3/lib/python3.12/site-packages/optuna/distributions.py:708: UserWarning:\n",
      "\n",
      "The distribution is specified by [1, 100] and step=5, but the range is not divisible by `step`. It will be replaced by [1, 96].\n",
      "\n",
      "[I 2024-11-22 02:14:48,106] Trial 92 finished with value: 1.2311295918806529 and parameters: {'n_estimators': 1300, 'learning_rate': 0.04826677125475972, 'subsample': 0.75, 'subsample_freq': 1, 'feature_fraction': 0.9, 'min_child_samples': 150, 'num_leaves': 2, 'max_depth': 15, 'min_gain_to_split': 0.0, 'lambda_l1': 46, 'lambda_l2': 96}. Best is trial 78 with value: 1.1476257955769629.\n",
      "/home/saavajuu/anaconda3/lib/python3.12/site-packages/optuna/distributions.py:708: UserWarning:\n",
      "\n",
      "The distribution is specified by [1, 100] and step=5, but the range is not divisible by `step`. It will be replaced by [1, 96].\n",
      "\n",
      "[I 2024-11-22 02:14:51,851] Trial 93 finished with value: 1.1568789896572826 and parameters: {'n_estimators': 1030, 'learning_rate': 0.05987588277812908, 'subsample': 0.75, 'subsample_freq': 10, 'feature_fraction': 0.9, 'min_child_samples': 15, 'num_leaves': 100, 'max_depth': 8, 'min_gain_to_split': 0.0, 'lambda_l1': 41, 'lambda_l2': 96}. Best is trial 78 with value: 1.1476257955769629.\n",
      "/home/saavajuu/anaconda3/lib/python3.12/site-packages/optuna/distributions.py:708: UserWarning:\n",
      "\n",
      "The distribution is specified by [1, 100] and step=5, but the range is not divisible by `step`. It will be replaced by [1, 96].\n",
      "\n",
      "[I 2024-11-22 02:14:53,343] Trial 94 finished with value: 1.2246698651168966 and parameters: {'n_estimators': 979, 'learning_rate': 0.04024047439192323, 'subsample': 0.75, 'subsample_freq': 10, 'feature_fraction': 0.9, 'min_child_samples': 15, 'num_leaves': 100, 'max_depth': 14, 'min_gain_to_split': 15.0, 'lambda_l1': 61, 'lambda_l2': 96}. Best is trial 78 with value: 1.1476257955769629.\n",
      "/home/saavajuu/anaconda3/lib/python3.12/site-packages/optuna/distributions.py:708: UserWarning:\n",
      "\n",
      "The distribution is specified by [1, 100] and step=5, but the range is not divisible by `step`. It will be replaced by [1, 96].\n",
      "\n",
      "[I 2024-11-22 02:14:55,158] Trial 95 finished with value: 1.1626293954089213 and parameters: {'n_estimators': 1269, 'learning_rate': 0.09425374700007226, 'subsample': 0.75, 'subsample_freq': 1, 'feature_fraction': 0.9, 'min_child_samples': 150, 'num_leaves': 84, 'max_depth': 3, 'min_gain_to_split': 0.0, 'lambda_l1': 36, 'lambda_l2': 96}. Best is trial 78 with value: 1.1476257955769629.\n",
      "/home/saavajuu/anaconda3/lib/python3.12/site-packages/optuna/distributions.py:708: UserWarning:\n",
      "\n",
      "The distribution is specified by [1, 100] and step=5, but the range is not divisible by `step`. It will be replaced by [1, 96].\n",
      "\n",
      "[I 2024-11-22 02:14:56,180] Trial 96 finished with value: 1.1786856323028823 and parameters: {'n_estimators': 131, 'learning_rate': 0.49999999999999956, 'subsample': 0.75, 'subsample_freq': 1, 'feature_fraction': 0.9, 'min_child_samples': 15, 'num_leaves': 100, 'max_depth': 3, 'min_gain_to_split': 0.0, 'lambda_l1': 51, 'lambda_l2': 96}. Best is trial 78 with value: 1.1476257955769629.\n",
      "/home/saavajuu/anaconda3/lib/python3.12/site-packages/optuna/distributions.py:708: UserWarning:\n",
      "\n",
      "The distribution is specified by [1, 100] and step=5, but the range is not divisible by `step`. It will be replaced by [1, 96].\n",
      "\n",
      "[I 2024-11-22 02:14:57,287] Trial 97 finished with value: 1.313203859309468 and parameters: {'n_estimators': 100, 'learning_rate': 0.045482590206673, 'subsample': 0.75, 'subsample_freq': 1, 'feature_fraction': 0.9, 'min_child_samples': 15, 'num_leaves': 100, 'max_depth': 3, 'min_gain_to_split': 0.0, 'lambda_l1': 96, 'lambda_l2': 1}. Best is trial 78 with value: 1.1476257955769629.\n",
      "/home/saavajuu/anaconda3/lib/python3.12/site-packages/optuna/distributions.py:708: UserWarning:\n",
      "\n",
      "The distribution is specified by [1, 100] and step=5, but the range is not divisible by `step`. It will be replaced by [1, 96].\n",
      "\n",
      "[I 2024-11-22 02:14:58,522] Trial 98 finished with value: 1.200350626012244 and parameters: {'n_estimators': 1300, 'learning_rate': 0.5, 'subsample': 0.75, 'subsample_freq': 10, 'feature_fraction': 0.9, 'min_child_samples': 15, 'num_leaves': 100, 'max_depth': 15, 'min_gain_to_split': 0.0, 'lambda_l1': 96, 'lambda_l2': 96}. Best is trial 78 with value: 1.1476257955769629.\n",
      "/home/saavajuu/anaconda3/lib/python3.12/site-packages/optuna/distributions.py:708: UserWarning:\n",
      "\n",
      "The distribution is specified by [1, 100] and step=5, but the range is not divisible by `step`. It will be replaced by [1, 96].\n",
      "\n",
      "[I 2024-11-22 02:15:00,537] Trial 99 finished with value: 1.1650707970219474 and parameters: {'n_estimators': 1081, 'learning_rate': 0.5, 'subsample': 0.75, 'subsample_freq': 1, 'feature_fraction': 0.9, 'min_child_samples': 150, 'num_leaves': 100, 'max_depth': 3, 'min_gain_to_split': 0.0, 'lambda_l1': 66, 'lambda_l2': 96}. Best is trial 78 with value: 1.1476257955769629.\n"
     ]
    }
   ],
   "source": [
    "def improved_objective_func(trial):\n",
    "    params = {\n",
    "        \"n_estimators\": trial.suggest_int('n_estimators', 100, 1300),\n",
    "        'learning_rate': trial.suggest_float('learning_rate', 0.001, 0.5, log=True),\n",
    "        'subsample': trial.suggest_float('subsample', 0.25, 0.75),\n",
    "        'subsample_freq': trial.suggest_int('subsample_freq', 1, 10),\n",
    "        'feature_fraction': trial.suggest_float('feature_fraction', 0.2, 0.9, step=0.1),\n",
    "        'min_child_samples': trial.suggest_int('min_child_samples', 15, 150),\n",
    "        'num_leaves': trial.suggest_int('num_leaves', 2, 100),\n",
    "        \"max_depth\": trial.suggest_int('max_depth', 3, 15),\n",
    "        \"min_gain_to_split\": trial.suggest_float('min_gain_to_split', 0, 15),\n",
    "        \"lambda_l1\": trial.suggest_int('lambda_l1', 1, 100, step=5),\n",
    "        \"lambda_l2\": trial.suggest_int('lambda_l2', 1, 100, step=5),\n",
    "        'random_state': 75\n",
    "    }\n",
    "    model = lgb.LGBMRegressor(**params, verbose=-1)\n",
    "    model.fit(train_x, train_y)\n",
    "    preds = model.predict(test_x)\n",
    "    mae = mean_absolute_error(test_y, preds)\n",
    "    return mae\n",
    "\n",
    "study.optimize(improved_objective_func, n_trials=100)"
   ]
  },
  {
   "cell_type": "code",
   "execution_count": 62,
   "metadata": {},
   "outputs": [
    {
     "name": "stdout",
     "output_type": "stream",
     "text": [
      "Best MAE 1.1476257955769629\n",
      "Best params: {'n_estimators': 1300, 'learning_rate': 0.017510332606495215, 'subsample': 0.75, 'subsample_freq': 1, 'feature_fraction': 0.9, 'min_child_samples': 15, 'num_leaves': 50, 'max_depth': 8, 'min_gain_to_split': 0.0, 'lambda_l1': 1, 'lambda_l2': 96}\n",
      "MAE: 1.1476292690592522\n",
      "MSE: 2.4749279576679317\n",
      "R2: 0.7424765323557665\n"
     ]
    }
   ],
   "source": [
    "print(\"Best MAE\", study.best_value)\n",
    "print(\"Best params:\", study.best_trial.params)\n",
    "\n",
    "# train the model with the best params\n",
    "best_params = study.best_trial.params\n",
    "model = lgb.LGBMRegressor(**best_params, verbose=-1)\n",
    "model.fit(train_x, train_y)\n",
    "preds = model.predict(test_x)\n",
    "mae = mean_absolute_error(test_y, preds)\n",
    "mse = mean_squared_error(test_y, preds)\n",
    "r2 = r2_score(test_y, preds)\n",
    "print(\"MAE:\", mae)\n",
    "print(\"MSE:\", mse)\n",
    "print(\"R2:\", r2)"
   ]
  },
  {
   "cell_type": "code",
   "execution_count": 64,
   "metadata": {},
   "outputs": [
    {
     "data": {
      "application/vnd.plotly.v1+json": {
       "config": {
        "plotlyServerURL": "https://plot.ly"
       },
       "data": [
        {
         "marker": {
          "color": [
           0,
           1,
           2,
           3,
           4,
           5,
           6,
           7,
           8,
           9,
           10,
           11,
           12,
           13,
           14,
           15,
           16,
           17,
           18,
           19,
           20,
           21,
           22,
           23,
           24,
           25,
           26,
           27,
           28,
           29,
           30,
           31,
           32,
           33,
           34,
           35,
           36,
           37,
           38,
           39,
           40,
           41,
           42,
           43,
           44,
           45,
           46,
           47,
           48,
           49,
           50,
           51,
           52,
           53,
           54,
           55,
           56,
           57,
           58,
           59,
           60,
           61,
           62,
           63,
           64,
           65,
           66,
           67,
           68,
           69,
           70,
           71,
           72,
           73,
           74,
           75,
           76,
           77,
           78,
           79,
           80,
           81,
           82,
           83,
           84,
           85,
           86,
           87,
           88,
           89,
           90,
           91,
           92,
           93,
           94,
           95,
           96,
           97,
           98,
           99
          ],
          "colorbar": {
           "title": {
            "text": "Trial"
           },
           "x": 1,
           "xpad": 40
          },
          "colorscale": [
           [
            0,
            "rgb(247,251,255)"
           ],
           [
            0.125,
            "rgb(222,235,247)"
           ],
           [
            0.25,
            "rgb(198,219,239)"
           ],
           [
            0.375,
            "rgb(158,202,225)"
           ],
           [
            0.5,
            "rgb(107,174,214)"
           ],
           [
            0.625,
            "rgb(66,146,198)"
           ],
           [
            0.75,
            "rgb(33,113,181)"
           ],
           [
            0.875,
            "rgb(8,81,156)"
           ],
           [
            1,
            "rgb(8,48,107)"
           ]
          ],
          "line": {
           "color": "Grey",
           "width": 0.5
          },
          "showscale": true
         },
         "mode": "markers",
         "name": "Feasible Trial",
         "showlegend": false,
         "type": "scatter",
         "x": [
          1,
          66,
          6,
          66,
          76,
          66,
          16,
          66,
          81,
          41,
          71,
          81,
          71,
          81,
          26,
          96,
          36,
          11,
          96,
          96,
          61,
          71,
          96,
          96,
          1,
          1,
          1,
          51,
          96,
          76,
          96,
          96,
          1,
          1,
          96,
          96,
          96,
          1,
          96,
          96,
          1,
          56,
          96,
          96,
          96,
          6,
          96,
          96,
          1,
          96,
          96,
          96,
          96,
          26,
          96,
          96,
          1,
          96,
          96,
          96,
          96,
          96,
          96,
          1,
          51,
          1,
          1,
          96,
          1,
          96,
          1,
          66,
          96,
          41,
          96,
          96,
          1,
          96,
          96,
          96,
          96,
          96,
          96,
          96,
          96,
          96,
          96,
          96,
          96,
          96,
          96,
          96,
          96,
          96,
          96,
          96,
          96,
          1,
          96,
          96
         ],
         "xaxis": "x",
         "y": [
          1.2293339926735267,
          1.593011080992148,
          1.2372993193828024,
          1.2061532919837126,
          1.2600410033790947,
          1.2910638577041322,
          1.573385416269376,
          1.2638124910916566,
          1.2241895492716282,
          1.4026577026870433,
          1.2177358227579391,
          1.2144825297683588,
          1.2652511143675425,
          1.235830372822915,
          1.183901905828109,
          1.1586112849271322,
          1.1548786620953966,
          1.1968350782153898,
          1.154580509464159,
          1.2777084607955227,
          1.1791055185981363,
          1.1648823979146903,
          1.1577180681481867,
          1.1859997480536164,
          1.1570409616253667,
          1.2291515869520797,
          1.1551947540006375,
          1.1602329905775626,
          1.1661204795712425,
          1.1483126391937546,
          1.1677206280292631,
          1.3738537853751445,
          1.1611690540913329,
          1.1877732769955647,
          1.162688888651682,
          1.164813950626955,
          1.2187669135406503,
          1.3019842306964462,
          1.1622807095820922,
          1.1746706006463388,
          1.1545922056913025,
          1.1565662950819409,
          1.1536325119996287,
          1.1563035530597634,
          1.16458542257641,
          1.152046541487938,
          1.2370632617614639,
          1.2991903436473713,
          1.27271363128282,
          1.1963827994545422,
          1.1552059873099174,
          1.1755775283073608,
          1.1531767470128051,
          1.1541242896387442,
          1.2215178035028718,
          1.1530194551116109,
          1.1645542799531137,
          1.2230420125027919,
          1.1912050830365022,
          1.1509608015781994,
          1.1742613408719518,
          1.1750218958547582,
          1.1592751983187677,
          1.1982487569893645,
          1.1686240811800568,
          1.1602148984558622,
          1.263797970637352,
          1.1827132985066549,
          1.2839302206472416,
          1.1517849195928194,
          1.1684918846120835,
          1.1489699158560651,
          1.161929905504174,
          1.151505568244886,
          1.1598201821004652,
          1.2293208815437842,
          1.1678856171478265,
          1.1512650938511706,
          1.1476257955769629,
          1.1869091301483703,
          1.1486054345710786,
          1.184573641137732,
          1.1510704210887008,
          1.1695647337504702,
          1.1484129530190517,
          1.160655530357179,
          1.154116344900251,
          1.1803447087496042,
          1.1595575486221028,
          1.4936877569545806,
          1.160397124904203,
          1.1706253280907923,
          1.2311295918806529,
          1.1568789896572826,
          1.2246698651168966,
          1.1626293954089213,
          1.1786856323028823,
          1.313203859309468,
          1.200350626012244,
          1.1650707970219474
         ],
         "yaxis": "y"
        },
        {
         "marker": {
          "color": [
           0,
           1,
           2,
           3,
           4,
           5,
           6,
           7,
           8,
           9,
           10,
           11,
           12,
           13,
           14,
           15,
           16,
           17,
           18,
           19,
           20,
           21,
           22,
           23,
           24,
           25,
           26,
           27,
           28,
           29,
           30,
           31,
           32,
           33,
           34,
           35,
           36,
           37,
           38,
           39,
           40,
           41,
           42,
           43,
           44,
           45,
           46,
           47,
           48,
           49,
           50,
           51,
           52,
           53,
           54,
           55,
           56,
           57,
           58,
           59,
           60,
           61,
           62,
           63,
           64,
           65,
           66,
           67,
           68,
           69,
           70,
           71,
           72,
           73,
           74,
           75,
           76,
           77,
           78,
           79,
           80,
           81,
           82,
           83,
           84,
           85,
           86,
           87,
           88,
           89,
           90,
           91,
           92,
           93,
           94,
           95,
           96,
           97,
           98,
           99
          ],
          "colorbar": {
           "title": {
            "text": "Trial"
           },
           "x": 1,
           "xpad": 40
          },
          "colorscale": [
           [
            0,
            "rgb(247,251,255)"
           ],
           [
            0.125,
            "rgb(222,235,247)"
           ],
           [
            0.25,
            "rgb(198,219,239)"
           ],
           [
            0.375,
            "rgb(158,202,225)"
           ],
           [
            0.5,
            "rgb(107,174,214)"
           ],
           [
            0.625,
            "rgb(66,146,198)"
           ],
           [
            0.75,
            "rgb(33,113,181)"
           ],
           [
            0.875,
            "rgb(8,81,156)"
           ],
           [
            1,
            "rgb(8,48,107)"
           ]
          ],
          "line": {
           "color": "Grey",
           "width": 0.5
          },
          "showscale": false
         },
         "mode": "markers",
         "name": "Feasible Trial",
         "showlegend": false,
         "type": "scatter",
         "x": [
          404,
          532,
          814,
          598,
          1096,
          447,
          125,
          315,
          730,
          972,
          906,
          1133,
          372,
          1300,
          772,
          1020,
          1235,
          1300,
          1025,
          823,
          1300,
          1030,
          837,
          958,
          1300,
          1300,
          1300,
          960,
          537,
          1300,
          328,
          683,
          1300,
          1300,
          662,
          1300,
          100,
          402,
          725,
          432,
          1198,
          1300,
          1300,
          871,
          822,
          1300,
          1300,
          1300,
          100,
          688,
          1300,
          682,
          893,
          1300,
          467,
          1158,
          1300,
          1300,
          1300,
          1216,
          1300,
          787,
          852,
          1300,
          1300,
          1300,
          532,
          764,
          1300,
          1087,
          1300,
          1300,
          1048,
          1288,
          1300,
          1300,
          1108,
          1300,
          1300,
          1300,
          1300,
          796,
          1300,
          1057,
          1300,
          959,
          1300,
          1300,
          481,
          100,
          1300,
          1058,
          1300,
          1030,
          979,
          1269,
          131,
          100,
          1300,
          1081
         ],
         "xaxis": "x2",
         "y": [
          1.2293339926735267,
          1.593011080992148,
          1.2372993193828024,
          1.2061532919837126,
          1.2600410033790947,
          1.2910638577041322,
          1.573385416269376,
          1.2638124910916566,
          1.2241895492716282,
          1.4026577026870433,
          1.2177358227579391,
          1.2144825297683588,
          1.2652511143675425,
          1.235830372822915,
          1.183901905828109,
          1.1586112849271322,
          1.1548786620953966,
          1.1968350782153898,
          1.154580509464159,
          1.2777084607955227,
          1.1791055185981363,
          1.1648823979146903,
          1.1577180681481867,
          1.1859997480536164,
          1.1570409616253667,
          1.2291515869520797,
          1.1551947540006375,
          1.1602329905775626,
          1.1661204795712425,
          1.1483126391937546,
          1.1677206280292631,
          1.3738537853751445,
          1.1611690540913329,
          1.1877732769955647,
          1.162688888651682,
          1.164813950626955,
          1.2187669135406503,
          1.3019842306964462,
          1.1622807095820922,
          1.1746706006463388,
          1.1545922056913025,
          1.1565662950819409,
          1.1536325119996287,
          1.1563035530597634,
          1.16458542257641,
          1.152046541487938,
          1.2370632617614639,
          1.2991903436473713,
          1.27271363128282,
          1.1963827994545422,
          1.1552059873099174,
          1.1755775283073608,
          1.1531767470128051,
          1.1541242896387442,
          1.2215178035028718,
          1.1530194551116109,
          1.1645542799531137,
          1.2230420125027919,
          1.1912050830365022,
          1.1509608015781994,
          1.1742613408719518,
          1.1750218958547582,
          1.1592751983187677,
          1.1982487569893645,
          1.1686240811800568,
          1.1602148984558622,
          1.263797970637352,
          1.1827132985066549,
          1.2839302206472416,
          1.1517849195928194,
          1.1684918846120835,
          1.1489699158560651,
          1.161929905504174,
          1.151505568244886,
          1.1598201821004652,
          1.2293208815437842,
          1.1678856171478265,
          1.1512650938511706,
          1.1476257955769629,
          1.1869091301483703,
          1.1486054345710786,
          1.184573641137732,
          1.1510704210887008,
          1.1695647337504702,
          1.1484129530190517,
          1.160655530357179,
          1.154116344900251,
          1.1803447087496042,
          1.1595575486221028,
          1.4936877569545806,
          1.160397124904203,
          1.1706253280907923,
          1.2311295918806529,
          1.1568789896572826,
          1.2246698651168966,
          1.1626293954089213,
          1.1786856323028823,
          1.313203859309468,
          1.200350626012244,
          1.1650707970219474
         ],
         "yaxis": "y2"
        },
        {
         "marker": {
          "color": [
           0,
           1,
           2,
           3,
           4,
           5,
           6,
           7,
           8,
           9,
           10,
           11,
           12,
           13,
           14,
           15,
           16,
           17,
           18,
           19,
           20,
           21,
           22,
           23,
           24,
           25,
           26,
           27,
           28,
           29,
           30,
           31,
           32,
           33,
           34,
           35,
           36,
           37,
           38,
           39,
           40,
           41,
           42,
           43,
           44,
           45,
           46,
           47,
           48,
           49,
           50,
           51,
           52,
           53,
           54,
           55,
           56,
           57,
           58,
           59,
           60,
           61,
           62,
           63,
           64,
           65,
           66,
           67,
           68,
           69,
           70,
           71,
           72,
           73,
           74,
           75,
           76,
           77,
           78,
           79,
           80,
           81,
           82,
           83,
           84,
           85,
           86,
           87,
           88,
           89,
           90,
           91,
           92,
           93,
           94,
           95,
           96,
           97,
           98,
           99
          ],
          "colorbar": {
           "title": {
            "text": "Trial"
           },
           "x": 1,
           "xpad": 40
          },
          "colorscale": [
           [
            0,
            "rgb(247,251,255)"
           ],
           [
            0.125,
            "rgb(222,235,247)"
           ],
           [
            0.25,
            "rgb(198,219,239)"
           ],
           [
            0.375,
            "rgb(158,202,225)"
           ],
           [
            0.5,
            "rgb(107,174,214)"
           ],
           [
            0.625,
            "rgb(66,146,198)"
           ],
           [
            0.75,
            "rgb(33,113,181)"
           ],
           [
            0.875,
            "rgb(8,81,156)"
           ],
           [
            1,
            "rgb(8,48,107)"
           ]
          ],
          "line": {
           "color": "Grey",
           "width": 0.5
          },
          "showscale": false
         },
         "mode": "markers",
         "name": "Feasible Trial",
         "showlegend": false,
         "type": "scatter",
         "x": [
          37,
          44,
          20,
          53,
          62,
          78,
          60,
          13,
          41,
          23,
          41,
          80,
          2,
          73,
          80,
          49,
          14,
          40,
          78,
          2,
          65,
          60,
          98,
          86,
          20,
          2,
          40,
          65,
          90,
          34,
          100,
          100,
          19,
          14,
          82,
          37,
          100,
          62,
          100,
          100,
          32,
          28,
          34,
          60,
          100,
          19,
          100,
          2,
          2,
          100,
          29,
          100,
          69,
          47,
          100,
          48,
          35,
          2,
          100,
          42,
          60,
          83,
          69,
          100,
          32,
          19,
          2,
          100,
          27,
          53,
          18,
          21,
          64,
          33,
          45,
          68,
          38,
          56,
          50,
          41,
          57,
          100,
          56,
          40,
          52,
          64,
          39,
          49,
          100,
          2,
          86,
          100,
          2,
          100,
          100,
          84,
          100,
          100,
          100,
          100
         ],
         "xaxis": "x3",
         "y": [
          1.2293339926735267,
          1.593011080992148,
          1.2372993193828024,
          1.2061532919837126,
          1.2600410033790947,
          1.2910638577041322,
          1.573385416269376,
          1.2638124910916566,
          1.2241895492716282,
          1.4026577026870433,
          1.2177358227579391,
          1.2144825297683588,
          1.2652511143675425,
          1.235830372822915,
          1.183901905828109,
          1.1586112849271322,
          1.1548786620953966,
          1.1968350782153898,
          1.154580509464159,
          1.2777084607955227,
          1.1791055185981363,
          1.1648823979146903,
          1.1577180681481867,
          1.1859997480536164,
          1.1570409616253667,
          1.2291515869520797,
          1.1551947540006375,
          1.1602329905775626,
          1.1661204795712425,
          1.1483126391937546,
          1.1677206280292631,
          1.3738537853751445,
          1.1611690540913329,
          1.1877732769955647,
          1.162688888651682,
          1.164813950626955,
          1.2187669135406503,
          1.3019842306964462,
          1.1622807095820922,
          1.1746706006463388,
          1.1545922056913025,
          1.1565662950819409,
          1.1536325119996287,
          1.1563035530597634,
          1.16458542257641,
          1.152046541487938,
          1.2370632617614639,
          1.2991903436473713,
          1.27271363128282,
          1.1963827994545422,
          1.1552059873099174,
          1.1755775283073608,
          1.1531767470128051,
          1.1541242896387442,
          1.2215178035028718,
          1.1530194551116109,
          1.1645542799531137,
          1.2230420125027919,
          1.1912050830365022,
          1.1509608015781994,
          1.1742613408719518,
          1.1750218958547582,
          1.1592751983187677,
          1.1982487569893645,
          1.1686240811800568,
          1.1602148984558622,
          1.263797970637352,
          1.1827132985066549,
          1.2839302206472416,
          1.1517849195928194,
          1.1684918846120835,
          1.1489699158560651,
          1.161929905504174,
          1.151505568244886,
          1.1598201821004652,
          1.2293208815437842,
          1.1678856171478265,
          1.1512650938511706,
          1.1476257955769629,
          1.1869091301483703,
          1.1486054345710786,
          1.184573641137732,
          1.1510704210887008,
          1.1695647337504702,
          1.1484129530190517,
          1.160655530357179,
          1.154116344900251,
          1.1803447087496042,
          1.1595575486221028,
          1.4936877569545806,
          1.160397124904203,
          1.1706253280907923,
          1.2311295918806529,
          1.1568789896572826,
          1.2246698651168966,
          1.1626293954089213,
          1.1786856323028823,
          1.313203859309468,
          1.200350626012244,
          1.1650707970219474
         ],
         "yaxis": "y3"
        }
       ],
       "layout": {
        "template": {
         "data": {
          "bar": [
           {
            "error_x": {
             "color": "#2a3f5f"
            },
            "error_y": {
             "color": "#2a3f5f"
            },
            "marker": {
             "line": {
              "color": "#E5ECF6",
              "width": 0.5
             },
             "pattern": {
              "fillmode": "overlay",
              "size": 10,
              "solidity": 0.2
             }
            },
            "type": "bar"
           }
          ],
          "barpolar": [
           {
            "marker": {
             "line": {
              "color": "#E5ECF6",
              "width": 0.5
             },
             "pattern": {
              "fillmode": "overlay",
              "size": 10,
              "solidity": 0.2
             }
            },
            "type": "barpolar"
           }
          ],
          "carpet": [
           {
            "aaxis": {
             "endlinecolor": "#2a3f5f",
             "gridcolor": "white",
             "linecolor": "white",
             "minorgridcolor": "white",
             "startlinecolor": "#2a3f5f"
            },
            "baxis": {
             "endlinecolor": "#2a3f5f",
             "gridcolor": "white",
             "linecolor": "white",
             "minorgridcolor": "white",
             "startlinecolor": "#2a3f5f"
            },
            "type": "carpet"
           }
          ],
          "choropleth": [
           {
            "colorbar": {
             "outlinewidth": 0,
             "ticks": ""
            },
            "type": "choropleth"
           }
          ],
          "contour": [
           {
            "colorbar": {
             "outlinewidth": 0,
             "ticks": ""
            },
            "colorscale": [
             [
              0,
              "#0d0887"
             ],
             [
              0.1111111111111111,
              "#46039f"
             ],
             [
              0.2222222222222222,
              "#7201a8"
             ],
             [
              0.3333333333333333,
              "#9c179e"
             ],
             [
              0.4444444444444444,
              "#bd3786"
             ],
             [
              0.5555555555555556,
              "#d8576b"
             ],
             [
              0.6666666666666666,
              "#ed7953"
             ],
             [
              0.7777777777777778,
              "#fb9f3a"
             ],
             [
              0.8888888888888888,
              "#fdca26"
             ],
             [
              1,
              "#f0f921"
             ]
            ],
            "type": "contour"
           }
          ],
          "contourcarpet": [
           {
            "colorbar": {
             "outlinewidth": 0,
             "ticks": ""
            },
            "type": "contourcarpet"
           }
          ],
          "heatmap": [
           {
            "colorbar": {
             "outlinewidth": 0,
             "ticks": ""
            },
            "colorscale": [
             [
              0,
              "#0d0887"
             ],
             [
              0.1111111111111111,
              "#46039f"
             ],
             [
              0.2222222222222222,
              "#7201a8"
             ],
             [
              0.3333333333333333,
              "#9c179e"
             ],
             [
              0.4444444444444444,
              "#bd3786"
             ],
             [
              0.5555555555555556,
              "#d8576b"
             ],
             [
              0.6666666666666666,
              "#ed7953"
             ],
             [
              0.7777777777777778,
              "#fb9f3a"
             ],
             [
              0.8888888888888888,
              "#fdca26"
             ],
             [
              1,
              "#f0f921"
             ]
            ],
            "type": "heatmap"
           }
          ],
          "heatmapgl": [
           {
            "colorbar": {
             "outlinewidth": 0,
             "ticks": ""
            },
            "colorscale": [
             [
              0,
              "#0d0887"
             ],
             [
              0.1111111111111111,
              "#46039f"
             ],
             [
              0.2222222222222222,
              "#7201a8"
             ],
             [
              0.3333333333333333,
              "#9c179e"
             ],
             [
              0.4444444444444444,
              "#bd3786"
             ],
             [
              0.5555555555555556,
              "#d8576b"
             ],
             [
              0.6666666666666666,
              "#ed7953"
             ],
             [
              0.7777777777777778,
              "#fb9f3a"
             ],
             [
              0.8888888888888888,
              "#fdca26"
             ],
             [
              1,
              "#f0f921"
             ]
            ],
            "type": "heatmapgl"
           }
          ],
          "histogram": [
           {
            "marker": {
             "pattern": {
              "fillmode": "overlay",
              "size": 10,
              "solidity": 0.2
             }
            },
            "type": "histogram"
           }
          ],
          "histogram2d": [
           {
            "colorbar": {
             "outlinewidth": 0,
             "ticks": ""
            },
            "colorscale": [
             [
              0,
              "#0d0887"
             ],
             [
              0.1111111111111111,
              "#46039f"
             ],
             [
              0.2222222222222222,
              "#7201a8"
             ],
             [
              0.3333333333333333,
              "#9c179e"
             ],
             [
              0.4444444444444444,
              "#bd3786"
             ],
             [
              0.5555555555555556,
              "#d8576b"
             ],
             [
              0.6666666666666666,
              "#ed7953"
             ],
             [
              0.7777777777777778,
              "#fb9f3a"
             ],
             [
              0.8888888888888888,
              "#fdca26"
             ],
             [
              1,
              "#f0f921"
             ]
            ],
            "type": "histogram2d"
           }
          ],
          "histogram2dcontour": [
           {
            "colorbar": {
             "outlinewidth": 0,
             "ticks": ""
            },
            "colorscale": [
             [
              0,
              "#0d0887"
             ],
             [
              0.1111111111111111,
              "#46039f"
             ],
             [
              0.2222222222222222,
              "#7201a8"
             ],
             [
              0.3333333333333333,
              "#9c179e"
             ],
             [
              0.4444444444444444,
              "#bd3786"
             ],
             [
              0.5555555555555556,
              "#d8576b"
             ],
             [
              0.6666666666666666,
              "#ed7953"
             ],
             [
              0.7777777777777778,
              "#fb9f3a"
             ],
             [
              0.8888888888888888,
              "#fdca26"
             ],
             [
              1,
              "#f0f921"
             ]
            ],
            "type": "histogram2dcontour"
           }
          ],
          "mesh3d": [
           {
            "colorbar": {
             "outlinewidth": 0,
             "ticks": ""
            },
            "type": "mesh3d"
           }
          ],
          "parcoords": [
           {
            "line": {
             "colorbar": {
              "outlinewidth": 0,
              "ticks": ""
             }
            },
            "type": "parcoords"
           }
          ],
          "pie": [
           {
            "automargin": true,
            "type": "pie"
           }
          ],
          "scatter": [
           {
            "fillpattern": {
             "fillmode": "overlay",
             "size": 10,
             "solidity": 0.2
            },
            "type": "scatter"
           }
          ],
          "scatter3d": [
           {
            "line": {
             "colorbar": {
              "outlinewidth": 0,
              "ticks": ""
             }
            },
            "marker": {
             "colorbar": {
              "outlinewidth": 0,
              "ticks": ""
             }
            },
            "type": "scatter3d"
           }
          ],
          "scattercarpet": [
           {
            "marker": {
             "colorbar": {
              "outlinewidth": 0,
              "ticks": ""
             }
            },
            "type": "scattercarpet"
           }
          ],
          "scattergeo": [
           {
            "marker": {
             "colorbar": {
              "outlinewidth": 0,
              "ticks": ""
             }
            },
            "type": "scattergeo"
           }
          ],
          "scattergl": [
           {
            "marker": {
             "colorbar": {
              "outlinewidth": 0,
              "ticks": ""
             }
            },
            "type": "scattergl"
           }
          ],
          "scattermapbox": [
           {
            "marker": {
             "colorbar": {
              "outlinewidth": 0,
              "ticks": ""
             }
            },
            "type": "scattermapbox"
           }
          ],
          "scatterpolar": [
           {
            "marker": {
             "colorbar": {
              "outlinewidth": 0,
              "ticks": ""
             }
            },
            "type": "scatterpolar"
           }
          ],
          "scatterpolargl": [
           {
            "marker": {
             "colorbar": {
              "outlinewidth": 0,
              "ticks": ""
             }
            },
            "type": "scatterpolargl"
           }
          ],
          "scatterternary": [
           {
            "marker": {
             "colorbar": {
              "outlinewidth": 0,
              "ticks": ""
             }
            },
            "type": "scatterternary"
           }
          ],
          "surface": [
           {
            "colorbar": {
             "outlinewidth": 0,
             "ticks": ""
            },
            "colorscale": [
             [
              0,
              "#0d0887"
             ],
             [
              0.1111111111111111,
              "#46039f"
             ],
             [
              0.2222222222222222,
              "#7201a8"
             ],
             [
              0.3333333333333333,
              "#9c179e"
             ],
             [
              0.4444444444444444,
              "#bd3786"
             ],
             [
              0.5555555555555556,
              "#d8576b"
             ],
             [
              0.6666666666666666,
              "#ed7953"
             ],
             [
              0.7777777777777778,
              "#fb9f3a"
             ],
             [
              0.8888888888888888,
              "#fdca26"
             ],
             [
              1,
              "#f0f921"
             ]
            ],
            "type": "surface"
           }
          ],
          "table": [
           {
            "cells": {
             "fill": {
              "color": "#EBF0F8"
             },
             "line": {
              "color": "white"
             }
            },
            "header": {
             "fill": {
              "color": "#C8D4E3"
             },
             "line": {
              "color": "white"
             }
            },
            "type": "table"
           }
          ]
         },
         "layout": {
          "annotationdefaults": {
           "arrowcolor": "#2a3f5f",
           "arrowhead": 0,
           "arrowwidth": 1
          },
          "autotypenumbers": "strict",
          "coloraxis": {
           "colorbar": {
            "outlinewidth": 0,
            "ticks": ""
           }
          },
          "colorscale": {
           "diverging": [
            [
             0,
             "#8e0152"
            ],
            [
             0.1,
             "#c51b7d"
            ],
            [
             0.2,
             "#de77ae"
            ],
            [
             0.3,
             "#f1b6da"
            ],
            [
             0.4,
             "#fde0ef"
            ],
            [
             0.5,
             "#f7f7f7"
            ],
            [
             0.6,
             "#e6f5d0"
            ],
            [
             0.7,
             "#b8e186"
            ],
            [
             0.8,
             "#7fbc41"
            ],
            [
             0.9,
             "#4d9221"
            ],
            [
             1,
             "#276419"
            ]
           ],
           "sequential": [
            [
             0,
             "#0d0887"
            ],
            [
             0.1111111111111111,
             "#46039f"
            ],
            [
             0.2222222222222222,
             "#7201a8"
            ],
            [
             0.3333333333333333,
             "#9c179e"
            ],
            [
             0.4444444444444444,
             "#bd3786"
            ],
            [
             0.5555555555555556,
             "#d8576b"
            ],
            [
             0.6666666666666666,
             "#ed7953"
            ],
            [
             0.7777777777777778,
             "#fb9f3a"
            ],
            [
             0.8888888888888888,
             "#fdca26"
            ],
            [
             1,
             "#f0f921"
            ]
           ],
           "sequentialminus": [
            [
             0,
             "#0d0887"
            ],
            [
             0.1111111111111111,
             "#46039f"
            ],
            [
             0.2222222222222222,
             "#7201a8"
            ],
            [
             0.3333333333333333,
             "#9c179e"
            ],
            [
             0.4444444444444444,
             "#bd3786"
            ],
            [
             0.5555555555555556,
             "#d8576b"
            ],
            [
             0.6666666666666666,
             "#ed7953"
            ],
            [
             0.7777777777777778,
             "#fb9f3a"
            ],
            [
             0.8888888888888888,
             "#fdca26"
            ],
            [
             1,
             "#f0f921"
            ]
           ]
          },
          "colorway": [
           "#636efa",
           "#EF553B",
           "#00cc96",
           "#ab63fa",
           "#FFA15A",
           "#19d3f3",
           "#FF6692",
           "#B6E880",
           "#FF97FF",
           "#FECB52"
          ],
          "font": {
           "color": "#2a3f5f"
          },
          "geo": {
           "bgcolor": "white",
           "lakecolor": "white",
           "landcolor": "#E5ECF6",
           "showlakes": true,
           "showland": true,
           "subunitcolor": "white"
          },
          "hoverlabel": {
           "align": "left"
          },
          "hovermode": "closest",
          "mapbox": {
           "style": "light"
          },
          "paper_bgcolor": "white",
          "plot_bgcolor": "#E5ECF6",
          "polar": {
           "angularaxis": {
            "gridcolor": "white",
            "linecolor": "white",
            "ticks": ""
           },
           "bgcolor": "#E5ECF6",
           "radialaxis": {
            "gridcolor": "white",
            "linecolor": "white",
            "ticks": ""
           }
          },
          "scene": {
           "xaxis": {
            "backgroundcolor": "#E5ECF6",
            "gridcolor": "white",
            "gridwidth": 2,
            "linecolor": "white",
            "showbackground": true,
            "ticks": "",
            "zerolinecolor": "white"
           },
           "yaxis": {
            "backgroundcolor": "#E5ECF6",
            "gridcolor": "white",
            "gridwidth": 2,
            "linecolor": "white",
            "showbackground": true,
            "ticks": "",
            "zerolinecolor": "white"
           },
           "zaxis": {
            "backgroundcolor": "#E5ECF6",
            "gridcolor": "white",
            "gridwidth": 2,
            "linecolor": "white",
            "showbackground": true,
            "ticks": "",
            "zerolinecolor": "white"
           }
          },
          "shapedefaults": {
           "line": {
            "color": "#2a3f5f"
           }
          },
          "ternary": {
           "aaxis": {
            "gridcolor": "white",
            "linecolor": "white",
            "ticks": ""
           },
           "baxis": {
            "gridcolor": "white",
            "linecolor": "white",
            "ticks": ""
           },
           "bgcolor": "#E5ECF6",
           "caxis": {
            "gridcolor": "white",
            "linecolor": "white",
            "ticks": ""
           }
          },
          "title": {
           "x": 0.05
          },
          "xaxis": {
           "automargin": true,
           "gridcolor": "white",
           "linecolor": "white",
           "ticks": "",
           "title": {
            "standoff": 15
           },
           "zerolinecolor": "white",
           "zerolinewidth": 2
          },
          "yaxis": {
           "automargin": true,
           "gridcolor": "white",
           "linecolor": "white",
           "ticks": "",
           "title": {
            "standoff": 15
           },
           "zerolinecolor": "white",
           "zerolinewidth": 2
          }
         }
        },
        "title": {
         "text": "Slice Plot"
        },
        "xaxis": {
         "anchor": "y",
         "domain": [
          0,
          0.2888888888888889
         ],
         "title": {
          "text": "lambda_l2"
         }
        },
        "xaxis2": {
         "anchor": "y2",
         "domain": [
          0.35555555555555557,
          0.6444444444444445
         ],
         "title": {
          "text": "n_estimators"
         }
        },
        "xaxis3": {
         "anchor": "y3",
         "domain": [
          0.7111111111111111,
          1
         ],
         "title": {
          "text": "num_leaves"
         }
        },
        "yaxis": {
         "anchor": "x",
         "domain": [
          0,
          1
         ],
         "title": {
          "text": "Objective Value"
         }
        },
        "yaxis2": {
         "anchor": "x2",
         "domain": [
          0,
          1
         ],
         "matches": "y",
         "showticklabels": false
        },
        "yaxis3": {
         "anchor": "x3",
         "domain": [
          0,
          1
         ],
         "matches": "y",
         "showticklabels": false
        }
       }
      }
     },
     "metadata": {},
     "output_type": "display_data"
    }
   ],
   "source": [
    "important_hyperparams = sorted(study.best_trial.params, key=study.best_trial.params.get, reverse=True)[:3]\n",
    "optuna.visualization.plot_slice(study=optuna.load_study(study_name=study_name, storage=db_path), params=important_hyperparams)"
   ]
  },
  {
   "cell_type": "code",
   "execution_count": 65,
   "metadata": {},
   "outputs": [
    {
     "data": {
      "image/png": "[encoded data removed]",
      "text/plain": [
       "<Figure size 1200x800 with 1 Axes>"
      ]
     },
     "metadata": {},
     "output_type": "display_data"
    },
    {
     "data": {
      "application/vnd.plotly.v1+json": {
       "config": {
        "plotlyServerURL": "https://plot.ly"
       },
       "data": [
        {
         "cliponaxis": false,
         "hovertemplate": [
          "feature_fraction (FloatDistribution): 0.003130938525943739<extra></extra>",
          "lambda_l2 (IntDistribution): 0.00970007047131343<extra></extra>",
          "max_depth (IntDistribution): 0.009978707721812754<extra></extra>",
          "num_leaves (IntDistribution): 0.019546207788254524<extra></extra>",
          "min_gain_to_split (FloatDistribution): 0.0195993404859773<extra></extra>",
          "min_child_samples (IntDistribution): 0.021097366338304675<extra></extra>",
          "subsample_freq (IntDistribution): 0.028956225709410033<extra></extra>",
          "lambda_l1 (IntDistribution): 0.0539978492698855<extra></extra>",
          "learning_rate (FloatDistribution): 0.05625263124483645<extra></extra>",
          "n_estimators (IntDistribution): 0.1996837557705224<extra></extra>",
          "subsample (FloatDistribution): 0.5780569066737392<extra></extra>"
         ],
         "name": "Objective Value",
         "orientation": "h",
         "text": [
          "<0.01",
          "<0.01",
          "<0.01",
          "0.02",
          "0.02",
          "0.02",
          "0.03",
          "0.05",
          "0.06",
          "0.20",
          "0.58"
         ],
         "textposition": "outside",
         "type": "bar",
         "x": [
          0.003130938525943739,
          0.00970007047131343,
          0.009978707721812754,
          0.019546207788254524,
          0.0195993404859773,
          0.021097366338304675,
          0.028956225709410033,
          0.0539978492698855,
          0.05625263124483645,
          0.1996837557705224,
          0.5780569066737392
         ],
         "y": [
          "feature_fraction",
          "lambda_l2",
          "max_depth",
          "num_leaves",
          "min_gain_to_split",
          "min_child_samples",
          "subsample_freq",
          "lambda_l1",
          "learning_rate",
          "n_estimators",
          "subsample"
         ]
        }
       ],
       "layout": {
        "template": {
         "data": {
          "bar": [
           {
            "error_x": {
             "color": "#2a3f5f"
            },
            "error_y": {
             "color": "#2a3f5f"
            },
            "marker": {
             "line": {
              "color": "#E5ECF6",
              "width": 0.5
             },
             "pattern": {
              "fillmode": "overlay",
              "size": 10,
              "solidity": 0.2
             }
            },
            "type": "bar"
           }
          ],
          "barpolar": [
           {
            "marker": {
             "line": {
              "color": "#E5ECF6",
              "width": 0.5
             },
             "pattern": {
              "fillmode": "overlay",
              "size": 10,
              "solidity": 0.2
             }
            },
            "type": "barpolar"
           }
          ],
          "carpet": [
           {
            "aaxis": {
             "endlinecolor": "#2a3f5f",
             "gridcolor": "white",
             "linecolor": "white",
             "minorgridcolor": "white",
             "startlinecolor": "#2a3f5f"
            },
            "baxis": {
             "endlinecolor": "#2a3f5f",
             "gridcolor": "white",
             "linecolor": "white",
             "minorgridcolor": "white",
             "startlinecolor": "#2a3f5f"
            },
            "type": "carpet"
           }
          ],
          "choropleth": [
           {
            "colorbar": {
             "outlinewidth": 0,
             "ticks": ""
            },
            "type": "choropleth"
           }
          ],
          "contour": [
           {
            "colorbar": {
             "outlinewidth": 0,
             "ticks": ""
            },
            "colorscale": [
             [
              0,
              "#0d0887"
             ],
             [
              0.1111111111111111,
              "#46039f"
             ],
             [
              0.2222222222222222,
              "#7201a8"
             ],
             [
              0.3333333333333333,
              "#9c179e"
             ],
             [
              0.4444444444444444,
              "#bd3786"
             ],
             [
              0.5555555555555556,
              "#d8576b"
             ],
             [
              0.6666666666666666,
              "#ed7953"
             ],
             [
              0.7777777777777778,
              "#fb9f3a"
             ],
             [
              0.8888888888888888,
              "#fdca26"
             ],
             [
              1,
              "#f0f921"
             ]
            ],
            "type": "contour"
           }
          ],
          "contourcarpet": [
           {
            "colorbar": {
             "outlinewidth": 0,
             "ticks": ""
            },
            "type": "contourcarpet"
           }
          ],
          "heatmap": [
           {
            "colorbar": {
             "outlinewidth": 0,
             "ticks": ""
            },
            "colorscale": [
             [
              0,
              "#0d0887"
             ],
             [
              0.1111111111111111,
              "#46039f"
             ],
             [
              0.2222222222222222,
              "#7201a8"
             ],
             [
              0.3333333333333333,
              "#9c179e"
             ],
             [
              0.4444444444444444,
              "#bd3786"
             ],
             [
              0.5555555555555556,
              "#d8576b"
             ],
             [
              0.6666666666666666,
              "#ed7953"
             ],
             [
              0.7777777777777778,
              "#fb9f3a"
             ],
             [
              0.8888888888888888,
              "#fdca26"
             ],
             [
              1,
              "#f0f921"
             ]
            ],
            "type": "heatmap"
           }
          ],
          "heatmapgl": [
           {
            "colorbar": {
             "outlinewidth": 0,
             "ticks": ""
            },
            "colorscale": [
             [
              0,
              "#0d0887"
             ],
             [
              0.1111111111111111,
              "#46039f"
             ],
             [
              0.2222222222222222,
              "#7201a8"
             ],
             [
              0.3333333333333333,
              "#9c179e"
             ],
             [
              0.4444444444444444,
              "#bd3786"
             ],
             [
              0.5555555555555556,
              "#d8576b"
             ],
             [
              0.6666666666666666,
              "#ed7953"
             ],
             [
              0.7777777777777778,
              "#fb9f3a"
             ],
             [
              0.8888888888888888,
              "#fdca26"
             ],
             [
              1,
              "#f0f921"
             ]
            ],
            "type": "heatmapgl"
           }
          ],
          "histogram": [
           {
            "marker": {
             "pattern": {
              "fillmode": "overlay",
              "size": 10,
              "solidity": 0.2
             }
            },
            "type": "histogram"
           }
          ],
          "histogram2d": [
           {
            "colorbar": {
             "outlinewidth": 0,
             "ticks": ""
            },
            "colorscale": [
             [
              0,
              "#0d0887"
             ],
             [
              0.1111111111111111,
              "#46039f"
             ],
             [
              0.2222222222222222,
              "#7201a8"
             ],
             [
              0.3333333333333333,
              "#9c179e"
             ],
             [
              0.4444444444444444,
              "#bd3786"
             ],
             [
              0.5555555555555556,
              "#d8576b"
             ],
             [
              0.6666666666666666,
              "#ed7953"
             ],
             [
              0.7777777777777778,
              "#fb9f3a"
             ],
             [
              0.8888888888888888,
              "#fdca26"
             ],
             [
              1,
              "#f0f921"
             ]
            ],
            "type": "histogram2d"
           }
          ],
          "histogram2dcontour": [
           {
            "colorbar": {
             "outlinewidth": 0,
             "ticks": ""
            },
            "colorscale": [
             [
              0,
              "#0d0887"
             ],
             [
              0.1111111111111111,
              "#46039f"
             ],
             [
              0.2222222222222222,
              "#7201a8"
             ],
             [
              0.3333333333333333,
              "#9c179e"
             ],
             [
              0.4444444444444444,
              "#bd3786"
             ],
             [
              0.5555555555555556,
              "#d8576b"
             ],
             [
              0.6666666666666666,
              "#ed7953"
             ],
             [
              0.7777777777777778,
              "#fb9f3a"
             ],
             [
              0.8888888888888888,
              "#fdca26"
             ],
             [
              1,
              "#f0f921"
             ]
            ],
            "type": "histogram2dcontour"
           }
          ],
          "mesh3d": [
           {
            "colorbar": {
             "outlinewidth": 0,
             "ticks": ""
            },
            "type": "mesh3d"
           }
          ],
          "parcoords": [
           {
            "line": {
             "colorbar": {
              "outlinewidth": 0,
              "ticks": ""
             }
            },
            "type": "parcoords"
           }
          ],
          "pie": [
           {
            "automargin": true,
            "type": "pie"
           }
          ],
          "scatter": [
           {
            "fillpattern": {
             "fillmode": "overlay",
             "size": 10,
             "solidity": 0.2
            },
            "type": "scatter"
           }
          ],
          "scatter3d": [
           {
            "line": {
             "colorbar": {
              "outlinewidth": 0,
              "ticks": ""
             }
            },
            "marker": {
             "colorbar": {
              "outlinewidth": 0,
              "ticks": ""
             }
            },
            "type": "scatter3d"
           }
          ],
          "scattercarpet": [
           {
            "marker": {
             "colorbar": {
              "outlinewidth": 0,
              "ticks": ""
             }
            },
            "type": "scattercarpet"
           }
          ],
          "scattergeo": [
           {
            "marker": {
             "colorbar": {
              "outlinewidth": 0,
              "ticks": ""
             }
            },
            "type": "scattergeo"
           }
          ],
          "scattergl": [
           {
            "marker": {
             "colorbar": {
              "outlinewidth": 0,
              "ticks": ""
             }
            },
            "type": "scattergl"
           }
          ],
          "scattermapbox": [
           {
            "marker": {
             "colorbar": {
              "outlinewidth": 0,
              "ticks": ""
             }
            },
            "type": "scattermapbox"
           }
          ],
          "scatterpolar": [
           {
            "marker": {
             "colorbar": {
              "outlinewidth": 0,
              "ticks": ""
             }
            },
            "type": "scatterpolar"
           }
          ],
          "scatterpolargl": [
           {
            "marker": {
             "colorbar": {
              "outlinewidth": 0,
              "ticks": ""
             }
            },
            "type": "scatterpolargl"
           }
          ],
          "scatterternary": [
           {
            "marker": {
             "colorbar": {
              "outlinewidth": 0,
              "ticks": ""
             }
            },
            "type": "scatterternary"
           }
          ],
          "surface": [
           {
            "colorbar": {
             "outlinewidth": 0,
             "ticks": ""
            },
            "colorscale": [
             [
              0,
              "#0d0887"
             ],
             [
              0.1111111111111111,
              "#46039f"
             ],
             [
              0.2222222222222222,
              "#7201a8"
             ],
             [
              0.3333333333333333,
              "#9c179e"
             ],
             [
              0.4444444444444444,
              "#bd3786"
             ],
             [
              0.5555555555555556,
              "#d8576b"
             ],
             [
              0.6666666666666666,
              "#ed7953"
             ],
             [
              0.7777777777777778,
              "#fb9f3a"
             ],
             [
              0.8888888888888888,
              "#fdca26"
             ],
             [
              1,
              "#f0f921"
             ]
            ],
            "type": "surface"
           }
          ],
          "table": [
           {
            "cells": {
             "fill": {
              "color": "#EBF0F8"
             },
             "line": {
              "color": "white"
             }
            },
            "header": {
             "fill": {
              "color": "#C8D4E3"
             },
             "line": {
              "color": "white"
             }
            },
            "type": "table"
           }
          ]
         },
         "layout": {
          "annotationdefaults": {
           "arrowcolor": "#2a3f5f",
           "arrowhead": 0,
           "arrowwidth": 1
          },
          "autotypenumbers": "strict",
          "coloraxis": {
           "colorbar": {
            "outlinewidth": 0,
            "ticks": ""
           }
          },
          "colorscale": {
           "diverging": [
            [
             0,
             "#8e0152"
            ],
            [
             0.1,
             "#c51b7d"
            ],
            [
             0.2,
             "#de77ae"
            ],
            [
             0.3,
             "#f1b6da"
            ],
            [
             0.4,
             "#fde0ef"
            ],
            [
             0.5,
             "#f7f7f7"
            ],
            [
             0.6,
             "#e6f5d0"
            ],
            [
             0.7,
             "#b8e186"
            ],
            [
             0.8,
             "#7fbc41"
            ],
            [
             0.9,
             "#4d9221"
            ],
            [
             1,
             "#276419"
            ]
           ],
           "sequential": [
            [
             0,
             "#0d0887"
            ],
            [
             0.1111111111111111,
             "#46039f"
            ],
            [
             0.2222222222222222,
             "#7201a8"
            ],
            [
             0.3333333333333333,
             "#9c179e"
            ],
            [
             0.4444444444444444,
             "#bd3786"
            ],
            [
             0.5555555555555556,
             "#d8576b"
            ],
            [
             0.6666666666666666,
             "#ed7953"
            ],
            [
             0.7777777777777778,
             "#fb9f3a"
            ],
            [
             0.8888888888888888,
             "#fdca26"
            ],
            [
             1,
             "#f0f921"
            ]
           ],
           "sequentialminus": [
            [
             0,
             "#0d0887"
            ],
            [
             0.1111111111111111,
             "#46039f"
            ],
            [
             0.2222222222222222,
             "#7201a8"
            ],
            [
             0.3333333333333333,
             "#9c179e"
            ],
            [
             0.4444444444444444,
             "#bd3786"
            ],
            [
             0.5555555555555556,
             "#d8576b"
            ],
            [
             0.6666666666666666,
             "#ed7953"
            ],
            [
             0.7777777777777778,
             "#fb9f3a"
            ],
            [
             0.8888888888888888,
             "#fdca26"
            ],
            [
             1,
             "#f0f921"
            ]
           ]
          },
          "colorway": [
           "#636efa",
           "#EF553B",
           "#00cc96",
           "#ab63fa",
           "#FFA15A",
           "#19d3f3",
           "#FF6692",
           "#B6E880",
           "#FF97FF",
           "#FECB52"
          ],
          "font": {
           "color": "#2a3f5f"
          },
          "geo": {
           "bgcolor": "white",
           "lakecolor": "white",
           "landcolor": "#E5ECF6",
           "showlakes": true,
           "showland": true,
           "subunitcolor": "white"
          },
          "hoverlabel": {
           "align": "left"
          },
          "hovermode": "closest",
          "mapbox": {
           "style": "light"
          },
          "paper_bgcolor": "white",
          "plot_bgcolor": "#E5ECF6",
          "polar": {
           "angularaxis": {
            "gridcolor": "white",
            "linecolor": "white",
            "ticks": ""
           },
           "bgcolor": "#E5ECF6",
           "radialaxis": {
            "gridcolor": "white",
            "linecolor": "white",
            "ticks": ""
           }
          },
          "scene": {
           "xaxis": {
            "backgroundcolor": "#E5ECF6",
            "gridcolor": "white",
            "gridwidth": 2,
            "linecolor": "white",
            "showbackground": true,
            "ticks": "",
            "zerolinecolor": "white"
           },
           "yaxis": {
            "backgroundcolor": "#E5ECF6",
            "gridcolor": "white",
            "gridwidth": 2,
            "linecolor": "white",
            "showbackground": true,
            "ticks": "",
            "zerolinecolor": "white"
           },
           "zaxis": {
            "backgroundcolor": "#E5ECF6",
            "gridcolor": "white",
            "gridwidth": 2,
            "linecolor": "white",
            "showbackground": true,
            "ticks": "",
            "zerolinecolor": "white"
           }
          },
          "shapedefaults": {
           "line": {
            "color": "#2a3f5f"
           }
          },
          "ternary": {
           "aaxis": {
            "gridcolor": "white",
            "linecolor": "white",
            "ticks": ""
           },
           "baxis": {
            "gridcolor": "white",
            "linecolor": "white",
            "ticks": ""
           },
           "bgcolor": "#E5ECF6",
           "caxis": {
            "gridcolor": "white",
            "linecolor": "white",
            "ticks": ""
           }
          },
          "title": {
           "x": 0.05
          },
          "xaxis": {
           "automargin": true,
           "gridcolor": "white",
           "linecolor": "white",
           "ticks": "",
           "title": {
            "standoff": 15
           },
           "zerolinecolor": "white",
           "zerolinewidth": 2
          },
          "yaxis": {
           "automargin": true,
           "gridcolor": "white",
           "linecolor": "white",
           "ticks": "",
           "title": {
            "standoff": 15
           },
           "zerolinecolor": "white",
           "zerolinewidth": 2
          }
         }
        },
        "title": {
         "text": "Hyperparameter Importances"
        },
        "xaxis": {
         "title": {
          "text": "Hyperparameter Importance"
         }
        },
        "yaxis": {
         "title": {
          "text": "Hyperparameter"
         }
        }
       }
      }
     },
     "metadata": {},
     "output_type": "display_data"
    }
   ],
   "source": [
    "# Plot the feature importance\n",
    "fig, ax = plt.subplots(figsize=(12, 8))\n",
    "lgb.plot_importance(model, ax=ax)\n",
    "plt.show()\n",
    "\n",
    "# plot hyperparameter importance\n",
    "optuna.visualization.plot_param_importances(study).show()\n"
   ]
  },
  {
   "cell_type": "code",
   "execution_count": 66,
   "metadata": {},
   "outputs": [],
   "source": [
    "# do the predictions to the test data and store the results in column : TARGET\n",
    "\n",
    "if \"TARGET\" in test.columns:\n",
    "    test = test.drop(columns=[\"TARGET\"])\n",
    "test[\"TARGET\"] = model.predict(test.drop(columns=[\"ID\", \"parentspecies\"]))\n",
    "\n",
    "# save the ID and TArGET columns to a csv file called : optana_lgbm.csv\n",
    "test[[\"ID\", \"TARGET\"]].to_csv(\"optana_lgbm.csv\", index=False)"
   ]
  }
 ],
 "metadata": {
  "kernelspec": {
   "display_name": "base",
   "language": "python",
   "name": "python3"
  },
  "language_info": {
   "codemirror_mode": {
    "name": "ipython",
    "version": 3
   },
   "file_extension": ".py",
   "mimetype": "text/x-python",
   "name": "python",
   "nbconvert_exporter": "python",
   "pygments_lexer": "ipython3",
   "version": "3.12.7"
  }
 },
 "nbformat": 4,
 "nbformat_minor": 2
}
