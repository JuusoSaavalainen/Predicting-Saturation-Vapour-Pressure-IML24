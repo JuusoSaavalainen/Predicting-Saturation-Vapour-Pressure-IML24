{
 "cells": [
  {
   "cell_type": "code",
   "execution_count": 58,
   "metadata": {},
   "outputs": [
    {
     "name": "stdout",
     "output_type": "stream",
     "text": [
      "Requirement already satisfied: shap in /Library/Frameworks/Python.framework/Versions/3.12/lib/python3.12/site-packages (0.46.0)\n",
      "Requirement already satisfied: numpy in /Library/Frameworks/Python.framework/Versions/3.12/lib/python3.12/site-packages (from shap) (2.0.2)\n",
      "Requirement already satisfied: scipy in /Library/Frameworks/Python.framework/Versions/3.12/lib/python3.12/site-packages (from shap) (1.14.1)\n",
      "Requirement already satisfied: scikit-learn in /Library/Frameworks/Python.framework/Versions/3.12/lib/python3.12/site-packages (from shap) (1.5.2)\n",
      "Requirement already satisfied: pandas in /Library/Frameworks/Python.framework/Versions/3.12/lib/python3.12/site-packages (from shap) (2.2.3)\n",
      "Requirement already satisfied: tqdm>=4.27.0 in /Library/Frameworks/Python.framework/Versions/3.12/lib/python3.12/site-packages (from shap) (4.67.1)\n",
      "Requirement already satisfied: packaging>20.9 in /Users/joonas/Library/Python/3.12/lib/python/site-packages (from shap) (24.2)\n",
      "Requirement already satisfied: slicer==0.0.8 in /Library/Frameworks/Python.framework/Versions/3.12/lib/python3.12/site-packages (from shap) (0.0.8)\n",
      "Requirement already satisfied: numba in /Library/Frameworks/Python.framework/Versions/3.12/lib/python3.12/site-packages (from shap) (0.60.0)\n",
      "Requirement already satisfied: cloudpickle in /Library/Frameworks/Python.framework/Versions/3.12/lib/python3.12/site-packages (from shap) (3.1.0)\n",
      "Requirement already satisfied: llvmlite<0.44,>=0.43.0dev0 in /Library/Frameworks/Python.framework/Versions/3.12/lib/python3.12/site-packages (from numba->shap) (0.43.0)\n",
      "Requirement already satisfied: python-dateutil>=2.8.2 in /Users/joonas/Library/Python/3.12/lib/python/site-packages (from pandas->shap) (2.9.0.post0)\n",
      "Requirement already satisfied: pytz>=2020.1 in /Library/Frameworks/Python.framework/Versions/3.12/lib/python3.12/site-packages (from pandas->shap) (2024.2)\n",
      "Requirement already satisfied: tzdata>=2022.7 in /Library/Frameworks/Python.framework/Versions/3.12/lib/python3.12/site-packages (from pandas->shap) (2024.2)\n",
      "Requirement already satisfied: joblib>=1.2.0 in /Library/Frameworks/Python.framework/Versions/3.12/lib/python3.12/site-packages (from scikit-learn->shap) (1.4.2)\n",
      "Requirement already satisfied: threadpoolctl>=3.1.0 in /Library/Frameworks/Python.framework/Versions/3.12/lib/python3.12/site-packages (from scikit-learn->shap) (3.5.0)\n",
      "Requirement already satisfied: six>=1.5 in /Users/joonas/Library/Python/3.12/lib/python/site-packages (from python-dateutil>=2.8.2->pandas->shap) (1.17.0)\n"
     ]
    }
   ],
   "source": [
    "!python3 -m pip install shap\n",
    "\n",
    "from lightgbm import LGBMRegressor, early_stopping\n",
    "import numpy as np\n",
    "import pandas as pd\n",
    "from sklearn.model_selection import KFold\n",
    "from sklearn.metrics import root_mean_squared_error, r2_score\n",
    "from sklearn.preprocessing import LabelEncoder\n",
    "from sklearn.model_selection import train_test_split\n",
    "import optuna\n",
    "import plotly\n",
    "import matplotlib.pyplot as plt\n",
    "from optuna.integration import lightgbm as lgb\n",
    "from optuna.samplers import TPESampler\n"
   ]
  },
  {
   "cell_type": "code",
   "execution_count": 59,
   "metadata": {},
   "outputs": [],
   "source": [
    "train = pd.read_csv(\"../Data/train.csv\")\n",
    "test = pd.read_csv(\"../Data/test.csv\")\n",
    "sub = pd.read_csv(\"../Data/sample_submission.csv\")"
   ]
  },
  {
   "cell_type": "code",
   "execution_count": 60,
   "metadata": {},
   "outputs": [
    {
     "data": {
      "text/html": [
       "<div>\n",
       "<style scoped>\n",
       "    .dataframe tbody tr th:only-of-type {\n",
       "        vertical-align: middle;\n",
       "    }\n",
       "\n",
       "    .dataframe tbody tr th {\n",
       "        vertical-align: top;\n",
       "    }\n",
       "\n",
       "    .dataframe thead th {\n",
       "        text-align: right;\n",
       "    }\n",
       "</style>\n",
       "<table border=\"1\" class=\"dataframe\">\n",
       "  <thead>\n",
       "    <tr style=\"text-align: right;\">\n",
       "      <th></th>\n",
       "      <th>ID</th>\n",
       "      <th>log_pSat_Pa</th>\n",
       "      <th>MW</th>\n",
       "      <th>NumOfAtoms</th>\n",
       "      <th>NumOfC</th>\n",
       "      <th>NumOfO</th>\n",
       "      <th>NumOfN</th>\n",
       "      <th>NumHBondDonors</th>\n",
       "      <th>NumOfConf</th>\n",
       "      <th>NumOfConfUsed</th>\n",
       "      <th>...</th>\n",
       "      <th>ester</th>\n",
       "      <th>ether (alicyclic)</th>\n",
       "      <th>nitrate</th>\n",
       "      <th>nitro</th>\n",
       "      <th>aromatic hydroxyl</th>\n",
       "      <th>carbonylperoxynitrate</th>\n",
       "      <th>peroxide</th>\n",
       "      <th>hydroperoxide</th>\n",
       "      <th>carbonylperoxyacid</th>\n",
       "      <th>nitroester</th>\n",
       "    </tr>\n",
       "  </thead>\n",
       "  <tbody>\n",
       "    <tr>\n",
       "      <th>0</th>\n",
       "      <td>0</td>\n",
       "      <td>-11.295070</td>\n",
       "      <td>224.016832</td>\n",
       "      <td>23</td>\n",
       "      <td>6</td>\n",
       "      <td>9</td>\n",
       "      <td>0</td>\n",
       "      <td>4</td>\n",
       "      <td>485.0</td>\n",
       "      <td>40.0</td>\n",
       "      <td>...</td>\n",
       "      <td>0</td>\n",
       "      <td>1</td>\n",
       "      <td>0</td>\n",
       "      <td>0</td>\n",
       "      <td>0</td>\n",
       "      <td>0</td>\n",
       "      <td>0</td>\n",
       "      <td>2</td>\n",
       "      <td>0</td>\n",
       "      <td>0</td>\n",
       "    </tr>\n",
       "    <tr>\n",
       "      <th>1</th>\n",
       "      <td>1</td>\n",
       "      <td>-4.782500</td>\n",
       "      <td>310.064845</td>\n",
       "      <td>35</td>\n",
       "      <td>9</td>\n",
       "      <td>10</td>\n",
       "      <td>2</td>\n",
       "      <td>1</td>\n",
       "      <td>236.0</td>\n",
       "      <td>40.0</td>\n",
       "      <td>...</td>\n",
       "      <td>0</td>\n",
       "      <td>0</td>\n",
       "      <td>2</td>\n",
       "      <td>0</td>\n",
       "      <td>0</td>\n",
       "      <td>0</td>\n",
       "      <td>0</td>\n",
       "      <td>1</td>\n",
       "      <td>0</td>\n",
       "      <td>0</td>\n",
       "    </tr>\n",
       "    <tr>\n",
       "      <th>2</th>\n",
       "      <td>2</td>\n",
       "      <td>-6.204319</td>\n",
       "      <td>368.033938</td>\n",
       "      <td>37</td>\n",
       "      <td>10</td>\n",
       "      <td>13</td>\n",
       "      <td>2</td>\n",
       "      <td>1</td>\n",
       "      <td>308.0</td>\n",
       "      <td>40.0</td>\n",
       "      <td>...</td>\n",
       "      <td>0</td>\n",
       "      <td>0</td>\n",
       "      <td>1</td>\n",
       "      <td>0</td>\n",
       "      <td>0</td>\n",
       "      <td>1</td>\n",
       "      <td>0</td>\n",
       "      <td>1</td>\n",
       "      <td>0</td>\n",
       "      <td>0</td>\n",
       "    </tr>\n",
       "    <tr>\n",
       "      <th>3</th>\n",
       "      <td>3</td>\n",
       "      <td>-9.672591</td>\n",
       "      <td>299.012475</td>\n",
       "      <td>29</td>\n",
       "      <td>7</td>\n",
       "      <td>12</td>\n",
       "      <td>1</td>\n",
       "      <td>4</td>\n",
       "      <td>769.0</td>\n",
       "      <td>3.0</td>\n",
       "      <td>...</td>\n",
       "      <td>0</td>\n",
       "      <td>0</td>\n",
       "      <td>1</td>\n",
       "      <td>0</td>\n",
       "      <td>0</td>\n",
       "      <td>0</td>\n",
       "      <td>0</td>\n",
       "      <td>1</td>\n",
       "      <td>1</td>\n",
       "      <td>0</td>\n",
       "    </tr>\n",
       "    <tr>\n",
       "      <th>4</th>\n",
       "      <td>4</td>\n",
       "      <td>-4.252058</td>\n",
       "      <td>202.011353</td>\n",
       "      <td>20</td>\n",
       "      <td>7</td>\n",
       "      <td>7</td>\n",
       "      <td>0</td>\n",
       "      <td>1</td>\n",
       "      <td>77.0</td>\n",
       "      <td>32.0</td>\n",
       "      <td>...</td>\n",
       "      <td>0</td>\n",
       "      <td>1</td>\n",
       "      <td>0</td>\n",
       "      <td>0</td>\n",
       "      <td>0</td>\n",
       "      <td>0</td>\n",
       "      <td>0</td>\n",
       "      <td>1</td>\n",
       "      <td>0</td>\n",
       "      <td>0</td>\n",
       "    </tr>\n",
       "  </tbody>\n",
       "</table>\n",
       "<p>5 rows × 27 columns</p>\n",
       "</div>"
      ],
      "text/plain": [
       "   ID  log_pSat_Pa          MW  NumOfAtoms  NumOfC  NumOfO  NumOfN  \\\n",
       "0   0   -11.295070  224.016832          23       6       9       0   \n",
       "1   1    -4.782500  310.064845          35       9      10       2   \n",
       "2   2    -6.204319  368.033938          37      10      13       2   \n",
       "3   3    -9.672591  299.012475          29       7      12       1   \n",
       "4   4    -4.252058  202.011353          20       7       7       0   \n",
       "\n",
       "   NumHBondDonors  NumOfConf  NumOfConfUsed  ... ester  ether (alicyclic)  \\\n",
       "0               4      485.0           40.0  ...     0                  1   \n",
       "1               1      236.0           40.0  ...     0                  0   \n",
       "2               1      308.0           40.0  ...     0                  0   \n",
       "3               4      769.0            3.0  ...     0                  0   \n",
       "4               1       77.0           32.0  ...     0                  1   \n",
       "\n",
       "   nitrate  nitro  aromatic hydroxyl  carbonylperoxynitrate  peroxide  \\\n",
       "0        0      0                  0                      0         0   \n",
       "1        2      0                  0                      0         0   \n",
       "2        1      0                  0                      1         0   \n",
       "3        1      0                  0                      0         0   \n",
       "4        0      0                  0                      0         0   \n",
       "\n",
       "   hydroperoxide  carbonylperoxyacid  nitroester  \n",
       "0              2                   0           0  \n",
       "1              1                   0           0  \n",
       "2              1                   0           0  \n",
       "3              1                   1           0  \n",
       "4              1                   0           0  \n",
       "\n",
       "[5 rows x 27 columns]"
      ]
     },
     "execution_count": 60,
     "metadata": {},
     "output_type": "execute_result"
    }
   ],
   "source": [
    "train.head()"
   ]
  },
  {
   "cell_type": "code",
   "execution_count": 61,
   "metadata": {},
   "outputs": [],
   "source": [
    "def create_features(df):\n",
    "    df = df.copy()  # Ensure df is a copy to avoid modifying the original DataFrame\n",
    "    # df.loc[:, \"yksi\"] = df[\"ketone\"] / df[\"NumOfConfUsed\"]\n",
    "    df.loc[:, \"kaksi\"] = df[\"NumOfO\"] / df[\"NumOfConf\"]\n",
    "    df.loc[:, \"kolme\"] = df[\"NumHBondDonors\"] / df[\"NumOfConf\"]\n",
    "    # df.loc[:, \"nelja\"] = df[\"NumOfO\"] / df[\"MW\"]\n",
    "    return df\n",
    "\n",
    "\n",
    "# Best score was with features kaksi and kolme !!!\n",
    "\n",
    "train = create_features(train)\n",
    "test = create_features(test)\n",
    "\n",
    "\n",
    "# Find categorical and continuous features\n",
    "cat_features = train.select_dtypes(include=\"object\").columns\n",
    "num_features = train.select_dtypes(exclude=\"object\").columns\n",
    "\n",
    "num_features = num_features.drop([\"log_pSat_Pa\", \"ID\"])\n"
   ]
  },
  {
   "cell_type": "code",
   "execution_count": 62,
   "metadata": {},
   "outputs": [],
   "source": [
    "for e in cat_features:\n",
    "    le = LabelEncoder()\n",
    "    train[e] = le.fit_transform(train[e])\n",
    "    test[e] = le.transform(test[e])\n"
   ]
  },
  {
   "cell_type": "code",
   "execution_count": 63,
   "metadata": {},
   "outputs": [
    {
     "data": {
      "text/html": [
       "<div>\n",
       "<style scoped>\n",
       "    .dataframe tbody tr th:only-of-type {\n",
       "        vertical-align: middle;\n",
       "    }\n",
       "\n",
       "    .dataframe tbody tr th {\n",
       "        vertical-align: top;\n",
       "    }\n",
       "\n",
       "    .dataframe thead th {\n",
       "        text-align: right;\n",
       "    }\n",
       "</style>\n",
       "<table border=\"1\" class=\"dataframe\">\n",
       "  <thead>\n",
       "    <tr style=\"text-align: right;\">\n",
       "      <th></th>\n",
       "      <th>parentspecies</th>\n",
       "      <th>MW</th>\n",
       "      <th>NumOfAtoms</th>\n",
       "      <th>NumOfC</th>\n",
       "      <th>NumOfO</th>\n",
       "      <th>NumOfN</th>\n",
       "      <th>NumHBondDonors</th>\n",
       "      <th>NumOfConf</th>\n",
       "      <th>NumOfConfUsed</th>\n",
       "      <th>C=C (non-aromatic)</th>\n",
       "      <th>...</th>\n",
       "      <th>nitro</th>\n",
       "      <th>aromatic hydroxyl</th>\n",
       "      <th>carbonylperoxynitrate</th>\n",
       "      <th>peroxide</th>\n",
       "      <th>hydroperoxide</th>\n",
       "      <th>carbonylperoxyacid</th>\n",
       "      <th>nitroester</th>\n",
       "      <th>yksi</th>\n",
       "      <th>kaksi</th>\n",
       "      <th>kolme</th>\n",
       "    </tr>\n",
       "  </thead>\n",
       "  <tbody>\n",
       "    <tr>\n",
       "      <th>0</th>\n",
       "      <td>6</td>\n",
       "      <td>224.016832</td>\n",
       "      <td>23</td>\n",
       "      <td>6</td>\n",
       "      <td>9</td>\n",
       "      <td>0</td>\n",
       "      <td>4</td>\n",
       "      <td>485.0</td>\n",
       "      <td>40.0</td>\n",
       "      <td>0</td>\n",
       "      <td>...</td>\n",
       "      <td>0</td>\n",
       "      <td>0</td>\n",
       "      <td>0</td>\n",
       "      <td>0</td>\n",
       "      <td>2</td>\n",
       "      <td>0</td>\n",
       "      <td>0</td>\n",
       "      <td>0.000000</td>\n",
       "      <td>0.018557</td>\n",
       "      <td>0.008247</td>\n",
       "    </tr>\n",
       "    <tr>\n",
       "      <th>1</th>\n",
       "      <td>0</td>\n",
       "      <td>310.064845</td>\n",
       "      <td>35</td>\n",
       "      <td>9</td>\n",
       "      <td>10</td>\n",
       "      <td>2</td>\n",
       "      <td>1</td>\n",
       "      <td>236.0</td>\n",
       "      <td>40.0</td>\n",
       "      <td>0</td>\n",
       "      <td>...</td>\n",
       "      <td>0</td>\n",
       "      <td>0</td>\n",
       "      <td>0</td>\n",
       "      <td>0</td>\n",
       "      <td>1</td>\n",
       "      <td>0</td>\n",
       "      <td>0</td>\n",
       "      <td>0.025000</td>\n",
       "      <td>0.042373</td>\n",
       "      <td>0.004237</td>\n",
       "    </tr>\n",
       "    <tr>\n",
       "      <th>2</th>\n",
       "      <td>0</td>\n",
       "      <td>368.033938</td>\n",
       "      <td>37</td>\n",
       "      <td>10</td>\n",
       "      <td>13</td>\n",
       "      <td>2</td>\n",
       "      <td>1</td>\n",
       "      <td>308.0</td>\n",
       "      <td>40.0</td>\n",
       "      <td>0</td>\n",
       "      <td>...</td>\n",
       "      <td>0</td>\n",
       "      <td>0</td>\n",
       "      <td>1</td>\n",
       "      <td>0</td>\n",
       "      <td>1</td>\n",
       "      <td>0</td>\n",
       "      <td>0</td>\n",
       "      <td>0.050000</td>\n",
       "      <td>0.042208</td>\n",
       "      <td>0.003247</td>\n",
       "    </tr>\n",
       "    <tr>\n",
       "      <th>3</th>\n",
       "      <td>6</td>\n",
       "      <td>299.012475</td>\n",
       "      <td>29</td>\n",
       "      <td>7</td>\n",
       "      <td>12</td>\n",
       "      <td>1</td>\n",
       "      <td>4</td>\n",
       "      <td>769.0</td>\n",
       "      <td>3.0</td>\n",
       "      <td>0</td>\n",
       "      <td>...</td>\n",
       "      <td>0</td>\n",
       "      <td>0</td>\n",
       "      <td>0</td>\n",
       "      <td>0</td>\n",
       "      <td>1</td>\n",
       "      <td>1</td>\n",
       "      <td>0</td>\n",
       "      <td>0.666667</td>\n",
       "      <td>0.015605</td>\n",
       "      <td>0.005202</td>\n",
       "    </tr>\n",
       "    <tr>\n",
       "      <th>4</th>\n",
       "      <td>6</td>\n",
       "      <td>202.011353</td>\n",
       "      <td>20</td>\n",
       "      <td>7</td>\n",
       "      <td>7</td>\n",
       "      <td>0</td>\n",
       "      <td>1</td>\n",
       "      <td>77.0</td>\n",
       "      <td>32.0</td>\n",
       "      <td>0</td>\n",
       "      <td>...</td>\n",
       "      <td>0</td>\n",
       "      <td>0</td>\n",
       "      <td>0</td>\n",
       "      <td>0</td>\n",
       "      <td>1</td>\n",
       "      <td>0</td>\n",
       "      <td>0</td>\n",
       "      <td>0.062500</td>\n",
       "      <td>0.090909</td>\n",
       "      <td>0.012987</td>\n",
       "    </tr>\n",
       "  </tbody>\n",
       "</table>\n",
       "<p>5 rows × 28 columns</p>\n",
       "</div>"
      ],
      "text/plain": [
       "   parentspecies          MW  NumOfAtoms  NumOfC  NumOfO  NumOfN  \\\n",
       "0              6  224.016832          23       6       9       0   \n",
       "1              0  310.064845          35       9      10       2   \n",
       "2              0  368.033938          37      10      13       2   \n",
       "3              6  299.012475          29       7      12       1   \n",
       "4              6  202.011353          20       7       7       0   \n",
       "\n",
       "   NumHBondDonors  NumOfConf  NumOfConfUsed  C=C (non-aromatic)  ...  nitro  \\\n",
       "0               4      485.0           40.0                   0  ...      0   \n",
       "1               1      236.0           40.0                   0  ...      0   \n",
       "2               1      308.0           40.0                   0  ...      0   \n",
       "3               4      769.0            3.0                   0  ...      0   \n",
       "4               1       77.0           32.0                   0  ...      0   \n",
       "\n",
       "   aromatic hydroxyl  carbonylperoxynitrate  peroxide  hydroperoxide  \\\n",
       "0                  0                      0         0              2   \n",
       "1                  0                      0         0              1   \n",
       "2                  0                      1         0              1   \n",
       "3                  0                      0         0              1   \n",
       "4                  0                      0         0              1   \n",
       "\n",
       "   carbonylperoxyacid  nitroester      yksi     kaksi     kolme  \n",
       "0                   0           0  0.000000  0.018557  0.008247  \n",
       "1                   0           0  0.025000  0.042373  0.004237  \n",
       "2                   0           0  0.050000  0.042208  0.003247  \n",
       "3                   1           0  0.666667  0.015605  0.005202  \n",
       "4                   0           0  0.062500  0.090909  0.012987  \n",
       "\n",
       "[5 rows x 28 columns]"
      ]
     },
     "execution_count": 63,
     "metadata": {},
     "output_type": "execute_result"
    }
   ],
   "source": [
    "# Check if all column names in cat_features and num_features exist in train dataframe\n",
    "cat_features = [col for col in cat_features if col in train.columns]\n",
    "num_features = [col for col in num_features if col in train.columns]\n",
    "# Create the data dataframe using the updated cat_features and num_features\n",
    "data = train[cat_features + num_features]\n",
    "target = train[\"log_pSat_Pa\"]\n",
    "data.head()"
   ]
  },
  {
   "cell_type": "code",
   "execution_count": null,
   "metadata": {},
   "outputs": [],
   "source": []
  },
  {
   "cell_type": "code",
   "execution_count": 64,
   "metadata": {},
   "outputs": [],
   "source": [
    "def objective(trial, data=data, target=target):\n",
    "    train_x, test_x, train_y, test_y = train_test_split(\n",
    "        data, target, test_size=0.2, random_state=42\n",
    "    )\n",
    "    param = {\n",
    "        \"verbosity\": -1,\n",
    "        \"metric\": \"rmse\",\n",
    "        \"random_state\": 74,\n",
    "        \"n_estimators\": 10000,\n",
    "        \"reg_alpha\": trial.suggest_float(\"reg_alpha\", 1e-4, 10.0, log=True),\n",
    "        \"reg_lambda\": trial.suggest_float(\"reg_lambda\", 1e-4, 10.0, log=True),\n",
    "        \"colsample_bytree\": trial.suggest_float(\"colsample_bytree\", 0.3, 1.0),\n",
    "        \"subsample\": trial.suggest_float(\"subsample\", 0.5, 1.0),\n",
    "        \"learning_rate\": trial.suggest_float(\"learning_rate\", 0.005, 0.02, log=True),\n",
    "        \"max_depth\": trial.suggest_int(\"max_depth\", 4, 8),\n",
    "        \"num_leaves\": trial.suggest_int(\"num_leaves\", 40, 100),\n",
    "        \"min_child_samples\": trial.suggest_int(\"min_child_samples\", 1, 100),\n",
    "        \"cat_smooth\": trial.suggest_int(\"cat_smooth\", 1, 100),\n",
    "        \"force_col_wise\": True,\n",
    "    }\n",
    "    model = LGBMRegressor(**param)\n",
    "\n",
    "    model.fit(\n",
    "        train_x,\n",
    "        train_y,\n",
    "        eval_set=[(test_x, test_y)],\n",
    "        callbacks=[early_stopping(stopping_rounds=100)],\n",
    "    )\n",
    "\n",
    "    preds = model.predict(test_x)\n",
    "\n",
    "    rmse = root_mean_squared_error(test_y, preds)\n",
    "    best_iteration = model.best_iteration_\n",
    "    trial.set_user_attr(\"best_iteration\", best_iteration)\n",
    "\n",
    "    return rmse"
   ]
  },
  {
   "cell_type": "code",
   "execution_count": 65,
   "metadata": {},
   "outputs": [
    {
     "name": "stderr",
     "output_type": "stream",
     "text": [
      "[I 2024-12-06 02:37:18,146] Using an existing study with name 'new_exp2' instead of creating a new one.\n",
      "[I 2024-12-06 02:37:18,149] A new study created in memory with name: no-name-78000a5c-f0d9-4fd2-bfad-a82470f71768\n"
     ]
    },
    {
     "name": "stdout",
     "output_type": "stream",
     "text": [
      "Training until validation scores don't improve for 100 rounds\n"
     ]
    },
    {
     "name": "stderr",
     "output_type": "stream",
     "text": [
      "[I 2024-12-06 02:37:24,152] Trial 0 finished with value: 1.5657761720237524 and parameters: {'reg_alpha': 0.12636751652912445, 'reg_lambda': 3.642563459317644, 'colsample_bytree': 0.7560979700594778, 'subsample': 0.7355921305619589, 'learning_rate': 0.013497680632599597, 'max_depth': 7, 'num_leaves': 99, 'min_child_samples': 44, 'cat_smooth': 2}. Best is trial 0 with value: 1.5657761720237524.\n"
     ]
    },
    {
     "name": "stdout",
     "output_type": "stream",
     "text": [
      "Early stopping, best iteration is:\n",
      "[1227]\tvalid_0's rmse: 1.56578\n",
      "Training until validation scores don't improve for 100 rounds\n",
      "Early stopping, best iteration is:\n",
      "[6851]\tvalid_0's rmse: 1.56597\n"
     ]
    },
    {
     "name": "stderr",
     "output_type": "stream",
     "text": [
      "[I 2024-12-06 02:37:34,872] Trial 1 finished with value: 1.5659748489502752 and parameters: {'reg_alpha': 0.02764561629110066, 'reg_lambda': 0.0020496442727552014, 'colsample_bytree': 0.7037064987396559, 'subsample': 0.8374779307878197, 'learning_rate': 0.005202860402658337, 'max_depth': 4, 'num_leaves': 51, 'min_child_samples': 5, 'cat_smooth': 12}. Best is trial 0 with value: 1.5657761720237524.\n"
     ]
    },
    {
     "name": "stdout",
     "output_type": "stream",
     "text": [
      "Training until validation scores don't improve for 100 rounds\n"
     ]
    },
    {
     "name": "stderr",
     "output_type": "stream",
     "text": [
      "[I 2024-12-06 02:37:37,711] Trial 2 finished with value: 1.5653589242039445 and parameters: {'reg_alpha': 0.0005713309946203014, 'reg_lambda': 3.1223121549155435, 'colsample_bytree': 0.8000688367691089, 'subsample': 0.5049779485174266, 'learning_rate': 0.019110796804505358, 'max_depth': 4, 'num_leaves': 45, 'min_child_samples': 61, 'cat_smooth': 45}. Best is trial 2 with value: 1.5653589242039445.\n"
     ]
    },
    {
     "name": "stdout",
     "output_type": "stream",
     "text": [
      "Early stopping, best iteration is:\n",
      "[1926]\tvalid_0's rmse: 1.56536\n",
      "Training until validation scores don't improve for 100 rounds\n"
     ]
    },
    {
     "name": "stderr",
     "output_type": "stream",
     "text": [
      "[I 2024-12-06 02:37:43,300] Trial 3 finished with value: 1.567140781130926 and parameters: {'reg_alpha': 6.428834566566094, 'reg_lambda': 0.8708412947919092, 'colsample_bytree': 0.4712259343630695, 'subsample': 0.9485305159593438, 'learning_rate': 0.013977812446118343, 'max_depth': 8, 'num_leaves': 52, 'min_child_samples': 61, 'cat_smooth': 71}. Best is trial 2 with value: 1.5653589242039445.\n"
     ]
    },
    {
     "name": "stdout",
     "output_type": "stream",
     "text": [
      "Early stopping, best iteration is:\n",
      "[1149]\tvalid_0's rmse: 1.56714\n",
      "Training until validation scores don't improve for 100 rounds\n"
     ]
    },
    {
     "name": "stderr",
     "output_type": "stream",
     "text": [
      "[I 2024-12-06 02:37:47,891] Trial 4 finished with value: 1.5644308996842498 and parameters: {'reg_alpha': 0.6759561697082009, 'reg_lambda': 0.041341567942071555, 'colsample_bytree': 0.703701007912899, 'subsample': 0.7505816545897817, 'learning_rate': 0.014012993410247317, 'max_depth': 5, 'num_leaves': 41, 'min_child_samples': 78, 'cat_smooth': 77}. Best is trial 4 with value: 1.5644308996842498.\n"
     ]
    },
    {
     "name": "stdout",
     "output_type": "stream",
     "text": [
      "Early stopping, best iteration is:\n",
      "[2193]\tvalid_0's rmse: 1.56443\n",
      "Training until validation scores don't improve for 100 rounds\n"
     ]
    },
    {
     "name": "stderr",
     "output_type": "stream",
     "text": [
      "[I 2024-12-06 02:37:54,205] Trial 5 finished with value: 1.5644307821350714 and parameters: {'reg_alpha': 1.0054433031487535, 'reg_lambda': 0.05624184004981906, 'colsample_bytree': 0.5407256686129088, 'subsample': 0.7652795941891497, 'learning_rate': 0.009948928504714835, 'max_depth': 4, 'num_leaves': 51, 'min_child_samples': 99, 'cat_smooth': 75}. Best is trial 5 with value: 1.5644307821350714.\n"
     ]
    },
    {
     "name": "stdout",
     "output_type": "stream",
     "text": [
      "Early stopping, best iteration is:\n",
      "[4446]\tvalid_0's rmse: 1.56443\n",
      "Training until validation scores don't improve for 100 rounds\n"
     ]
    },
    {
     "name": "stderr",
     "output_type": "stream",
     "text": [
      "[I 2024-12-06 02:37:57,945] Trial 6 finished with value: 1.5663036191497846 and parameters: {'reg_alpha': 0.8884728222967796, 'reg_lambda': 0.0025493736975699807, 'colsample_bytree': 0.5097403250413888, 'subsample': 0.8088129649253359, 'learning_rate': 0.018755013885605562, 'max_depth': 5, 'num_leaves': 75, 'min_child_samples': 86, 'cat_smooth': 70}. Best is trial 5 with value: 1.5644307821350714.\n"
     ]
    },
    {
     "name": "stdout",
     "output_type": "stream",
     "text": [
      "Early stopping, best iteration is:\n",
      "[1751]\tvalid_0's rmse: 1.5663\n",
      "Training until validation scores don't improve for 100 rounds\n"
     ]
    },
    {
     "name": "stderr",
     "output_type": "stream",
     "text": [
      "[I 2024-12-06 02:38:06,714] Trial 7 finished with value: 1.5637092174924756 and parameters: {'reg_alpha': 0.00036405305596451967, 'reg_lambda': 7.311456294404658, 'colsample_bytree': 0.6812245237952003, 'subsample': 0.5591685703314395, 'learning_rate': 0.007726656281849007, 'max_depth': 6, 'num_leaves': 100, 'min_child_samples': 67, 'cat_smooth': 83}. Best is trial 7 with value: 1.5637092174924756.\n"
     ]
    },
    {
     "name": "stdout",
     "output_type": "stream",
     "text": [
      "Early stopping, best iteration is:\n",
      "[2954]\tvalid_0's rmse: 1.56371\n",
      "Training until validation scores don't improve for 100 rounds\n"
     ]
    },
    {
     "name": "stderr",
     "output_type": "stream",
     "text": [
      "[I 2024-12-06 02:38:14,473] Trial 8 finished with value: 1.5690688000988857 and parameters: {'reg_alpha': 0.002765824340037637, 'reg_lambda': 0.0013299003125888068, 'colsample_bytree': 0.8677137438104441, 'subsample': 0.6550193470891872, 'learning_rate': 0.0066769965868765475, 'max_depth': 4, 'num_leaves': 96, 'min_child_samples': 4, 'cat_smooth': 60}. Best is trial 7 with value: 1.5637092174924756.\n"
     ]
    },
    {
     "name": "stdout",
     "output_type": "stream",
     "text": [
      "Early stopping, best iteration is:\n",
      "[4956]\tvalid_0's rmse: 1.56907\n",
      "Training until validation scores don't improve for 100 rounds\n"
     ]
    },
    {
     "name": "stderr",
     "output_type": "stream",
     "text": [
      "[I 2024-12-06 02:38:21,785] Trial 9 finished with value: 1.5692948126003354 and parameters: {'reg_alpha': 0.29106042444730734, 'reg_lambda': 3.154487896095856, 'colsample_bytree': 0.33485665509496426, 'subsample': 0.5477832904587021, 'learning_rate': 0.009330746342209319, 'max_depth': 4, 'num_leaves': 68, 'min_child_samples': 50, 'cat_smooth': 44}. Best is trial 7 with value: 1.5637092174924756.\n"
     ]
    },
    {
     "name": "stdout",
     "output_type": "stream",
     "text": [
      "Early stopping, best iteration is:\n",
      "[4948]\tvalid_0's rmse: 1.56929\n",
      "Training until validation scores don't improve for 100 rounds\n"
     ]
    },
    {
     "name": "stderr",
     "output_type": "stream",
     "text": [
      "[I 2024-12-06 02:38:30,795] Trial 10 finished with value: 1.5681040421924497 and parameters: {'reg_alpha': 0.00010161321760971871, 'reg_lambda': 0.00010301661613653175, 'colsample_bytree': 0.9845278904184782, 'subsample': 0.6143013525260915, 'learning_rate': 0.00744885560023348, 'max_depth': 6, 'num_leaves': 84, 'min_child_samples': 21, 'cat_smooth': 100}. Best is trial 7 with value: 1.5637092174924756.\n"
     ]
    },
    {
     "name": "stdout",
     "output_type": "stream",
     "text": [
      "Early stopping, best iteration is:\n",
      "[2209]\tvalid_0's rmse: 1.5681\n",
      "Training until validation scores don't improve for 100 rounds\n"
     ]
    },
    {
     "name": "stderr",
     "output_type": "stream",
     "text": [
      "[I 2024-12-06 02:38:38,320] Trial 11 finished with value: 1.5649709956148259 and parameters: {'reg_alpha': 0.004831902828517, 'reg_lambda': 0.1376168538707839, 'colsample_bytree': 0.563246693496967, 'subsample': 0.6761932536604172, 'learning_rate': 0.009603487390091682, 'max_depth': 6, 'num_leaves': 66, 'min_child_samples': 100, 'cat_smooth': 94}. Best is trial 7 with value: 1.5637092174924756.\n"
     ]
    },
    {
     "name": "stdout",
     "output_type": "stream",
     "text": [
      "Early stopping, best iteration is:\n",
      "[2671]\tvalid_0's rmse: 1.56497\n",
      "Training until validation scores don't improve for 100 rounds\n"
     ]
    },
    {
     "name": "stderr",
     "output_type": "stream",
     "text": [
      "[I 2024-12-06 02:38:47,802] Trial 12 finished with value: 1.566126096557357 and parameters: {'reg_alpha': 3.6962338333233795, 'reg_lambda': 0.30689436245326857, 'colsample_bytree': 0.5881970475288847, 'subsample': 0.9024227742007296, 'learning_rate': 0.007387176882745385, 'max_depth': 7, 'num_leaves': 61, 'min_child_samples': 100, 'cat_smooth': 84}. Best is trial 7 with value: 1.5637092174924756.\n"
     ]
    },
    {
     "name": "stdout",
     "output_type": "stream",
     "text": [
      "Early stopping, best iteration is:\n",
      "[2651]\tvalid_0's rmse: 1.56613\n",
      "Training until validation scores don't improve for 100 rounds\n"
     ]
    },
    {
     "name": "stderr",
     "output_type": "stream",
     "text": [
      "[I 2024-12-06 02:38:54,196] Trial 13 finished with value: 1.5657695030973768 and parameters: {'reg_alpha': 0.029877686470058163, 'reg_lambda': 0.013505387479798911, 'colsample_bytree': 0.39800151264911576, 'subsample': 0.5956268849124446, 'learning_rate': 0.011540972974740773, 'max_depth': 5, 'num_leaves': 81, 'min_child_samples': 79, 'cat_smooth': 28}. Best is trial 7 with value: 1.5637092174924756.\n"
     ]
    },
    {
     "name": "stdout",
     "output_type": "stream",
     "text": [
      "Early stopping, best iteration is:\n",
      "[3011]\tvalid_0's rmse: 1.56577\n",
      "Training until validation scores don't improve for 100 rounds\n"
     ]
    },
    {
     "name": "stderr",
     "output_type": "stream",
     "text": [
      "[I 2024-12-06 02:39:06,256] Trial 14 finished with value: 1.5681579547281457 and parameters: {'reg_alpha': 0.00015359383746578454, 'reg_lambda': 8.475169854209465, 'colsample_bytree': 0.5823826173173581, 'subsample': 0.7403975571379418, 'learning_rate': 0.008587670298845265, 'max_depth': 8, 'num_leaves': 88, 'min_child_samples': 30, 'cat_smooth': 58}. Best is trial 7 with value: 1.5637092174924756.\n"
     ]
    },
    {
     "name": "stdout",
     "output_type": "stream",
     "text": [
      "Early stopping, best iteration is:\n",
      "[1927]\tvalid_0's rmse: 1.56816\n",
      "Training until validation scores don't improve for 100 rounds\n",
      "Early stopping, best iteration is:\n",
      "[2839]\tvalid_0's rmse: 1.56375\n"
     ]
    },
    {
     "name": "stderr",
     "output_type": "stream",
     "text": [
      "[I 2024-12-06 02:39:17,751] Trial 15 finished with value: 1.5637505299125274 and parameters: {'reg_alpha': 0.004145840524199282, 'reg_lambda': 0.057323568053120416, 'colsample_bytree': 0.6579594986630729, 'subsample': 0.8406101228701318, 'learning_rate': 0.00561967041595648, 'max_depth': 7, 'num_leaves': 58, 'min_child_samples': 69, 'cat_smooth': 87}. Best is trial 7 with value: 1.5637092174924756.\n"
     ]
    },
    {
     "name": "stdout",
     "output_type": "stream",
     "text": [
      "Training until validation scores don't improve for 100 rounds\n",
      "Early stopping, best iteration is:\n",
      "[2903]\tvalid_0's rmse: 1.56634\n"
     ]
    },
    {
     "name": "stderr",
     "output_type": "stream",
     "text": [
      "[I 2024-12-06 02:39:29,616] Trial 16 finished with value: 1.5663353496229522 and parameters: {'reg_alpha': 0.002093397763731614, 'reg_lambda': 0.44788814702848045, 'colsample_bytree': 0.8702322461506639, 'subsample': 0.8880740644937822, 'learning_rate': 0.005170960046919016, 'max_depth': 7, 'num_leaves': 60, 'min_child_samples': 65, 'cat_smooth': 87}. Best is trial 7 with value: 1.5637092174924756.\n"
     ]
    },
    {
     "name": "stdout",
     "output_type": "stream",
     "text": [
      "Training until validation scores don't improve for 100 rounds\n"
     ]
    },
    {
     "name": "stderr",
     "output_type": "stream",
     "text": [
      "[I 2024-12-06 02:39:40,439] Trial 17 finished with value: 1.5676004249887687 and parameters: {'reg_alpha': 0.0006925556490690002, 'reg_lambda': 0.00947715986504801, 'colsample_bytree': 0.6405594467169944, 'subsample': 0.8317642181770314, 'learning_rate': 0.006199131121952935, 'max_depth': 7, 'num_leaves': 75, 'min_child_samples': 37, 'cat_smooth': 91}. Best is trial 7 with value: 1.5637092174924756.\n"
     ]
    },
    {
     "name": "stdout",
     "output_type": "stream",
     "text": [
      "Early stopping, best iteration is:\n",
      "[2086]\tvalid_0's rmse: 1.5676\n",
      "Training until validation scores don't improve for 100 rounds\n",
      "Early stopping, best iteration is:\n",
      "[3232]\tvalid_0's rmse: 1.56482\n"
     ]
    },
    {
     "name": "stderr",
     "output_type": "stream",
     "text": [
      "[I 2024-12-06 02:39:50,322] Trial 18 finished with value: 1.5648156675220468 and parameters: {'reg_alpha': 0.008702712915909155, 'reg_lambda': 0.00012966289686738153, 'colsample_bytree': 0.6497708355532554, 'subsample': 0.9516176491634758, 'learning_rate': 0.006128692683996244, 'max_depth': 6, 'num_leaves': 59, 'min_child_samples': 72, 'cat_smooth': 32}. Best is trial 7 with value: 1.5637092174924756.\n"
     ]
    },
    {
     "name": "stdout",
     "output_type": "stream",
     "text": [
      "Training until validation scores don't improve for 100 rounds\n"
     ]
    },
    {
     "name": "stderr",
     "output_type": "stream",
     "text": [
      "[I 2024-12-06 02:39:59,885] Trial 19 finished with value: 1.5657210760808535 and parameters: {'reg_alpha': 0.000508386477911189, 'reg_lambda': 1.0437914289794068, 'colsample_bytree': 0.44373870913979374, 'subsample': 0.686209589801732, 'learning_rate': 0.008020841783565245, 'max_depth': 6, 'num_leaves': 92, 'min_child_samples': 54, 'cat_smooth': 63}. Best is trial 7 with value: 1.5637092174924756.\n"
     ]
    },
    {
     "name": "stdout",
     "output_type": "stream",
     "text": [
      "Early stopping, best iteration is:\n",
      "[2900]\tvalid_0's rmse: 1.56572\n",
      "Training until validation scores don't improve for 100 rounds\n",
      "Early stopping, best iteration is:\n",
      "[2523]\tvalid_0's rmse: 1.56816\n"
     ]
    },
    {
     "name": "stderr",
     "output_type": "stream",
     "text": [
      "[I 2024-12-06 02:40:11,769] Trial 20 finished with value: 1.568163397877066 and parameters: {'reg_alpha': 0.011836355801001012, 'reg_lambda': 0.0004575252179507105, 'colsample_bytree': 0.7933050160902098, 'subsample': 0.9971737961400052, 'learning_rate': 0.005745440846603246, 'max_depth': 8, 'num_leaves': 75, 'min_child_samples': 89, 'cat_smooth': 81}. Best is trial 7 with value: 1.5637092174924756.\n"
     ]
    },
    {
     "name": "stdout",
     "output_type": "stream",
     "text": [
      "Training until validation scores don't improve for 100 rounds\n"
     ]
    },
    {
     "name": "stderr",
     "output_type": "stream",
     "text": [
      "[I 2024-12-06 02:40:17,297] Trial 21 finished with value: 1.5657582985319978 and parameters: {'reg_alpha': 0.07282300211196367, 'reg_lambda': 0.08127487003508797, 'colsample_bytree': 0.5235796535649716, 'subsample': 0.7865851752310111, 'learning_rate': 0.011168959312529652, 'max_depth': 5, 'num_leaves': 52, 'min_child_samples': 90, 'cat_smooth': 74}. Best is trial 7 with value: 1.5637092174924756.\n"
     ]
    },
    {
     "name": "stdout",
     "output_type": "stream",
     "text": [
      "Early stopping, best iteration is:\n",
      "[2700]\tvalid_0's rmse: 1.56576\n",
      "Training until validation scores don't improve for 100 rounds\n"
     ]
    },
    {
     "name": "stderr",
     "output_type": "stream",
     "text": [
      "[I 2024-12-06 02:40:23,428] Trial 22 finished with value: 1.5625927738480334 and parameters: {'reg_alpha': 0.000924185894691012, 'reg_lambda': 0.013684009995954838, 'colsample_bytree': 0.6954159848215912, 'subsample': 0.7797790133785945, 'learning_rate': 0.011033624193483287, 'max_depth': 7, 'num_leaves': 47, 'min_child_samples': 71, 'cat_smooth': 97}. Best is trial 22 with value: 1.5625927738480334.\n"
     ]
    },
    {
     "name": "stdout",
     "output_type": "stream",
     "text": [
      "Early stopping, best iteration is:\n",
      "[1593]\tvalid_0's rmse: 1.56259\n",
      "Training until validation scores don't improve for 100 rounds\n"
     ]
    },
    {
     "name": "stderr",
     "output_type": "stream",
     "text": [
      "[I 2024-12-06 02:40:29,095] Trial 23 finished with value: 1.56524248092941 and parameters: {'reg_alpha': 0.001476834736946784, 'reg_lambda': 0.008323243980853033, 'colsample_bytree': 0.69744532721009, 'subsample': 0.8679750500644596, 'learning_rate': 0.011465535368017227, 'max_depth': 7, 'num_leaves': 46, 'min_child_samples': 70, 'cat_smooth': 100}. Best is trial 22 with value: 1.5625927738480334.\n"
     ]
    },
    {
     "name": "stdout",
     "output_type": "stream",
     "text": [
      "Early stopping, best iteration is:\n",
      "[1401]\tvalid_0's rmse: 1.56524\n",
      "Training until validation scores don't improve for 100 rounds\n"
     ]
    },
    {
     "name": "stderr",
     "output_type": "stream",
     "text": [
      "[I 2024-12-06 02:40:38,165] Trial 24 finished with value: 1.562336542394852 and parameters: {'reg_alpha': 0.00022601861566815847, 'reg_lambda': 0.017647724113056457, 'colsample_bytree': 0.6239483270635832, 'subsample': 0.711834615870486, 'learning_rate': 0.006854656721462387, 'max_depth': 6, 'num_leaves': 57, 'min_child_samples': 53, 'cat_smooth': 91}. Best is trial 24 with value: 1.562336542394852.\n"
     ]
    },
    {
     "name": "stdout",
     "output_type": "stream",
     "text": [
      "Early stopping, best iteration is:\n",
      "[2646]\tvalid_0's rmse: 1.56234\n",
      "Training until validation scores don't improve for 100 rounds\n"
     ]
    },
    {
     "name": "stderr",
     "output_type": "stream",
     "text": [
      "[I 2024-12-06 02:40:47,158] Trial 25 finished with value: 1.5624310318997416 and parameters: {'reg_alpha': 0.0002544963565272235, 'reg_lambda': 0.017023981697004885, 'colsample_bytree': 0.7754725630593318, 'subsample': 0.7107174148701978, 'learning_rate': 0.007256508251339717, 'max_depth': 6, 'num_leaves': 41, 'min_child_samples': 55, 'cat_smooth': 94}. Best is trial 24 with value: 1.562336542394852.\n"
     ]
    },
    {
     "name": "stdout",
     "output_type": "stream",
     "text": [
      "Early stopping, best iteration is:\n",
      "[2896]\tvalid_0's rmse: 1.56243\n",
      "Training until validation scores don't improve for 100 rounds\n"
     ]
    },
    {
     "name": "stderr",
     "output_type": "stream",
     "text": [
      "[I 2024-12-06 02:40:55,530] Trial 26 finished with value: 1.5645758676917398 and parameters: {'reg_alpha': 0.0011520633741353007, 'reg_lambda': 0.018336820762737835, 'colsample_bytree': 0.8640621428337804, 'subsample': 0.7067608344653888, 'learning_rate': 0.006931423285538493, 'max_depth': 6, 'num_leaves': 41, 'min_child_samples': 52, 'cat_smooth': 95}. Best is trial 24 with value: 1.562336542394852.\n"
     ]
    },
    {
     "name": "stdout",
     "output_type": "stream",
     "text": [
      "Early stopping, best iteration is:\n",
      "[2626]\tvalid_0's rmse: 1.56458\n",
      "Training until validation scores don't improve for 100 rounds\n"
     ]
    },
    {
     "name": "stderr",
     "output_type": "stream",
     "text": [
      "[I 2024-12-06 02:41:03,276] Trial 27 finished with value: 1.5624861149163374 and parameters: {'reg_alpha': 0.00019308174227042286, 'reg_lambda': 0.006176174604463741, 'colsample_bytree': 0.7573682616035556, 'subsample': 0.6425168730934333, 'learning_rate': 0.00869903455281929, 'max_depth': 6, 'num_leaves': 46, 'min_child_samples': 45, 'cat_smooth': 100}. Best is trial 24 with value: 1.562336542394852.\n"
     ]
    },
    {
     "name": "stdout",
     "output_type": "stream",
     "text": [
      "Early stopping, best iteration is:\n",
      "[2354]\tvalid_0's rmse: 1.56249\n",
      "Training until validation scores don't improve for 100 rounds\n"
     ]
    },
    {
     "name": "stderr",
     "output_type": "stream",
     "text": [
      "[I 2024-12-06 02:41:10,120] Trial 28 finished with value: 1.5702199877997807 and parameters: {'reg_alpha': 0.00019943453829591402, 'reg_lambda': 0.0050659998897755205, 'colsample_bytree': 0.9979599497712404, 'subsample': 0.6296232696199662, 'learning_rate': 0.008631304100196248, 'max_depth': 5, 'num_leaves': 40, 'min_child_samples': 40, 'cat_smooth': 89}. Best is trial 24 with value: 1.562336542394852.\n"
     ]
    },
    {
     "name": "stdout",
     "output_type": "stream",
     "text": [
      "Early stopping, best iteration is:\n",
      "[3044]\tvalid_0's rmse: 1.57022\n",
      "Training until validation scores don't improve for 100 rounds\n"
     ]
    },
    {
     "name": "stderr",
     "output_type": "stream",
     "text": [
      "[I 2024-12-06 02:41:18,941] Trial 29 finished with value: 1.5662320142610098 and parameters: {'reg_alpha': 0.00024360530105511374, 'reg_lambda': 0.0007393161400454867, 'colsample_bytree': 0.7683487218347282, 'subsample': 0.7007549225943192, 'learning_rate': 0.006719211849949362, 'max_depth': 6, 'num_leaves': 56, 'min_child_samples': 30, 'cat_smooth': 65}. Best is trial 24 with value: 1.562336542394852.\n"
     ]
    },
    {
     "name": "stdout",
     "output_type": "stream",
     "text": [
      "Early stopping, best iteration is:\n",
      "[2429]\tvalid_0's rmse: 1.56623\n",
      "Training until validation scores don't improve for 100 rounds\n"
     ]
    },
    {
     "name": "stderr",
     "output_type": "stream",
     "text": [
      "[I 2024-12-06 02:41:26,807] Trial 30 finished with value: 1.5627954180624046 and parameters: {'reg_alpha': 0.00011572332091119222, 'reg_lambda': 0.0038389535123435066, 'colsample_bytree': 0.8253618505311374, 'subsample': 0.7164183099142645, 'learning_rate': 0.008465394903054172, 'max_depth': 6, 'num_leaves': 45, 'min_child_samples': 46, 'cat_smooth': 52}. Best is trial 24 with value: 1.562336542394852.\n"
     ]
    },
    {
     "name": "stdout",
     "output_type": "stream",
     "text": [
      "Early stopping, best iteration is:\n",
      "[2450]\tvalid_0's rmse: 1.5628\n",
      "Training until validation scores don't improve for 100 rounds\n"
     ]
    },
    {
     "name": "stderr",
     "output_type": "stream",
     "text": [
      "[I 2024-12-06 02:41:31,817] Trial 31 finished with value: 1.5646172215859266 and parameters: {'reg_alpha': 0.0009886438494704074, 'reg_lambda': 0.030955625062818945, 'colsample_bytree': 0.7252591929188784, 'subsample': 0.6535589438927697, 'learning_rate': 0.012559361692207328, 'max_depth': 7, 'num_leaves': 46, 'min_child_samples': 58, 'cat_smooth': 98}. Best is trial 24 with value: 1.562336542394852.\n"
     ]
    },
    {
     "name": "stdout",
     "output_type": "stream",
     "text": [
      "Early stopping, best iteration is:\n",
      "[1205]\tvalid_0's rmse: 1.56462\n",
      "Training until validation scores don't improve for 100 rounds\n"
     ]
    },
    {
     "name": "stderr",
     "output_type": "stream",
     "text": [
      "[I 2024-12-06 02:41:37,860] Trial 32 finished with value: 1.5643090271994886 and parameters: {'reg_alpha': 0.0003447537024813408, 'reg_lambda': 0.022756452756677436, 'colsample_bytree': 0.7429633402140738, 'subsample': 0.7819169116026878, 'learning_rate': 0.010353427680546683, 'max_depth': 6, 'num_leaves': 54, 'min_child_samples': 43, 'cat_smooth': 92}. Best is trial 24 with value: 1.562336542394852.\n"
     ]
    },
    {
     "name": "stdout",
     "output_type": "stream",
     "text": [
      "Early stopping, best iteration is:\n",
      "[1802]\tvalid_0's rmse: 1.56431\n",
      "Training until validation scores don't improve for 100 rounds\n"
     ]
    },
    {
     "name": "stderr",
     "output_type": "stream",
     "text": [
      "[I 2024-12-06 02:41:43,257] Trial 33 finished with value: 1.5657941233290373 and parameters: {'reg_alpha': 0.0002718770166796815, 'reg_lambda': 0.005889663514209279, 'colsample_bytree': 0.6164592834923329, 'subsample': 0.733116160440948, 'learning_rate': 0.016009870602902182, 'max_depth': 7, 'num_leaves': 49, 'min_child_samples': 15, 'cat_smooth': 79}. Best is trial 24 with value: 1.562336542394852.\n"
     ]
    },
    {
     "name": "stdout",
     "output_type": "stream",
     "text": [
      "Early stopping, best iteration is:\n",
      "[1110]\tvalid_0's rmse: 1.56579\n",
      "Training until validation scores don't improve for 100 rounds\n"
     ]
    },
    {
     "name": "stderr",
     "output_type": "stream",
     "text": [
      "[I 2024-12-06 02:41:49,197] Trial 34 finished with value: 1.5690285353510407 and parameters: {'reg_alpha': 0.0006379917645079131, 'reg_lambda': 0.15685314388117638, 'colsample_bytree': 0.9041005841623307, 'subsample': 0.6612204514073624, 'learning_rate': 0.008858109577578268, 'max_depth': 6, 'num_leaves': 64, 'min_child_samples': 36, 'cat_smooth': 5}. Best is trial 24 with value: 1.562336542394852.\n"
     ]
    },
    {
     "name": "stdout",
     "output_type": "stream",
     "text": [
      "Early stopping, best iteration is:\n",
      "[1570]\tvalid_0's rmse: 1.56903\n",
      "Training until validation scores don't improve for 100 rounds\n"
     ]
    },
    {
     "name": "stderr",
     "output_type": "stream",
     "text": [
      "[I 2024-12-06 02:41:54,004] Trial 35 finished with value: 1.5632772037458542 and parameters: {'reg_alpha': 0.00018375132653978966, 'reg_lambda': 0.001695131030256061, 'colsample_bytree': 0.766528538945507, 'subsample': 0.5988553080688513, 'learning_rate': 0.012749845486590725, 'max_depth': 5, 'num_leaves': 48, 'min_child_samples': 57, 'cat_smooth': 95}. Best is trial 24 with value: 1.562336542394852.\n"
     ]
    },
    {
     "name": "stdout",
     "output_type": "stream",
     "text": [
      "Early stopping, best iteration is:\n",
      "[2060]\tvalid_0's rmse: 1.56328\n",
      "Training until validation scores don't improve for 100 rounds\n"
     ]
    },
    {
     "name": "stderr",
     "output_type": "stream",
     "text": [
      "[I 2024-12-06 02:41:59,722] Trial 36 finished with value: 1.5643865116573619 and parameters: {'reg_alpha': 0.0008609810414467456, 'reg_lambda': 0.013800549123803334, 'colsample_bytree': 0.8191247181961467, 'subsample': 0.7658085469180299, 'learning_rate': 0.010429362480149418, 'max_depth': 7, 'num_leaves': 44, 'min_child_samples': 48, 'cat_smooth': 90}. Best is trial 24 with value: 1.562336542394852.\n"
     ]
    },
    {
     "name": "stdout",
     "output_type": "stream",
     "text": [
      "Early stopping, best iteration is:\n",
      "[1352]\tvalid_0's rmse: 1.56439\n",
      "Training until validation scores don't improve for 100 rounds\n"
     ]
    },
    {
     "name": "stderr",
     "output_type": "stream",
     "text": [
      "[I 2024-12-06 02:42:08,278] Trial 37 finished with value: 1.565984011203672 and parameters: {'reg_alpha': 0.00010608107487075234, 'reg_lambda': 0.002809981089405321, 'colsample_bytree': 0.722686100659196, 'subsample': 0.8110249178632685, 'learning_rate': 0.0072556062482015465, 'max_depth': 8, 'num_leaves': 43, 'min_child_samples': 62, 'cat_smooth': 68}. Best is trial 24 with value: 1.562336542394852.\n"
     ]
    },
    {
     "name": "stdout",
     "output_type": "stream",
     "text": [
      "Early stopping, best iteration is:\n",
      "[1949]\tvalid_0's rmse: 1.56598\n",
      "Training until validation scores don't improve for 100 rounds\n"
     ]
    },
    {
     "name": "stderr",
     "output_type": "stream",
     "text": [
      "[I 2024-12-06 02:42:15,222] Trial 38 finished with value: 1.5653555940408577 and parameters: {'reg_alpha': 0.0004107976894621861, 'reg_lambda': 0.028378445423179802, 'colsample_bytree': 0.6878625332634523, 'subsample': 0.7231356856505663, 'learning_rate': 0.007991494018209836, 'max_depth': 5, 'num_leaves': 49, 'min_child_samples': 76, 'cat_smooth': 100}. Best is trial 24 with value: 1.562336542394852.\n"
     ]
    },
    {
     "name": "stdout",
     "output_type": "stream",
     "text": [
      "Early stopping, best iteration is:\n",
      "[3268]\tvalid_0's rmse: 1.56536\n",
      "Training until validation scores don't improve for 100 rounds\n"
     ]
    },
    {
     "name": "stderr",
     "output_type": "stream",
     "text": [
      "[I 2024-12-06 02:42:19,926] Trial 39 finished with value: 1.5662985668269735 and parameters: {'reg_alpha': 0.0019758455035380523, 'reg_lambda': 0.0007245478896367879, 'colsample_bytree': 0.6046805788703769, 'subsample': 0.5696824973223588, 'learning_rate': 0.015203185650148792, 'max_depth': 6, 'num_leaves': 53, 'min_child_samples': 82, 'cat_smooth': 83}. Best is trial 24 with value: 1.562336542394852.\n"
     ]
    },
    {
     "name": "stdout",
     "output_type": "stream",
     "text": [
      "Early stopping, best iteration is:\n",
      "[1598]\tvalid_0's rmse: 1.5663\n",
      "Training until validation scores don't improve for 100 rounds\n"
     ]
    },
    {
     "name": "stderr",
     "output_type": "stream",
     "text": [
      "[I 2024-12-06 02:42:26,192] Trial 40 finished with value: 1.5639160357211153 and parameters: {'reg_alpha': 0.054967636370011, 'reg_lambda': 0.10060287952548658, 'colsample_bytree': 0.7794042337985668, 'subsample': 0.5109760096017584, 'learning_rate': 0.009261355039162431, 'max_depth': 6, 'num_leaves': 56, 'min_child_samples': 62, 'cat_smooth': 21}. Best is trial 24 with value: 1.562336542394852.\n"
     ]
    },
    {
     "name": "stdout",
     "output_type": "stream",
     "text": [
      "Early stopping, best iteration is:\n",
      "[1953]\tvalid_0's rmse: 1.56392\n",
      "Training until validation scores don't improve for 100 rounds\n"
     ]
    },
    {
     "name": "stderr",
     "output_type": "stream",
     "text": [
      "[I 2024-12-06 02:42:34,325] Trial 41 finished with value: 1.5637279905365524 and parameters: {'reg_alpha': 0.00016234064600748895, 'reg_lambda': 0.003467605691163362, 'colsample_bytree': 0.831584614606183, 'subsample': 0.7087643886600874, 'learning_rate': 0.00828671936061349, 'max_depth': 6, 'num_leaves': 44, 'min_child_samples': 46, 'cat_smooth': 50}. Best is trial 24 with value: 1.562336542394852.\n"
     ]
    },
    {
     "name": "stdout",
     "output_type": "stream",
     "text": [
      "Early stopping, best iteration is:\n",
      "[2520]\tvalid_0's rmse: 1.56373\n",
      "Training until validation scores don't improve for 100 rounds\n"
     ]
    },
    {
     "name": "stderr",
     "output_type": "stream",
     "text": [
      "[I 2024-12-06 02:42:44,059] Trial 42 finished with value: 1.5668428912384813 and parameters: {'reg_alpha': 0.00011367932042704292, 'reg_lambda': 0.005601512104934977, 'colsample_bytree': 0.9336337331124384, 'subsample': 0.758254809714001, 'learning_rate': 0.006956834111076752, 'max_depth': 6, 'num_leaves': 40, 'min_child_samples': 31, 'cat_smooth': 39}. Best is trial 24 with value: 1.562336542394852.\n"
     ]
    },
    {
     "name": "stdout",
     "output_type": "stream",
     "text": [
      "Early stopping, best iteration is:\n",
      "[2970]\tvalid_0's rmse: 1.56684\n",
      "Training until validation scores don't improve for 100 rounds\n"
     ]
    },
    {
     "name": "stderr",
     "output_type": "stream",
     "text": [
      "[I 2024-12-06 02:42:52,865] Trial 43 finished with value: 1.5657817832451066 and parameters: {'reg_alpha': 0.00035332069393467395, 'reg_lambda': 0.010741609313233695, 'colsample_bytree': 0.8336688943395683, 'subsample': 0.6400636046542985, 'learning_rate': 0.00630068855359983, 'max_depth': 6, 'num_leaves': 48, 'min_child_samples': 55, 'cat_smooth': 55}. Best is trial 24 with value: 1.562336542394852.\n"
     ]
    },
    {
     "name": "stdout",
     "output_type": "stream",
     "text": [
      "Early stopping, best iteration is:\n",
      "[2732]\tvalid_0's rmse: 1.56578\n",
      "Training until validation scores don't improve for 100 rounds\n"
     ]
    },
    {
     "name": "stderr",
     "output_type": "stream",
     "text": [
      "[I 2024-12-06 02:42:58,773] Trial 44 finished with value: 1.563354497814617 and parameters: {'reg_alpha': 0.0005688545768333463, 'reg_lambda': 0.0011995613869945773, 'colsample_bytree': 0.7392561569408164, 'subsample': 0.676640003533364, 'learning_rate': 0.00999818951093053, 'max_depth': 5, 'num_leaves': 51, 'min_child_samples': 44, 'cat_smooth': 76}. Best is trial 24 with value: 1.562336542394852.\n"
     ]
    },
    {
     "name": "stdout",
     "output_type": "stream",
     "text": [
      "Early stopping, best iteration is:\n",
      "[2674]\tvalid_0's rmse: 1.56335\n",
      "Training until validation scores don't improve for 100 rounds\n"
     ]
    },
    {
     "name": "stderr",
     "output_type": "stream",
     "text": [
      "[I 2024-12-06 02:43:07,428] Trial 45 finished with value: 1.5634983492325696 and parameters: {'reg_alpha': 0.00021677982732504832, 'reg_lambda': 0.04852385830232101, 'colsample_bytree': 0.668997347379739, 'subsample': 0.723612242775632, 'learning_rate': 0.0075270969556126485, 'max_depth': 6, 'num_leaves': 43, 'min_child_samples': 51, 'cat_smooth': 95}. Best is trial 24 with value: 1.562336542394852.\n"
     ]
    },
    {
     "name": "stdout",
     "output_type": "stream",
     "text": [
      "Early stopping, best iteration is:\n",
      "[2801]\tvalid_0's rmse: 1.5635\n",
      "Training until validation scores don't improve for 100 rounds\n"
     ]
    },
    {
     "name": "stderr",
     "output_type": "stream",
     "text": [
      "[I 2024-12-06 02:43:14,119] Trial 46 finished with value: 1.5677512459210439 and parameters: {'reg_alpha': 0.2977232865941415, 'reg_lambda': 0.0037735895356677475, 'colsample_bytree': 0.80694281770747, 'subsample': 0.7495143540807832, 'learning_rate': 0.008935594987006764, 'max_depth': 7, 'num_leaves': 63, 'min_child_samples': 40, 'cat_smooth': 13}. Best is trial 24 with value: 1.562336542394852.\n"
     ]
    },
    {
     "name": "stdout",
     "output_type": "stream",
     "text": [
      "Early stopping, best iteration is:\n",
      "[1417]\tvalid_0's rmse: 1.56775\n",
      "Training until validation scores don't improve for 100 rounds\n"
     ]
    },
    {
     "name": "stderr",
     "output_type": "stream",
     "text": [
      "[I 2024-12-06 02:43:20,297] Trial 47 finished with value: 1.5696648214661872 and parameters: {'reg_alpha': 0.00010407113221443774, 'reg_lambda': 0.01712742662295377, 'colsample_bytree': 0.9276534876177235, 'subsample': 0.7893708079032227, 'learning_rate': 0.007974077042525632, 'max_depth': 5, 'num_leaves': 46, 'min_child_samples': 19, 'cat_smooth': 85}. Best is trial 24 with value: 1.562336542394852.\n"
     ]
    },
    {
     "name": "stdout",
     "output_type": "stream",
     "text": [
      "Early stopping, best iteration is:\n",
      "[2431]\tvalid_0's rmse: 1.56966\n",
      "Training until validation scores don't improve for 100 rounds\n"
     ]
    },
    {
     "name": "stderr",
     "output_type": "stream",
     "text": [
      "[I 2024-12-06 02:43:26,874] Trial 48 finished with value: 1.5632464221593 and parameters: {'reg_alpha': 0.004264531893688842, 'reg_lambda': 0.0022579231558079124, 'colsample_bytree': 0.7154934043394013, 'subsample': 0.6913424352072044, 'learning_rate': 0.01078855960907224, 'max_depth': 6, 'num_leaves': 51, 'min_child_samples': 59, 'cat_smooth': 71}. Best is trial 24 with value: 1.562336542394852.\n"
     ]
    },
    {
     "name": "stdout",
     "output_type": "stream",
     "text": [
      "Early stopping, best iteration is:\n",
      "[2079]\tvalid_0's rmse: 1.56325\n",
      "Training until validation scores don't improve for 100 rounds\n"
     ]
    },
    {
     "name": "stderr",
     "output_type": "stream",
     "text": [
      "[I 2024-12-06 02:43:34,604] Trial 49 finished with value: 1.5651407033255695 and parameters: {'reg_alpha': 0.0003538624808736834, 'reg_lambda': 0.007958175641251354, 'colsample_bytree': 0.5513486622483057, 'subsample': 0.6250962406850699, 'learning_rate': 0.009639387370414788, 'max_depth': 7, 'num_leaves': 55, 'min_child_samples': 48, 'cat_smooth': 97}. Best is trial 24 with value: 1.562336542394852.\n"
     ]
    },
    {
     "name": "stdout",
     "output_type": "stream",
     "text": [
      "Early stopping, best iteration is:\n",
      "[1716]\tvalid_0's rmse: 1.56514\n",
      "Number of finished trials: 50\n",
      "Best trial: {'reg_alpha': 0.00022601861566815847, 'reg_lambda': 0.017647724113056457, 'colsample_bytree': 0.6239483270635832, 'subsample': 0.711834615870486, 'learning_rate': 0.006854656721462387, 'max_depth': 6, 'num_leaves': 57, 'min_child_samples': 53, 'cat_smooth': 91}\n",
      "  Value: 1.562336542394852\n",
      "  Params: \n",
      "    reg_alpha: 0.00022601861566815847\n",
      "    reg_lambda: 0.017647724113056457\n",
      "    colsample_bytree: 0.6239483270635832\n",
      "    subsample: 0.711834615870486\n",
      "    learning_rate: 0.006854656721462387\n",
      "    max_depth: 6\n",
      "    num_leaves: 57\n",
      "    min_child_samples: 53\n",
      "    cat_smooth: 91\n"
     ]
    }
   ],
   "source": [
    "db_path = \"sqlite:///../Data/optuna.db\"\n",
    "study_name = \"new_exp2\"\n",
    "\n",
    "# Create a new study or load an existing one\n",
    "study = optuna.create_study(\n",
    "    study_name=study_name,\n",
    "    storage=db_path,\n",
    "    load_if_exists=True,\n",
    "    direction=\"minimize\",\n",
    "    sampler=TPESampler(seed=17),\n",
    "    # sampler=optunahub.load_module(\"samplers/auto_sampler\").AutoSampler()\n",
    ")\n",
    "\n",
    "study = optuna.create_study(direction=\"minimize\")\n",
    "study.optimize(objective, n_trials=50)\n",
    "print(\"Number of finished trials:\", len(study.trials))\n",
    "print(\"Best trial:\", study.best_trial.params)\n",
    "\n",
    "trial = study.best_trial\n",
    "\n",
    "hp_lgbm = study.best_params\n",
    "hp_lgbm[\"n_estimators\"] = study.best_trial.user_attrs[\"best_iteration\"]\n",
    "\n",
    "print(\"  Value: {}\".format(trial.value))\n",
    "print(\"  Params: \")\n",
    "\n",
    "for key, value in trial.params.items():\n",
    "    print(\"    {}: {}\".format(key, value))"
   ]
  },
  {
   "cell_type": "code",
   "execution_count": 66,
   "metadata": {},
   "outputs": [
    {
     "ename": "ValueError",
     "evalue": "Mime type rendering requires nbformat>=4.2.0 but it is not installed",
     "output_type": "error",
     "traceback": [
      "\u001b[0;31m---------------------------------------------------------------------------\u001b[0m",
      "\u001b[0;31mValueError\u001b[0m                                Traceback (most recent call last)",
      "File \u001b[0;32m~/Library/Python/3.12/lib/python/site-packages/IPython/core/formatters.py:984\u001b[0m, in \u001b[0;36mIPythonDisplayFormatter.__call__\u001b[0;34m(self, obj)\u001b[0m\n\u001b[1;32m    982\u001b[0m method \u001b[38;5;241m=\u001b[39m get_real_method(obj, \u001b[38;5;28mself\u001b[39m\u001b[38;5;241m.\u001b[39mprint_method)\n\u001b[1;32m    983\u001b[0m \u001b[38;5;28;01mif\u001b[39;00m method \u001b[38;5;129;01mis\u001b[39;00m \u001b[38;5;129;01mnot\u001b[39;00m \u001b[38;5;28;01mNone\u001b[39;00m:\n\u001b[0;32m--> 984\u001b[0m     \u001b[43mmethod\u001b[49m\u001b[43m(\u001b[49m\u001b[43m)\u001b[49m\n\u001b[1;32m    985\u001b[0m     \u001b[38;5;28;01mreturn\u001b[39;00m \u001b[38;5;28;01mTrue\u001b[39;00m\n",
      "File \u001b[0;32m/Library/Frameworks/Python.framework/Versions/3.12/lib/python3.12/site-packages/plotly/basedatatypes.py:832\u001b[0m, in \u001b[0;36mBaseFigure._ipython_display_\u001b[0;34m(self)\u001b[0m\n\u001b[1;32m    829\u001b[0m \u001b[38;5;28;01mimport\u001b[39;00m \u001b[38;5;21;01mplotly\u001b[39;00m\u001b[38;5;21;01m.\u001b[39;00m\u001b[38;5;21;01mio\u001b[39;00m \u001b[38;5;28;01mas\u001b[39;00m \u001b[38;5;21;01mpio\u001b[39;00m\n\u001b[1;32m    831\u001b[0m \u001b[38;5;28;01mif\u001b[39;00m pio\u001b[38;5;241m.\u001b[39mrenderers\u001b[38;5;241m.\u001b[39mrender_on_display \u001b[38;5;129;01mand\u001b[39;00m pio\u001b[38;5;241m.\u001b[39mrenderers\u001b[38;5;241m.\u001b[39mdefault:\n\u001b[0;32m--> 832\u001b[0m     \u001b[43mpio\u001b[49m\u001b[38;5;241;43m.\u001b[39;49m\u001b[43mshow\u001b[49m\u001b[43m(\u001b[49m\u001b[38;5;28;43mself\u001b[39;49m\u001b[43m)\u001b[49m\n\u001b[1;32m    833\u001b[0m \u001b[38;5;28;01melse\u001b[39;00m:\n\u001b[1;32m    834\u001b[0m     \u001b[38;5;28mprint\u001b[39m(\u001b[38;5;28mrepr\u001b[39m(\u001b[38;5;28mself\u001b[39m))\n",
      "File \u001b[0;32m/Library/Frameworks/Python.framework/Versions/3.12/lib/python3.12/site-packages/plotly/io/_renderers.py:394\u001b[0m, in \u001b[0;36mshow\u001b[0;34m(fig, renderer, validate, **kwargs)\u001b[0m\n\u001b[1;32m    389\u001b[0m         \u001b[38;5;28;01mraise\u001b[39;00m \u001b[38;5;167;01mValueError\u001b[39;00m(\n\u001b[1;32m    390\u001b[0m             \u001b[38;5;124m\"\u001b[39m\u001b[38;5;124mMime type rendering requires ipython but it is not installed\u001b[39m\u001b[38;5;124m\"\u001b[39m\n\u001b[1;32m    391\u001b[0m         )\n\u001b[1;32m    393\u001b[0m     \u001b[38;5;28;01mif\u001b[39;00m \u001b[38;5;129;01mnot\u001b[39;00m nbformat \u001b[38;5;129;01mor\u001b[39;00m Version(nbformat\u001b[38;5;241m.\u001b[39m__version__) \u001b[38;5;241m<\u001b[39m Version(\u001b[38;5;124m\"\u001b[39m\u001b[38;5;124m4.2.0\u001b[39m\u001b[38;5;124m\"\u001b[39m):\n\u001b[0;32m--> 394\u001b[0m         \u001b[38;5;28;01mraise\u001b[39;00m \u001b[38;5;167;01mValueError\u001b[39;00m(\n\u001b[1;32m    395\u001b[0m             \u001b[38;5;124m\"\u001b[39m\u001b[38;5;124mMime type rendering requires nbformat>=4.2.0 but it is not installed\u001b[39m\u001b[38;5;124m\"\u001b[39m\n\u001b[1;32m    396\u001b[0m         )\n\u001b[1;32m    398\u001b[0m     ipython_display\u001b[38;5;241m.\u001b[39mdisplay(bundle, raw\u001b[38;5;241m=\u001b[39m\u001b[38;5;28;01mTrue\u001b[39;00m)\n\u001b[1;32m    400\u001b[0m \u001b[38;5;66;03m# external renderers\u001b[39;00m\n",
      "\u001b[0;31mValueError\u001b[0m: Mime type rendering requires nbformat>=4.2.0 but it is not installed"
     ]
    },
    {
     "data": {
      "application/vnd.plotly.v1+json": {
       "config": {
        "plotlyServerURL": "https://plot.ly"
       },
       "data": [
        {
         "cliponaxis": false,
         "hovertemplate": [
          "reg_alpha (FloatDistribution): 0.0018139489356067825<extra></extra>",
          "cat_smooth (IntDistribution): 0.027581873025403755<extra></extra>",
          "max_depth (IntDistribution): 0.031542837062829385<extra></extra>",
          "learning_rate (FloatDistribution): 0.03274596568928584<extra></extra>",
          "subsample (FloatDistribution): 0.059214344852610394<extra></extra>",
          "reg_lambda (FloatDistribution): 0.06866500724721974<extra></extra>",
          "num_leaves (IntDistribution): 0.13201866916465338<extra></extra>",
          "colsample_bytree (FloatDistribution): 0.26090056974301107<extra></extra>",
          "min_child_samples (IntDistribution): 0.3855167842793795<extra></extra>"
         ],
         "name": "Objective Value",
         "orientation": "h",
         "text": [
          "<0.01",
          "0.03",
          "0.03",
          "0.03",
          "0.06",
          "0.07",
          "0.13",
          "0.26",
          "0.39"
         ],
         "textposition": "outside",
         "type": "bar",
         "x": [
          0.0018139489356067825,
          0.027581873025403755,
          0.031542837062829385,
          0.03274596568928584,
          0.059214344852610394,
          0.06866500724721974,
          0.13201866916465338,
          0.26090056974301107,
          0.3855167842793795
         ],
         "y": [
          "reg_alpha",
          "cat_smooth",
          "max_depth",
          "learning_rate",
          "subsample",
          "reg_lambda",
          "num_leaves",
          "colsample_bytree",
          "min_child_samples"
         ]
        }
       ],
       "layout": {
        "template": {
         "data": {
          "bar": [
           {
            "error_x": {
             "color": "#2a3f5f"
            },
            "error_y": {
             "color": "#2a3f5f"
            },
            "marker": {
             "line": {
              "color": "#E5ECF6",
              "width": 0.5
             },
             "pattern": {
              "fillmode": "overlay",
              "size": 10,
              "solidity": 0.2
             }
            },
            "type": "bar"
           }
          ],
          "barpolar": [
           {
            "marker": {
             "line": {
              "color": "#E5ECF6",
              "width": 0.5
             },
             "pattern": {
              "fillmode": "overlay",
              "size": 10,
              "solidity": 0.2
             }
            },
            "type": "barpolar"
           }
          ],
          "carpet": [
           {
            "aaxis": {
             "endlinecolor": "#2a3f5f",
             "gridcolor": "white",
             "linecolor": "white",
             "minorgridcolor": "white",
             "startlinecolor": "#2a3f5f"
            },
            "baxis": {
             "endlinecolor": "#2a3f5f",
             "gridcolor": "white",
             "linecolor": "white",
             "minorgridcolor": "white",
             "startlinecolor": "#2a3f5f"
            },
            "type": "carpet"
           }
          ],
          "choropleth": [
           {
            "colorbar": {
             "outlinewidth": 0,
             "ticks": ""
            },
            "type": "choropleth"
           }
          ],
          "contour": [
           {
            "colorbar": {
             "outlinewidth": 0,
             "ticks": ""
            },
            "colorscale": [
             [
              0,
              "#0d0887"
             ],
             [
              0.1111111111111111,
              "#46039f"
             ],
             [
              0.2222222222222222,
              "#7201a8"
             ],
             [
              0.3333333333333333,
              "#9c179e"
             ],
             [
              0.4444444444444444,
              "#bd3786"
             ],
             [
              0.5555555555555556,
              "#d8576b"
             ],
             [
              0.6666666666666666,
              "#ed7953"
             ],
             [
              0.7777777777777778,
              "#fb9f3a"
             ],
             [
              0.8888888888888888,
              "#fdca26"
             ],
             [
              1,
              "#f0f921"
             ]
            ],
            "type": "contour"
           }
          ],
          "contourcarpet": [
           {
            "colorbar": {
             "outlinewidth": 0,
             "ticks": ""
            },
            "type": "contourcarpet"
           }
          ],
          "heatmap": [
           {
            "colorbar": {
             "outlinewidth": 0,
             "ticks": ""
            },
            "colorscale": [
             [
              0,
              "#0d0887"
             ],
             [
              0.1111111111111111,
              "#46039f"
             ],
             [
              0.2222222222222222,
              "#7201a8"
             ],
             [
              0.3333333333333333,
              "#9c179e"
             ],
             [
              0.4444444444444444,
              "#bd3786"
             ],
             [
              0.5555555555555556,
              "#d8576b"
             ],
             [
              0.6666666666666666,
              "#ed7953"
             ],
             [
              0.7777777777777778,
              "#fb9f3a"
             ],
             [
              0.8888888888888888,
              "#fdca26"
             ],
             [
              1,
              "#f0f921"
             ]
            ],
            "type": "heatmap"
           }
          ],
          "heatmapgl": [
           {
            "colorbar": {
             "outlinewidth": 0,
             "ticks": ""
            },
            "colorscale": [
             [
              0,
              "#0d0887"
             ],
             [
              0.1111111111111111,
              "#46039f"
             ],
             [
              0.2222222222222222,
              "#7201a8"
             ],
             [
              0.3333333333333333,
              "#9c179e"
             ],
             [
              0.4444444444444444,
              "#bd3786"
             ],
             [
              0.5555555555555556,
              "#d8576b"
             ],
             [
              0.6666666666666666,
              "#ed7953"
             ],
             [
              0.7777777777777778,
              "#fb9f3a"
             ],
             [
              0.8888888888888888,
              "#fdca26"
             ],
             [
              1,
              "#f0f921"
             ]
            ],
            "type": "heatmapgl"
           }
          ],
          "histogram": [
           {
            "marker": {
             "pattern": {
              "fillmode": "overlay",
              "size": 10,
              "solidity": 0.2
             }
            },
            "type": "histogram"
           }
          ],
          "histogram2d": [
           {
            "colorbar": {
             "outlinewidth": 0,
             "ticks": ""
            },
            "colorscale": [
             [
              0,
              "#0d0887"
             ],
             [
              0.1111111111111111,
              "#46039f"
             ],
             [
              0.2222222222222222,
              "#7201a8"
             ],
             [
              0.3333333333333333,
              "#9c179e"
             ],
             [
              0.4444444444444444,
              "#bd3786"
             ],
             [
              0.5555555555555556,
              "#d8576b"
             ],
             [
              0.6666666666666666,
              "#ed7953"
             ],
             [
              0.7777777777777778,
              "#fb9f3a"
             ],
             [
              0.8888888888888888,
              "#fdca26"
             ],
             [
              1,
              "#f0f921"
             ]
            ],
            "type": "histogram2d"
           }
          ],
          "histogram2dcontour": [
           {
            "colorbar": {
             "outlinewidth": 0,
             "ticks": ""
            },
            "colorscale": [
             [
              0,
              "#0d0887"
             ],
             [
              0.1111111111111111,
              "#46039f"
             ],
             [
              0.2222222222222222,
              "#7201a8"
             ],
             [
              0.3333333333333333,
              "#9c179e"
             ],
             [
              0.4444444444444444,
              "#bd3786"
             ],
             [
              0.5555555555555556,
              "#d8576b"
             ],
             [
              0.6666666666666666,
              "#ed7953"
             ],
             [
              0.7777777777777778,
              "#fb9f3a"
             ],
             [
              0.8888888888888888,
              "#fdca26"
             ],
             [
              1,
              "#f0f921"
             ]
            ],
            "type": "histogram2dcontour"
           }
          ],
          "mesh3d": [
           {
            "colorbar": {
             "outlinewidth": 0,
             "ticks": ""
            },
            "type": "mesh3d"
           }
          ],
          "parcoords": [
           {
            "line": {
             "colorbar": {
              "outlinewidth": 0,
              "ticks": ""
             }
            },
            "type": "parcoords"
           }
          ],
          "pie": [
           {
            "automargin": true,
            "type": "pie"
           }
          ],
          "scatter": [
           {
            "fillpattern": {
             "fillmode": "overlay",
             "size": 10,
             "solidity": 0.2
            },
            "type": "scatter"
           }
          ],
          "scatter3d": [
           {
            "line": {
             "colorbar": {
              "outlinewidth": 0,
              "ticks": ""
             }
            },
            "marker": {
             "colorbar": {
              "outlinewidth": 0,
              "ticks": ""
             }
            },
            "type": "scatter3d"
           }
          ],
          "scattercarpet": [
           {
            "marker": {
             "colorbar": {
              "outlinewidth": 0,
              "ticks": ""
             }
            },
            "type": "scattercarpet"
           }
          ],
          "scattergeo": [
           {
            "marker": {
             "colorbar": {
              "outlinewidth": 0,
              "ticks": ""
             }
            },
            "type": "scattergeo"
           }
          ],
          "scattergl": [
           {
            "marker": {
             "colorbar": {
              "outlinewidth": 0,
              "ticks": ""
             }
            },
            "type": "scattergl"
           }
          ],
          "scattermapbox": [
           {
            "marker": {
             "colorbar": {
              "outlinewidth": 0,
              "ticks": ""
             }
            },
            "type": "scattermapbox"
           }
          ],
          "scatterpolar": [
           {
            "marker": {
             "colorbar": {
              "outlinewidth": 0,
              "ticks": ""
             }
            },
            "type": "scatterpolar"
           }
          ],
          "scatterpolargl": [
           {
            "marker": {
             "colorbar": {
              "outlinewidth": 0,
              "ticks": ""
             }
            },
            "type": "scatterpolargl"
           }
          ],
          "scatterternary": [
           {
            "marker": {
             "colorbar": {
              "outlinewidth": 0,
              "ticks": ""
             }
            },
            "type": "scatterternary"
           }
          ],
          "surface": [
           {
            "colorbar": {
             "outlinewidth": 0,
             "ticks": ""
            },
            "colorscale": [
             [
              0,
              "#0d0887"
             ],
             [
              0.1111111111111111,
              "#46039f"
             ],
             [
              0.2222222222222222,
              "#7201a8"
             ],
             [
              0.3333333333333333,
              "#9c179e"
             ],
             [
              0.4444444444444444,
              "#bd3786"
             ],
             [
              0.5555555555555556,
              "#d8576b"
             ],
             [
              0.6666666666666666,
              "#ed7953"
             ],
             [
              0.7777777777777778,
              "#fb9f3a"
             ],
             [
              0.8888888888888888,
              "#fdca26"
             ],
             [
              1,
              "#f0f921"
             ]
            ],
            "type": "surface"
           }
          ],
          "table": [
           {
            "cells": {
             "fill": {
              "color": "#EBF0F8"
             },
             "line": {
              "color": "white"
             }
            },
            "header": {
             "fill": {
              "color": "#C8D4E3"
             },
             "line": {
              "color": "white"
             }
            },
            "type": "table"
           }
          ]
         },
         "layout": {
          "annotationdefaults": {
           "arrowcolor": "#2a3f5f",
           "arrowhead": 0,
           "arrowwidth": 1
          },
          "autotypenumbers": "strict",
          "coloraxis": {
           "colorbar": {
            "outlinewidth": 0,
            "ticks": ""
           }
          },
          "colorscale": {
           "diverging": [
            [
             0,
             "#8e0152"
            ],
            [
             0.1,
             "#c51b7d"
            ],
            [
             0.2,
             "#de77ae"
            ],
            [
             0.3,
             "#f1b6da"
            ],
            [
             0.4,
             "#fde0ef"
            ],
            [
             0.5,
             "#f7f7f7"
            ],
            [
             0.6,
             "#e6f5d0"
            ],
            [
             0.7,
             "#b8e186"
            ],
            [
             0.8,
             "#7fbc41"
            ],
            [
             0.9,
             "#4d9221"
            ],
            [
             1,
             "#276419"
            ]
           ],
           "sequential": [
            [
             0,
             "#0d0887"
            ],
            [
             0.1111111111111111,
             "#46039f"
            ],
            [
             0.2222222222222222,
             "#7201a8"
            ],
            [
             0.3333333333333333,
             "#9c179e"
            ],
            [
             0.4444444444444444,
             "#bd3786"
            ],
            [
             0.5555555555555556,
             "#d8576b"
            ],
            [
             0.6666666666666666,
             "#ed7953"
            ],
            [
             0.7777777777777778,
             "#fb9f3a"
            ],
            [
             0.8888888888888888,
             "#fdca26"
            ],
            [
             1,
             "#f0f921"
            ]
           ],
           "sequentialminus": [
            [
             0,
             "#0d0887"
            ],
            [
             0.1111111111111111,
             "#46039f"
            ],
            [
             0.2222222222222222,
             "#7201a8"
            ],
            [
             0.3333333333333333,
             "#9c179e"
            ],
            [
             0.4444444444444444,
             "#bd3786"
            ],
            [
             0.5555555555555556,
             "#d8576b"
            ],
            [
             0.6666666666666666,
             "#ed7953"
            ],
            [
             0.7777777777777778,
             "#fb9f3a"
            ],
            [
             0.8888888888888888,
             "#fdca26"
            ],
            [
             1,
             "#f0f921"
            ]
           ]
          },
          "colorway": [
           "#636efa",
           "#EF553B",
           "#00cc96",
           "#ab63fa",
           "#FFA15A",
           "#19d3f3",
           "#FF6692",
           "#B6E880",
           "#FF97FF",
           "#FECB52"
          ],
          "font": {
           "color": "#2a3f5f"
          },
          "geo": {
           "bgcolor": "white",
           "lakecolor": "white",
           "landcolor": "#E5ECF6",
           "showlakes": true,
           "showland": true,
           "subunitcolor": "white"
          },
          "hoverlabel": {
           "align": "left"
          },
          "hovermode": "closest",
          "mapbox": {
           "style": "light"
          },
          "paper_bgcolor": "white",
          "plot_bgcolor": "#E5ECF6",
          "polar": {
           "angularaxis": {
            "gridcolor": "white",
            "linecolor": "white",
            "ticks": ""
           },
           "bgcolor": "#E5ECF6",
           "radialaxis": {
            "gridcolor": "white",
            "linecolor": "white",
            "ticks": ""
           }
          },
          "scene": {
           "xaxis": {
            "backgroundcolor": "#E5ECF6",
            "gridcolor": "white",
            "gridwidth": 2,
            "linecolor": "white",
            "showbackground": true,
            "ticks": "",
            "zerolinecolor": "white"
           },
           "yaxis": {
            "backgroundcolor": "#E5ECF6",
            "gridcolor": "white",
            "gridwidth": 2,
            "linecolor": "white",
            "showbackground": true,
            "ticks": "",
            "zerolinecolor": "white"
           },
           "zaxis": {
            "backgroundcolor": "#E5ECF6",
            "gridcolor": "white",
            "gridwidth": 2,
            "linecolor": "white",
            "showbackground": true,
            "ticks": "",
            "zerolinecolor": "white"
           }
          },
          "shapedefaults": {
           "line": {
            "color": "#2a3f5f"
           }
          },
          "ternary": {
           "aaxis": {
            "gridcolor": "white",
            "linecolor": "white",
            "ticks": ""
           },
           "baxis": {
            "gridcolor": "white",
            "linecolor": "white",
            "ticks": ""
           },
           "bgcolor": "#E5ECF6",
           "caxis": {
            "gridcolor": "white",
            "linecolor": "white",
            "ticks": ""
           }
          },
          "title": {
           "x": 0.05
          },
          "xaxis": {
           "automargin": true,
           "gridcolor": "white",
           "linecolor": "white",
           "ticks": "",
           "title": {
            "standoff": 15
           },
           "zerolinecolor": "white",
           "zerolinewidth": 2
          },
          "yaxis": {
           "automargin": true,
           "gridcolor": "white",
           "linecolor": "white",
           "ticks": "",
           "title": {
            "standoff": 15
           },
           "zerolinecolor": "white",
           "zerolinewidth": 2
          }
         }
        },
        "title": {
         "text": "Hyperparameter Importances"
        },
        "xaxis": {
         "title": {
          "text": "Hyperparameter Importance"
         }
        },
        "yaxis": {
         "title": {
          "text": "Hyperparameter"
         }
        }
       }
      },
      "text/html": [
       "<div>                        <script type=\"text/javascript\">window.PlotlyConfig = {MathJaxConfig: 'local'};</script>\n",
       "        <script charset=\"utf-8\" src=\"https://cdn.plot.ly/plotly-2.35.2.min.js\"></script>                <div id=\"cb016957-d29e-4b95-b519-783702113c24\" class=\"plotly-graph-div\" style=\"height:100%; width:100%;\"></div>            <script type=\"text/javascript\">                                    window.PLOTLYENV=window.PLOTLYENV || {};                                    if (document.getElementById(\"cb016957-d29e-4b95-b519-783702113c24\")) {                    Plotly.newPlot(                        \"cb016957-d29e-4b95-b519-783702113c24\",                        [{\"cliponaxis\":false,\"hovertemplate\":[\"reg_alpha (FloatDistribution): 0.0018139489356067825\\u003cextra\\u003e\\u003c\\u002fextra\\u003e\",\"cat_smooth (IntDistribution): 0.027581873025403755\\u003cextra\\u003e\\u003c\\u002fextra\\u003e\",\"max_depth (IntDistribution): 0.031542837062829385\\u003cextra\\u003e\\u003c\\u002fextra\\u003e\",\"learning_rate (FloatDistribution): 0.03274596568928584\\u003cextra\\u003e\\u003c\\u002fextra\\u003e\",\"subsample (FloatDistribution): 0.059214344852610394\\u003cextra\\u003e\\u003c\\u002fextra\\u003e\",\"reg_lambda (FloatDistribution): 0.06866500724721974\\u003cextra\\u003e\\u003c\\u002fextra\\u003e\",\"num_leaves (IntDistribution): 0.13201866916465338\\u003cextra\\u003e\\u003c\\u002fextra\\u003e\",\"colsample_bytree (FloatDistribution): 0.26090056974301107\\u003cextra\\u003e\\u003c\\u002fextra\\u003e\",\"min_child_samples (IntDistribution): 0.3855167842793795\\u003cextra\\u003e\\u003c\\u002fextra\\u003e\"],\"name\":\"Objective Value\",\"orientation\":\"h\",\"text\":[\"\\u003c0.01\",\"0.03\",\"0.03\",\"0.03\",\"0.06\",\"0.07\",\"0.13\",\"0.26\",\"0.39\"],\"textposition\":\"outside\",\"x\":[0.0018139489356067825,0.027581873025403755,0.031542837062829385,0.03274596568928584,0.059214344852610394,0.06866500724721974,0.13201866916465338,0.26090056974301107,0.3855167842793795],\"y\":[\"reg_alpha\",\"cat_smooth\",\"max_depth\",\"learning_rate\",\"subsample\",\"reg_lambda\",\"num_leaves\",\"colsample_bytree\",\"min_child_samples\"],\"type\":\"bar\"}],                        {\"title\":{\"text\":\"Hyperparameter Importances\"},\"xaxis\":{\"title\":{\"text\":\"Hyperparameter Importance\"}},\"yaxis\":{\"title\":{\"text\":\"Hyperparameter\"}},\"template\":{\"data\":{\"histogram2dcontour\":[{\"type\":\"histogram2dcontour\",\"colorbar\":{\"outlinewidth\":0,\"ticks\":\"\"},\"colorscale\":[[0.0,\"#0d0887\"],[0.1111111111111111,\"#46039f\"],[0.2222222222222222,\"#7201a8\"],[0.3333333333333333,\"#9c179e\"],[0.4444444444444444,\"#bd3786\"],[0.5555555555555556,\"#d8576b\"],[0.6666666666666666,\"#ed7953\"],[0.7777777777777778,\"#fb9f3a\"],[0.8888888888888888,\"#fdca26\"],[1.0,\"#f0f921\"]]}],\"choropleth\":[{\"type\":\"choropleth\",\"colorbar\":{\"outlinewidth\":0,\"ticks\":\"\"}}],\"histogram2d\":[{\"type\":\"histogram2d\",\"colorbar\":{\"outlinewidth\":0,\"ticks\":\"\"},\"colorscale\":[[0.0,\"#0d0887\"],[0.1111111111111111,\"#46039f\"],[0.2222222222222222,\"#7201a8\"],[0.3333333333333333,\"#9c179e\"],[0.4444444444444444,\"#bd3786\"],[0.5555555555555556,\"#d8576b\"],[0.6666666666666666,\"#ed7953\"],[0.7777777777777778,\"#fb9f3a\"],[0.8888888888888888,\"#fdca26\"],[1.0,\"#f0f921\"]]}],\"heatmap\":[{\"type\":\"heatmap\",\"colorbar\":{\"outlinewidth\":0,\"ticks\":\"\"},\"colorscale\":[[0.0,\"#0d0887\"],[0.1111111111111111,\"#46039f\"],[0.2222222222222222,\"#7201a8\"],[0.3333333333333333,\"#9c179e\"],[0.4444444444444444,\"#bd3786\"],[0.5555555555555556,\"#d8576b\"],[0.6666666666666666,\"#ed7953\"],[0.7777777777777778,\"#fb9f3a\"],[0.8888888888888888,\"#fdca26\"],[1.0,\"#f0f921\"]]}],\"heatmapgl\":[{\"type\":\"heatmapgl\",\"colorbar\":{\"outlinewidth\":0,\"ticks\":\"\"},\"colorscale\":[[0.0,\"#0d0887\"],[0.1111111111111111,\"#46039f\"],[0.2222222222222222,\"#7201a8\"],[0.3333333333333333,\"#9c179e\"],[0.4444444444444444,\"#bd3786\"],[0.5555555555555556,\"#d8576b\"],[0.6666666666666666,\"#ed7953\"],[0.7777777777777778,\"#fb9f3a\"],[0.8888888888888888,\"#fdca26\"],[1.0,\"#f0f921\"]]}],\"contourcarpet\":[{\"type\":\"contourcarpet\",\"colorbar\":{\"outlinewidth\":0,\"ticks\":\"\"}}],\"contour\":[{\"type\":\"contour\",\"colorbar\":{\"outlinewidth\":0,\"ticks\":\"\"},\"colorscale\":[[0.0,\"#0d0887\"],[0.1111111111111111,\"#46039f\"],[0.2222222222222222,\"#7201a8\"],[0.3333333333333333,\"#9c179e\"],[0.4444444444444444,\"#bd3786\"],[0.5555555555555556,\"#d8576b\"],[0.6666666666666666,\"#ed7953\"],[0.7777777777777778,\"#fb9f3a\"],[0.8888888888888888,\"#fdca26\"],[1.0,\"#f0f921\"]]}],\"surface\":[{\"type\":\"surface\",\"colorbar\":{\"outlinewidth\":0,\"ticks\":\"\"},\"colorscale\":[[0.0,\"#0d0887\"],[0.1111111111111111,\"#46039f\"],[0.2222222222222222,\"#7201a8\"],[0.3333333333333333,\"#9c179e\"],[0.4444444444444444,\"#bd3786\"],[0.5555555555555556,\"#d8576b\"],[0.6666666666666666,\"#ed7953\"],[0.7777777777777778,\"#fb9f3a\"],[0.8888888888888888,\"#fdca26\"],[1.0,\"#f0f921\"]]}],\"mesh3d\":[{\"type\":\"mesh3d\",\"colorbar\":{\"outlinewidth\":0,\"ticks\":\"\"}}],\"scatter\":[{\"fillpattern\":{\"fillmode\":\"overlay\",\"size\":10,\"solidity\":0.2},\"type\":\"scatter\"}],\"parcoords\":[{\"type\":\"parcoords\",\"line\":{\"colorbar\":{\"outlinewidth\":0,\"ticks\":\"\"}}}],\"scatterpolargl\":[{\"type\":\"scatterpolargl\",\"marker\":{\"colorbar\":{\"outlinewidth\":0,\"ticks\":\"\"}}}],\"bar\":[{\"error_x\":{\"color\":\"#2a3f5f\"},\"error_y\":{\"color\":\"#2a3f5f\"},\"marker\":{\"line\":{\"color\":\"#E5ECF6\",\"width\":0.5},\"pattern\":{\"fillmode\":\"overlay\",\"size\":10,\"solidity\":0.2}},\"type\":\"bar\"}],\"scattergeo\":[{\"type\":\"scattergeo\",\"marker\":{\"colorbar\":{\"outlinewidth\":0,\"ticks\":\"\"}}}],\"scatterpolar\":[{\"type\":\"scatterpolar\",\"marker\":{\"colorbar\":{\"outlinewidth\":0,\"ticks\":\"\"}}}],\"histogram\":[{\"marker\":{\"pattern\":{\"fillmode\":\"overlay\",\"size\":10,\"solidity\":0.2}},\"type\":\"histogram\"}],\"scattergl\":[{\"type\":\"scattergl\",\"marker\":{\"colorbar\":{\"outlinewidth\":0,\"ticks\":\"\"}}}],\"scatter3d\":[{\"type\":\"scatter3d\",\"line\":{\"colorbar\":{\"outlinewidth\":0,\"ticks\":\"\"}},\"marker\":{\"colorbar\":{\"outlinewidth\":0,\"ticks\":\"\"}}}],\"scattermapbox\":[{\"type\":\"scattermapbox\",\"marker\":{\"colorbar\":{\"outlinewidth\":0,\"ticks\":\"\"}}}],\"scatterternary\":[{\"type\":\"scatterternary\",\"marker\":{\"colorbar\":{\"outlinewidth\":0,\"ticks\":\"\"}}}],\"scattercarpet\":[{\"type\":\"scattercarpet\",\"marker\":{\"colorbar\":{\"outlinewidth\":0,\"ticks\":\"\"}}}],\"carpet\":[{\"aaxis\":{\"endlinecolor\":\"#2a3f5f\",\"gridcolor\":\"white\",\"linecolor\":\"white\",\"minorgridcolor\":\"white\",\"startlinecolor\":\"#2a3f5f\"},\"baxis\":{\"endlinecolor\":\"#2a3f5f\",\"gridcolor\":\"white\",\"linecolor\":\"white\",\"minorgridcolor\":\"white\",\"startlinecolor\":\"#2a3f5f\"},\"type\":\"carpet\"}],\"table\":[{\"cells\":{\"fill\":{\"color\":\"#EBF0F8\"},\"line\":{\"color\":\"white\"}},\"header\":{\"fill\":{\"color\":\"#C8D4E3\"},\"line\":{\"color\":\"white\"}},\"type\":\"table\"}],\"barpolar\":[{\"marker\":{\"line\":{\"color\":\"#E5ECF6\",\"width\":0.5},\"pattern\":{\"fillmode\":\"overlay\",\"size\":10,\"solidity\":0.2}},\"type\":\"barpolar\"}],\"pie\":[{\"automargin\":true,\"type\":\"pie\"}]},\"layout\":{\"autotypenumbers\":\"strict\",\"colorway\":[\"#636efa\",\"#EF553B\",\"#00cc96\",\"#ab63fa\",\"#FFA15A\",\"#19d3f3\",\"#FF6692\",\"#B6E880\",\"#FF97FF\",\"#FECB52\"],\"font\":{\"color\":\"#2a3f5f\"},\"hovermode\":\"closest\",\"hoverlabel\":{\"align\":\"left\"},\"paper_bgcolor\":\"white\",\"plot_bgcolor\":\"#E5ECF6\",\"polar\":{\"bgcolor\":\"#E5ECF6\",\"angularaxis\":{\"gridcolor\":\"white\",\"linecolor\":\"white\",\"ticks\":\"\"},\"radialaxis\":{\"gridcolor\":\"white\",\"linecolor\":\"white\",\"ticks\":\"\"}},\"ternary\":{\"bgcolor\":\"#E5ECF6\",\"aaxis\":{\"gridcolor\":\"white\",\"linecolor\":\"white\",\"ticks\":\"\"},\"baxis\":{\"gridcolor\":\"white\",\"linecolor\":\"white\",\"ticks\":\"\"},\"caxis\":{\"gridcolor\":\"white\",\"linecolor\":\"white\",\"ticks\":\"\"}},\"coloraxis\":{\"colorbar\":{\"outlinewidth\":0,\"ticks\":\"\"}},\"colorscale\":{\"sequential\":[[0.0,\"#0d0887\"],[0.1111111111111111,\"#46039f\"],[0.2222222222222222,\"#7201a8\"],[0.3333333333333333,\"#9c179e\"],[0.4444444444444444,\"#bd3786\"],[0.5555555555555556,\"#d8576b\"],[0.6666666666666666,\"#ed7953\"],[0.7777777777777778,\"#fb9f3a\"],[0.8888888888888888,\"#fdca26\"],[1.0,\"#f0f921\"]],\"sequentialminus\":[[0.0,\"#0d0887\"],[0.1111111111111111,\"#46039f\"],[0.2222222222222222,\"#7201a8\"],[0.3333333333333333,\"#9c179e\"],[0.4444444444444444,\"#bd3786\"],[0.5555555555555556,\"#d8576b\"],[0.6666666666666666,\"#ed7953\"],[0.7777777777777778,\"#fb9f3a\"],[0.8888888888888888,\"#fdca26\"],[1.0,\"#f0f921\"]],\"diverging\":[[0,\"#8e0152\"],[0.1,\"#c51b7d\"],[0.2,\"#de77ae\"],[0.3,\"#f1b6da\"],[0.4,\"#fde0ef\"],[0.5,\"#f7f7f7\"],[0.6,\"#e6f5d0\"],[0.7,\"#b8e186\"],[0.8,\"#7fbc41\"],[0.9,\"#4d9221\"],[1,\"#276419\"]]},\"xaxis\":{\"gridcolor\":\"white\",\"linecolor\":\"white\",\"ticks\":\"\",\"title\":{\"standoff\":15},\"zerolinecolor\":\"white\",\"automargin\":true,\"zerolinewidth\":2},\"yaxis\":{\"gridcolor\":\"white\",\"linecolor\":\"white\",\"ticks\":\"\",\"title\":{\"standoff\":15},\"zerolinecolor\":\"white\",\"automargin\":true,\"zerolinewidth\":2},\"scene\":{\"xaxis\":{\"backgroundcolor\":\"#E5ECF6\",\"gridcolor\":\"white\",\"linecolor\":\"white\",\"showbackground\":true,\"ticks\":\"\",\"zerolinecolor\":\"white\",\"gridwidth\":2},\"yaxis\":{\"backgroundcolor\":\"#E5ECF6\",\"gridcolor\":\"white\",\"linecolor\":\"white\",\"showbackground\":true,\"ticks\":\"\",\"zerolinecolor\":\"white\",\"gridwidth\":2},\"zaxis\":{\"backgroundcolor\":\"#E5ECF6\",\"gridcolor\":\"white\",\"linecolor\":\"white\",\"showbackground\":true,\"ticks\":\"\",\"zerolinecolor\":\"white\",\"gridwidth\":2}},\"shapedefaults\":{\"line\":{\"color\":\"#2a3f5f\"}},\"annotationdefaults\":{\"arrowcolor\":\"#2a3f5f\",\"arrowhead\":0,\"arrowwidth\":1},\"geo\":{\"bgcolor\":\"white\",\"landcolor\":\"#E5ECF6\",\"subunitcolor\":\"white\",\"showland\":true,\"showlakes\":true,\"lakecolor\":\"white\"},\"title\":{\"x\":0.05},\"mapbox\":{\"style\":\"light\"}}}},                        {\"responsive\": true}                    )                };                            </script>        </div>"
      ],
      "text/plain": [
       "Figure({\n",
       "    'data': [{'cliponaxis': False,\n",
       "              'hovertemplate': [reg_alpha (FloatDistribution):\n",
       "                                0.0018139489356067825<extra></extra>, cat_smooth\n",
       "                                (IntDistribution):\n",
       "                                0.027581873025403755<extra></extra>, max_depth\n",
       "                                (IntDistribution):\n",
       "                                0.031542837062829385<extra></extra>, learning_rate\n",
       "                                (FloatDistribution):\n",
       "                                0.03274596568928584<extra></extra>, subsample\n",
       "                                (FloatDistribution):\n",
       "                                0.059214344852610394<extra></extra>, reg_lambda\n",
       "                                (FloatDistribution):\n",
       "                                0.06866500724721974<extra></extra>, num_leaves\n",
       "                                (IntDistribution):\n",
       "                                0.13201866916465338<extra></extra>,\n",
       "                                colsample_bytree (FloatDistribution):\n",
       "                                0.26090056974301107<extra></extra>,\n",
       "                                min_child_samples (IntDistribution):\n",
       "                                0.3855167842793795<extra></extra>],\n",
       "              'name': 'Objective Value',\n",
       "              'orientation': 'h',\n",
       "              'text': [<0.01, 0.03, 0.03, 0.03, 0.06, 0.07, 0.13, 0.26, 0.39],\n",
       "              'textposition': 'outside',\n",
       "              'type': 'bar',\n",
       "              'x': [0.0018139489356067825, 0.027581873025403755,\n",
       "                    0.031542837062829385, 0.03274596568928584,\n",
       "                    0.059214344852610394, 0.06866500724721974, 0.13201866916465338,\n",
       "                    0.26090056974301107, 0.3855167842793795],\n",
       "              'y': [reg_alpha, cat_smooth, max_depth, learning_rate, subsample,\n",
       "                    reg_lambda, num_leaves, colsample_bytree, min_child_samples]}],\n",
       "    'layout': {'template': '...',\n",
       "               'title': {'text': 'Hyperparameter Importances'},\n",
       "               'xaxis': {'title': {'text': 'Hyperparameter Importance'}},\n",
       "               'yaxis': {'title': {'text': 'Hyperparameter'}}}\n",
       "})"
      ]
     },
     "execution_count": 66,
     "metadata": {},
     "output_type": "execute_result"
    }
   ],
   "source": [
    "#\n",
    "optuna.visualization.plot_param_importances(study)"
   ]
  },
  {
   "cell_type": "code",
   "execution_count": 67,
   "metadata": {},
   "outputs": [],
   "source": [
    "params = hp_lgbm\n"
   ]
  },
  {
   "cell_type": "code",
   "execution_count": 68,
   "metadata": {},
   "outputs": [
    {
     "name": "stdout",
     "output_type": "stream",
     "text": [
      "Training until validation scores don't improve for 100 rounds\n",
      "Did not meet early stopping. Best iteration is:\n",
      "[2644]\tvalid_0's l2: 2.26882\n",
      "1 1.5062608700011844\n",
      "r2 0.7631480631622598\n",
      "Training until validation scores don't improve for 100 rounds\n",
      "Early stopping, best iteration is:\n",
      "[2295]\tvalid_0's l2: 2.45189\n",
      "2 1.5658518402255486\n",
      "r2 0.7457199239061719\n",
      "Training until validation scores don't improve for 100 rounds\n",
      "Did not meet early stopping. Best iteration is:\n",
      "[2626]\tvalid_0's l2: 2.43242\n",
      "3 1.5596226536987674\n",
      "r2 0.7563332077622166\n",
      "Training until validation scores don't improve for 100 rounds\n",
      "Did not meet early stopping. Best iteration is:\n",
      "[2636]\tvalid_0's l2: 2.58968\n",
      "4 1.609248340323453\n",
      "r2 0.7369370133233869\n",
      "Training until validation scores don't improve for 100 rounds\n",
      "Early stopping, best iteration is:\n",
      "[2526]\tvalid_0's l2: 2.52798\n",
      "5 1.589960688057093\n",
      "r2 0.7388894204642411\n",
      "Training until validation scores don't improve for 100 rounds\n",
      "Did not meet early stopping. Best iteration is:\n",
      "[2622]\tvalid_0's l2: 2.53554\n",
      "6 1.5923377321243173\n",
      "r2 0.7293817258227149\n",
      "Training until validation scores don't improve for 100 rounds\n",
      "Did not meet early stopping. Best iteration is:\n",
      "[2646]\tvalid_0's l2: 2.47058\n",
      "7 1.5718089383632208\n",
      "r2 0.7458851419069203\n",
      "Training until validation scores don't improve for 100 rounds\n",
      "Early stopping, best iteration is:\n",
      "[2478]\tvalid_0's l2: 2.3587\n",
      "8 1.5358064396466857\n",
      "r2 0.7598924085568868\n",
      "Training until validation scores don't improve for 100 rounds\n",
      "Did not meet early stopping. Best iteration is:\n",
      "[2643]\tvalid_0's l2: 2.37036\n",
      "9 1.539598939438622\n",
      "r2 0.7535411888079004\n",
      "Training until validation scores don't improve for 100 rounds\n",
      "Did not meet early stopping. Best iteration is:\n",
      "[2646]\tvalid_0's l2: 2.40975\n",
      "10 1.5523378538686692\n",
      "r2 0.7609233713881297\n"
     ]
    }
   ],
   "source": [
    "columns = cat_features + num_features\n",
    "preds = np.zeros(test.shape[0])\n",
    "kf = KFold(n_splits=10, random_state=48, shuffle=True)\n",
    "rmse = []  # list contains rmse for each fold\n",
    "r2 = []  # list contains r2 for each fold\n",
    "n = 0\n",
    "for trn_idx, test_idx in kf.split(train[columns], train[\"log_pSat_Pa\"]):\n",
    "    X_tr, X_val = train[columns].iloc[trn_idx], train[columns].iloc[test_idx]\n",
    "    y_tr, y_val = (\n",
    "        train[\"log_pSat_Pa\"].iloc[trn_idx],\n",
    "        train[\"log_pSat_Pa\"].iloc[test_idx],\n",
    "    )\n",
    "    model = LGBMRegressor(**params, verbose=-1)\n",
    "    model.fit(\n",
    "        X_tr,\n",
    "        y_tr,\n",
    "        eval_set=[(X_val, y_val)],\n",
    "        callbacks=[early_stopping(stopping_rounds=100)],\n",
    "    )\n",
    "    preds += model.predict(test[columns]) / kf.n_splits\n",
    "    rmse.append(root_mean_squared_error(y_val, model.predict(X_val)))\n",
    "    r2.append(r2_score(y_val, model.predict(X_val)))\n",
    "    print(n + 1, rmse[n])\n",
    "    print(\"r2\", r2[n])\n",
    "    n += 1\n"
   ]
  },
  {
   "cell_type": "code",
   "execution_count": 73,
   "metadata": {},
   "outputs": [
    {
     "data": {
      "image/png": "[encoded data removed]",
      "text/plain": [
       "<Figure size 1000x1000 with 1 Axes>"
      ]
     },
     "metadata": {},
     "output_type": "display_data"
    }
   ],
   "source": [
    "lgb.plot_importance(model, max_num_features=50, figsize=(10, 10))\n",
    "plt.show()\n"
   ]
  },
  {
   "cell_type": "code",
   "execution_count": 1,
   "metadata": {},
   "outputs": [
    {
     "ename": "NameError",
     "evalue": "name 'preds' is not defined",
     "output_type": "error",
     "traceback": [
      "\u001b[0;31m---------------------------------------------------------------------------\u001b[0m",
      "\u001b[0;31mNameError\u001b[0m                                 Traceback (most recent call last)",
      "Cell \u001b[0;32mIn[1], line 1\u001b[0m\n\u001b[0;32m----> 1\u001b[0m sub[\u001b[38;5;124m\"\u001b[39m\u001b[38;5;124mTARGET\u001b[39m\u001b[38;5;124m\"\u001b[39m] \u001b[38;5;241m=\u001b[39m \u001b[43mpreds\u001b[49m\n\u001b[1;32m      2\u001b[0m sub\u001b[38;5;241m.\u001b[39mto_csv(\u001b[38;5;124m\"\u001b[39m\u001b[38;5;124m../Results/fri-yay4.csv\u001b[39m\u001b[38;5;124m\"\u001b[39m, index\u001b[38;5;241m=\u001b[39m\u001b[38;5;28;01mFalse\u001b[39;00m)\n",
      "\u001b[0;31mNameError\u001b[0m: name 'preds' is not defined"
     ]
    }
   ],
   "source": [
    "sub[\"TARGET\"] = preds\n",
    "sub.to_csv(\"../Results/fri-yay4.csv\", index=False)"
   ]
  },
  {
   "cell_type": "code",
   "execution_count": null,
   "metadata": {},
   "outputs": [],
   "source": []
  }
 ],
 "metadata": {
  "kernelspec": {
   "display_name": "Python 3",
   "language": "python",
   "name": "python3"
  },
  "language_info": {
   "codemirror_mode": {
    "name": "ipython",
    "version": 3
   },
   "file_extension": ".py",
   "mimetype": "text/x-python",
   "name": "python",
   "nbconvert_exporter": "python",
   "pygments_lexer": "ipython3",
   "version": "3.13.0"
  }
 },
 "nbformat": 4,
 "nbformat_minor": 2
}
